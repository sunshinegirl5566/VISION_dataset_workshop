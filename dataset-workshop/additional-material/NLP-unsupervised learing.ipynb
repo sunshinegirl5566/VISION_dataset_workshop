{
 "cells": [
  {
   "cell_type": "markdown",
   "metadata": {},
   "source": [
    "# Topic modeling example\n",
    "\n",
    "This exercise introduces topic modeling using the LDA (Latent Dirichlet Allocation) algorithm and the Non-negative Matrix Factorisation (NMF) algorithm.\n",
    "\n",
    "Topic modeling is an unsupervised approach that allows you to explore large text collections.\n",
    "\n",
    "In this example, we use the gensim LDA and pyLDAvis implementations for one type of analysis, as well as the sklearn implementations of LDA and NMF to look at how the models relate to categories in the data. \n",
    "\n",
    "The main packages that are used in this example are:\n",
    "\n",
    "nltk: http://www.nltk.org/ - for preprocessing\n",
    "\n",
    "gensim: https://radimrehurek.com/gensim/ - for building the LDA model\n",
    "\n",
    "pyLDAvis: https://github.com/bmabey/pyLDAvis - for visualization and easier exploration of the generated topics\n",
    "\n",
    "sklearn: https://scikit-learn.org/stable/, https://scikit-learn.org/stable/modules/decomposition.html#nmf - for building LDA and NMF models\n",
    "\n",
    "The example is inspired by, and uses functions from: http://nbviewer.jupyter.org/github/bmabey/pyLDAvis/blob/master/notebooks/Gensim%20Newsgroup.ipynb\n",
    "and\n",
    "https://github.com/derekgreene/topic-model-tutorial/blob/master/2%20-%20NMF%20Topic%20Models.ipynb\n",
    "\n",
    "Written by: Sumithra Velupillai, with input from Sonia Priou, February 2019 "
   ]
  },
  {
   "cell_type": "code",
   "execution_count": 3,
   "metadata": {},
   "outputs": [
    {
     "name": "stdout",
     "output_type": "stream",
     "text": [
      "Requirement already satisfied: pyLDAvis==2.1.2 in /opt/anaconda3/lib/python3.8/site-packages (2.1.2)\n",
      "Requirement already satisfied: pytest in /opt/anaconda3/lib/python3.8/site-packages (from pyLDAvis==2.1.2) (7.0.1)\n",
      "Requirement already satisfied: funcy in /opt/anaconda3/lib/python3.8/site-packages (from pyLDAvis==2.1.2) (1.17)\n",
      "Requirement already satisfied: numpy>=1.9.2 in /opt/anaconda3/lib/python3.8/site-packages (from pyLDAvis==2.1.2) (1.21.4)\n",
      "Requirement already satisfied: future in /opt/anaconda3/lib/python3.8/site-packages (from pyLDAvis==2.1.2) (0.18.2)\n",
      "Requirement already satisfied: pandas>=0.17.0 in /opt/anaconda3/lib/python3.8/site-packages (from pyLDAvis==2.1.2) (1.4.1)\n",
      "Requirement already satisfied: joblib>=0.8.4 in /opt/anaconda3/lib/python3.8/site-packages (from pyLDAvis==2.1.2) (1.1.0)\n",
      "Requirement already satisfied: wheel>=0.23.0 in /opt/anaconda3/lib/python3.8/site-packages (from pyLDAvis==2.1.2) (0.37.0)\n",
      "Requirement already satisfied: jinja2>=2.7.2 in /opt/anaconda3/lib/python3.8/site-packages (from pyLDAvis==2.1.2) (2.11.3)\n",
      "Requirement already satisfied: numexpr in /opt/anaconda3/lib/python3.8/site-packages (from pyLDAvis==2.1.2) (2.8.1)\n",
      "Requirement already satisfied: scipy>=0.18.0 in /opt/anaconda3/lib/python3.8/site-packages (from pyLDAvis==2.1.2) (1.8.0)\n",
      "Requirement already satisfied: MarkupSafe>=0.23 in /opt/anaconda3/lib/python3.8/site-packages (from jinja2>=2.7.2->pyLDAvis==2.1.2) (2.0.1)\n",
      "Requirement already satisfied: python-dateutil>=2.8.1 in /opt/anaconda3/lib/python3.8/site-packages (from pandas>=0.17.0->pyLDAvis==2.1.2) (2.8.2)\n",
      "Requirement already satisfied: pytz>=2020.1 in /opt/anaconda3/lib/python3.8/site-packages (from pandas>=0.17.0->pyLDAvis==2.1.2) (2021.3)\n",
      "Requirement already satisfied: six>=1.5 in /opt/anaconda3/lib/python3.8/site-packages (from python-dateutil>=2.8.1->pandas>=0.17.0->pyLDAvis==2.1.2) (1.16.0)\n",
      "Requirement already satisfied: packaging in /opt/anaconda3/lib/python3.8/site-packages (from numexpr->pyLDAvis==2.1.2) (21.0)\n",
      "Requirement already satisfied: pyparsing>=2.0.2 in /opt/anaconda3/lib/python3.8/site-packages (from packaging->numexpr->pyLDAvis==2.1.2) (3.0.4)\n",
      "Requirement already satisfied: py>=1.8.2 in /opt/anaconda3/lib/python3.8/site-packages (from pytest->pyLDAvis==2.1.2) (1.11.0)\n",
      "Requirement already satisfied: iniconfig in /opt/anaconda3/lib/python3.8/site-packages (from pytest->pyLDAvis==2.1.2) (1.1.1)\n",
      "Requirement already satisfied: tomli>=1.0.0 in /opt/anaconda3/lib/python3.8/site-packages (from pytest->pyLDAvis==2.1.2) (2.0.1)\n",
      "Requirement already satisfied: pluggy<2.0,>=0.12 in /opt/anaconda3/lib/python3.8/site-packages (from pytest->pyLDAvis==2.1.2) (1.0.0)\n",
      "Requirement already satisfied: attrs>=19.2.0 in /opt/anaconda3/lib/python3.8/site-packages (from pytest->pyLDAvis==2.1.2) (21.2.0)\n",
      "2022-03-01 14:39:44.502961\n"
     ]
    },
    {
     "name": "stderr",
     "output_type": "stream",
     "text": [
      "[nltk_data] Downloading package punkt to /Users/lilifang/nltk_data...\n",
      "[nltk_data]   Package punkt is already up-to-date!\n",
      "[nltk_data] Downloading package stopwords to\n",
      "[nltk_data]     /Users/lilifang/nltk_data...\n",
      "[nltk_data]   Package stopwords is already up-to-date!\n"
     ]
    }
   ],
   "source": [
    "## First we need to import all the necessary packages\n",
    "\n",
    "# There is an incompatibility between the current pyLDAvis and pandas,\n",
    "# we will downgrade to solve it\n",
    "!pip install --upgrade pyLDAvis==2.1.2\n",
    "\n",
    "import string\n",
    "from gensim import models\n",
    "from gensim.corpora import Dictionary, MmCorpus\n",
    "import nltk\n",
    "nltk.download('punkt')\n",
    "nltk.download('stopwords')\n",
    "import itertools\n",
    "import zipfile\n",
    "\n",
    "try:\n",
    "    import pyLDAvis\n",
    "except ImportError as e:\n",
    "    !pip install pyldavis\n",
    "    import pyLDAvis\n",
    "\n",
    "import pyLDAvis.gensim as gensimvis\n",
    "import os\n",
    "import pandas as pd\n",
    "\n",
    "import re\n",
    "import codecs\n",
    "from sklearn.utils import shuffle\n",
    "from sklearn.pipeline import Pipeline\n",
    "from sklearn.feature_extraction.text import CountVectorizer, TfidfTransformer, TfidfVectorizer\n",
    "\n",
    "import numpy as np\n",
    "from sklearn.decomposition import NMF, LatentDirichletAllocation\n",
    "import zipfile\n",
    "\n",
    "import matplotlib.pyplot as plt\n",
    "import seaborn as sns\n",
    "\n",
    "%matplotlib inline\n",
    "\n",
    "import warnings; warnings.simplefilter('ignore')\n",
    "\n",
    "from datetime import datetime\n",
    "print(datetime.now())\n"
   ]
  },
  {
   "cell_type": "markdown",
   "metadata": {},
   "source": [
    "# 1: corpus\n",
    "The first step in building a topic model is to read a corpus, or a collection of documents.\n",
    "\n",
    "In this example, we are using documents from http://www.mtsamples.com/. \n",
    "\n",
    "These are transcribed medical transcriptions sample reports and examples from a variety of clinical disciplines, such as radiology, surgery, discharge summaries. Note that one document can belong to several categories. \n",
    "\n",
    "We will save each document, all its words, and which clinical specialty it belongs to, in a dataframe.\n"
   ]
  },
  {
   "cell_type": "code",
   "execution_count": 2,
   "metadata": {},
   "outputs": [],
   "source": [
    "file = 'emotional_physical.csv'\n",
    "df = pd.read_csv(file)"
   ]
  },
  {
   "cell_type": "markdown",
   "metadata": {},
   "source": [
    "How many documents are in the data?"
   ]
  },
  {
   "cell_type": "code",
   "execution_count": 4,
   "metadata": {},
   "outputs": [
    {
     "data": {
      "text/html": [
       "<div>\n",
       "<style scoped>\n",
       "    .dataframe tbody tr th:only-of-type {\n",
       "        vertical-align: middle;\n",
       "    }\n",
       "\n",
       "    .dataframe tbody tr th {\n",
       "        vertical-align: top;\n",
       "    }\n",
       "\n",
       "    .dataframe thead th {\n",
       "        text-align: right;\n",
       "    }\n",
       "</style>\n",
       "<table border=\"1\" class=\"dataframe\">\n",
       "  <thead>\n",
       "    <tr style=\"text-align: right;\">\n",
       "      <th></th>\n",
       "      <th>new_date</th>\n",
       "      <th>created</th>\n",
       "      <th>link_flair_text</th>\n",
       "      <th>title</th>\n",
       "      <th>selftext</th>\n",
       "      <th>label</th>\n",
       "    </tr>\n",
       "  </thead>\n",
       "  <tbody>\n",
       "    <tr>\n",
       "      <th>0</th>\n",
       "      <td>2020-03-03 04:00:00</td>\n",
       "      <td>1.583209e+09</td>\n",
       "      <td>Trigger Warning: Multiple Triggers</td>\n",
       "      <td>I didn't realize it was abuse until it was too...</td>\n",
       "      <td>My husband has always controlled the finances....</td>\n",
       "      <td>physical</td>\n",
       "    </tr>\n",
       "    <tr>\n",
       "      <th>1</th>\n",
       "      <td>2020-03-06 20:00:00</td>\n",
       "      <td>1.583527e+09</td>\n",
       "      <td>Family Abuse</td>\n",
       "      <td>Can a non-biological parent file for custody w...</td>\n",
       "      <td>Here is the situation I was posed:  \"I am in a...</td>\n",
       "      <td>physical</td>\n",
       "    </tr>\n",
       "    <tr>\n",
       "      <th>2</th>\n",
       "      <td>2020-03-07 23:00:00</td>\n",
       "      <td>1.583624e+09</td>\n",
       "      <td>Trigger Warning: Sexual Assault</td>\n",
       "      <td>Do any of you feel it in your gut? That this p...</td>\n",
       "      <td>I don__ know where to begin.   Sexual Assault,...</td>\n",
       "      <td>physical</td>\n",
       "    </tr>\n",
       "    <tr>\n",
       "      <th>3</th>\n",
       "      <td>2020-03-08 01:00:00</td>\n",
       "      <td>1.583633e+09</td>\n",
       "      <td>Trigger Warning: Sexual Assault</td>\n",
       "      <td>What do I want from the court?</td>\n",
       "      <td>A couple days ago my court services rep (not l...</td>\n",
       "      <td>physical</td>\n",
       "    </tr>\n",
       "    <tr>\n",
       "      <th>4</th>\n",
       "      <td>2020-03-08 02:00:00</td>\n",
       "      <td>1.583634e+09</td>\n",
       "      <td>Family Abuse</td>\n",
       "      <td>I called about physical abuse from my mom, but...</td>\n",
       "      <td>To preface, my mom's been emotionally abusive ...</td>\n",
       "      <td>physical</td>\n",
       "    </tr>\n",
       "  </tbody>\n",
       "</table>\n",
       "</div>"
      ],
      "text/plain": [
       "              new_date       created                     link_flair_text  \\\n",
       "0  2020-03-03 04:00:00  1.583209e+09  Trigger Warning: Multiple Triggers   \n",
       "1  2020-03-06 20:00:00  1.583527e+09                        Family Abuse   \n",
       "2  2020-03-07 23:00:00  1.583624e+09     Trigger Warning: Sexual Assault   \n",
       "3  2020-03-08 01:00:00  1.583633e+09     Trigger Warning: Sexual Assault   \n",
       "4  2020-03-08 02:00:00  1.583634e+09                        Family Abuse   \n",
       "\n",
       "                                               title  \\\n",
       "0  I didn't realize it was abuse until it was too...   \n",
       "1  Can a non-biological parent file for custody w...   \n",
       "2  Do any of you feel it in your gut? That this p...   \n",
       "3                     What do I want from the court?   \n",
       "4  I called about physical abuse from my mom, but...   \n",
       "\n",
       "                                            selftext     label  \n",
       "0  My husband has always controlled the finances....  physical  \n",
       "1  Here is the situation I was posed:  \"I am in a...  physical  \n",
       "2  I don__ know where to begin.   Sexual Assault,...  physical  \n",
       "3  A couple days ago my court services rep (not l...  physical  \n",
       "4  To preface, my mom's been emotionally abusive ...  physical  "
      ]
     },
     "execution_count": 4,
     "metadata": {},
     "output_type": "execute_result"
    }
   ],
   "source": [
    "len(df)\n",
    "\n",
    "df.head()"
   ]
  },
  {
   "cell_type": "markdown",
   "metadata": {},
   "source": [
    "How many clinical specialties are in the data? "
   ]
  },
  {
   "cell_type": "code",
   "execution_count": 5,
   "metadata": {},
   "outputs": [
    {
     "data": {
      "text/plain": [
       "physical     2172\n",
       "emotional    1981\n",
       "Name: label, dtype: int64"
      ]
     },
     "execution_count": 5,
     "metadata": {},
     "output_type": "execute_result"
    }
   ],
   "source": [
    "df['label'].value_counts()"
   ]
  },
  {
   "cell_type": "markdown",
   "metadata": {},
   "source": [
    "We need to convert the texts to words - let's use a very simple approach"
   ]
  },
  {
   "cell_type": "code",
   "execution_count": 6,
   "metadata": {},
   "outputs": [],
   "source": [
    "def getWords(row):\n",
    "    \n",
    "    return [''.join(c.lower() for c in s if c not in string.punctuation) for s in nltk.word_tokenize(row)]\n",
    "\n",
    "df['selftext'] = df['selftext'].apply(getWords)\n"
   ]
  },
  {
   "cell_type": "markdown",
   "metadata": {},
   "source": [
    "# 2 Using gensim and pyLDAVis\n",
    "\n",
    "We now need to generate representations for the vocabulary (dictionary) and the text collection (corpus)\n",
    "\n",
    "Let's use some functions that we can call later, and that we can modify later if we want.\n",
    "\n",
    "(Using all the words in the whole corpus or text collection is not typically what you want, because very common words, \n",
    "\n",
    "or very rare words will not generate good topic representations. Why?\n",
    "\n",
    "What parameters and configurations could be interesting to change below?)"
   ]
  },
  {
   "cell_type": "code",
   "execution_count": 7,
   "metadata": {},
   "outputs": [],
   "source": [
    "\n",
    "## functions from http://nbviewer.jupyter.org/github/bmabey/pyLDAvis/blob/master/notebooks/Gensim%20Newsgroup.ipynb\n",
    "\n",
    "## this function returns a set of stopwords predefined in the nltk package\n",
    "\n",
    "def nltk_stopwords():\n",
    "    return set(nltk.corpus.stopwords.words('english'))\n",
    "\n",
    "## this function prepares the data and returns a dictionary and a corpus.\n",
    "## which parameters do you think would be worth modifying/experimenting with?\n",
    "\n",
    "def prep_corpus(docs, additional_stopwords=set(), no_below=5, no_above=0.5):\n",
    "  print('Building dictionary...')\n",
    "  dictionary = Dictionary(docs)\n",
    "  stopwords = nltk_stopwords().union(additional_stopwords)\n",
    "  stopword_ids = map(dictionary.token2id.get, stopwords)\n",
    "  dictionary.filter_tokens(stopword_ids)\n",
    "  dictionary.compactify()\n",
    "  dictionary.filter_extremes(no_below=no_below, no_above=no_above, keep_n=None)\n",
    "  dictionary.compactify()\n",
    "\n",
    "  print('Building corpus...')\n",
    "  corpus = [dictionary.doc2bow(doc) for doc in docs]\n",
    "\n",
    "  return dictionary, corpus\n",
    "\n",
    "\n"
   ]
  },
  {
   "cell_type": "code",
   "execution_count": 8,
   "metadata": {
    "scrolled": true
   },
   "outputs": [
    {
     "name": "stdout",
     "output_type": "stream",
     "text": [
      "Building dictionary...\n",
      "Building corpus...\n"
     ]
    }
   ],
   "source": [
    "## now, let's use the functions we defined above to get our dictionary and corpus\n",
    "dictionary, corpus = prep_corpus(df['selftext'])"
   ]
  },
  {
   "cell_type": "code",
   "execution_count": 21,
   "metadata": {},
   "outputs": [],
   "source": [
    "## If you want, you can save your corpus and dictionary to disk for quicker processing later\n",
    "\n",
    "# MmCorpus.serialize('/Users/lilifang/KCL/KCL_Angus/Angus_codes/Workshop/violencesamples.mm', corpus)\n",
    "# dictionary.save('/Users/lilifang/KCL/KCL_Angus/Angus_codes/Workshop/violencesamples.dict')"
   ]
  },
  {
   "cell_type": "code",
   "execution_count": 9,
   "metadata": {},
   "outputs": [],
   "source": [
    "## Now we have our dictionary and corpus, let's generate an LDA model.\n",
    "## The LDA model has many parameters that can be set, all available parameters can be found here:\n",
    "## https://radimrehurek.com/gensim/models/ldamodel.html\n",
    "\n",
    "## Here, we've set the number of topics to 10.\n",
    "\n",
    "lda = models.ldamodel.LdaModel(corpus=corpus, id2word=dictionary, num_topics=10, passes=10)\n",
    "\n",
    "## You can also save the generated model to disk if you want\n",
    "#lda.save('/Users/lilifang/KCL/KCL_Angus/Angus_codes/Workshop/violencesamples_20_lda.model')"
   ]
  },
  {
   "cell_type": "code",
   "execution_count": 10,
   "metadata": {},
   "outputs": [
    {
     "data": {
      "text/plain": [
       "[(0,\n",
       "  '0.052*\"nt\" + 0.011*\"would\" + 0.010*\"even\" + 0.009*\"said\" + 0.008*\"never\" + 0.008*\"time\" + 0.008*\"told\" + 0.008*\"things\" + 0.007*\"say\" + 0.006*\"always\"'),\n",
       " (1,\n",
       "  '0.013*\"nt\" + 0.011*\"time\" + 0.009*\"would\" + 0.009*\"years\" + 0.007*\"back\" + 0.006*\"go\" + 0.006*\"got\" + 0.006*\"house\" + 0.006*\"home\" + 0.006*\"even\"'),\n",
       " (2,\n",
       "  '0.016*\"said\" + 0.009*\"back\" + 0.008*\"got\" + 0.007*\"going\" + 0.007*\"go\" + 0.007*\"police\" + 0.006*\"could\" + 0.006*\"told\" + 0.006*\"never\" + 0.006*\"call\"'),\n",
       " (3,\n",
       "  '0.018*\"abuse\" + 0.017*\"nt\" + 0.012*\"people\" + 0.010*\"could\" + 0.010*\"abusive\" + 0.008*\"abuser\" + 0.008*\"one\" + 0.008*\"think\" + 0.007*\"person\" + 0.007*\"would\"'),\n",
       " (4,\n",
       "  '0.022*\"nt\" + 0.018*\"help\" + 0.012*\"need\" + 0.012*\"abusive\" + 0.011*\"want\" + 0.011*\"parents\" + 0.010*\"one\" + 0.009*\"live\" + 0.009*\"situation\" + 0.008*\"emotionally\"'),\n",
       " (5,\n",
       "  '0.010*\"feel\" + 0.009*\"relationship\" + 0.009*\"nt\" + 0.009*\"sex\" + 0.008*\"things\" + 0.008*\"still\" + 0.008*\"want\" + 0.007*\"think\" + 0.007*\"would\" + 0.007*\"love\"'),\n",
       " (6,\n",
       "  '0.102*\"amp\" + 0.051*\"x200b\" + 0.021*\"still\" + 0.011*\"want\" + 0.010*\"later\" + 0.009*\"deleted\" + 0.009*\"story\" + 0.008*\"https\" + 0.008*\"got\" + 0.008*\"back\"'),\n",
       " (7,\n",
       "  '0.017*\"feel\" + 0.013*\"would\" + 0.011*\"relationship\" + 0.010*\"time\" + 0.009*\"things\" + 0.009*\"want\" + 0.008*\"friends\" + 0.008*\"even\" + 0.008*\"really\" + 0.007*\"never\"'),\n",
       " (8,\n",
       "  '0.026*\"mom\" + 0.015*\"dad\" + 0.010*\"sister\" + 0.009*\"family\" + 0.007*\"im\" + 0.007*\"abuse\" + 0.007*\"brother\" + 0.006*\"day\" + 0.005*\"got\" + 0.005*\"go\"'),\n",
       " (9,\n",
       "  '0.076*\"father\" + 0.065*\"mother\" + 0.037*\"brother\" + 0.015*\"school\" + 0.014*\"years\" + 0.011*\"dad\" + 0.011*\"also\" + 0.010*\"sometimes\" + 0.010*\"remember\" + 0.010*\"little\"')]"
      ]
     },
     "execution_count": 10,
     "metadata": {},
     "output_type": "execute_result"
    }
   ],
   "source": [
    "## you can now look at these topics by printing them from the generated model\n",
    "\n",
    "lda.print_topics()"
   ]
  },
  {
   "cell_type": "code",
   "execution_count": 11,
   "metadata": {},
   "outputs": [
    {
     "data": {
      "text/html": [
       "\n",
       "<link rel=\"stylesheet\" type=\"text/css\" href=\"https://cdn.rawgit.com/bmabey/pyLDAvis/files/ldavis.v1.0.0.css\">\n",
       "\n",
       "\n",
       "<div id=\"ldavis_el99321403799896259841248918203\"></div>\n",
       "<script type=\"text/javascript\">\n",
       "\n",
       "var ldavis_el99321403799896259841248918203_data = {\"mdsDat\": {\"x\": [0.024816582980903848, 0.01659101212752648, -0.009278024820301418, 0.05328410421303854, 0.06433372115744271, 0.08226781924591585, 0.048960481190885634, 0.09433780026760155, -0.03008896262566128, -0.3452245337373511], \"y\": [0.07314440227422848, 0.018288305803649353, 0.027677444019440323, 0.007962312850461641, 0.08145821178137766, -0.049090009215846026, 0.0752861971054548, 0.034698517861125065, -0.32830236259412987, 0.058876980114238524], \"topics\": [1, 2, 3, 4, 5, 6, 7, 8, 9, 10], \"cluster\": [1, 1, 1, 1, 1, 1, 1, 1, 1, 1], \"Freq\": [24.199205373510267, 18.20082428955488, 18.06175723618937, 15.089403648390128, 7.909598418924643, 6.392816274249843, 3.93745534966943, 3.8724082183623896, 1.5896291699435128, 0.7469020212055464]}, \"tinfo\": {\"Term\": [\"nt\", \"mother\", \"still\", \"father\", \"mom\", \"brother\", \"want\", \"feel\", \"years\", \"amp\", \"dad\", \"back\", \"help\", \"abuse\", \"got\", \"abusive\", \"school\", \"relationship\", \"also\", \"later\", \"family\", \"leave\", \"go\", \"never\", \"said\", \"people\", \"parents\", \"little\", \"sometimes\", \"would\", \"realise\", \"trusting\", \"mindset\", \"promises\", \"codependent\", \"platform\", \"selfesteem\", \"phase\", \"rat\", \"interests\", \"terribly\", \"suppose\", \"draining\", \"facetime\", \"drawn\", \"narcissists\", \"irl\", \"matters\", \"ood\", \"criteria\", \"neutral\", \"blackmailing\", \"bombing\", \"atleast\", \"value\", \"aybe\", \"bout\", \"relax\", \"conflicted\", \"trump\", \"closure\", \"remarks\", \"skip\", \"nc\", \"esteem\", \"wonderful\", \"sympathy\", \"flags\", \"breakup\", \"flag\", \"dated\", \"supportive\", \"pursue\", \"relationship\", \"feel\", \"perfect\", \"friends\", \"ie\", \"texting\", \"felt\", \"ex\", \"miss\", \"feelings\", \"trust\", \"dating\", \"ways\", \"feeling\", \"cheating\", \"broke\", \"would\", \"love\", \"much\", \"really\", \"someone\", \"person\", \"friend\", \"things\", \"always\", \"time\", \"met\", \"everything\", \"want\", \"life\", \"months\", \"anyone\", \"made\", \"still\", \"told\", \"even\", \"never\", \"back\", \"abusive\", \"one\", \"could\", \"bad\", \"think\", \"way\", \"cat\", \"driving\", \"city\", \"boyfriends\", \"park\", \"vet\", \"flip\", \"evening\", \"tight\", \"stepfather\", \"screwing\", \"increasingly\", \"affair\", \"smaller\", \"festival\", \"cake\", \"joint\", \"club\", \"cats\", \"airport\", \"complained\", \"library\", \"screw\", \"afternoon\", \"nearby\", \"instructions\", \"outing\", \"mcdonald\", \"moron\", \"unfamiliar\", \"sorts\", \"fill\", \"hotel\", \"drives\", \"throws\", \"cooking\", \"blow\", \"student\", \"debt\", \"basement\", \"stomach\", \"jobs\", \"spend\", \"money\", \"bed\", \"pay\", \"birthday\", \"apartment\", \"son\", \"drinking\", \"car\", \"fight\", \"f\", \"weekend\", \"years\", \"house\", \"room\", \"moved\", \"home\", \"door\", \"work\", \"kids\", \"5\", \"time\", \"buy\", \"hand\", \"course\", \"wife\", \"nt\", \"ago\", \"would\", \"day\", \"go\", \"back\", \"leave\", \"got\", \"two\", \"away\", \"stay\", \"went\", \"every\", \"even\", \"together\", \"one\", \"also\", \"things\", \"want\", \"parents\", \"much\", \"told\", \"said\", \"started\", \"anything\", \"never\", \"restraining\", \"charges\", \"probation\", \"psych\", \"attorney\", \"contacted\", \"exploded\", \"gun\", \"filed\", \"county\", \"officer\", \"neighbor\", \"landlord\", \"poison\", \"thru\", \"400\", \"enables\", \"appreciation\", \"dispute\", \"lawyer\", \"da\", \"recording\", \"charge\", \"tuesday\", \"officers\", \"arrived\", \"plane\", \"apt\", \"2021\", \"rushed\", \"cops\", \"arrested\", \"speaks\", \"bruises\", \"press\", \"granted\", \"police\", \"black\", \"unstable\", \"cps\", \"begging\", \"videos\", \"order\", \"threatening\", \"hands\", \"fianc\\u00e3\\u00a9\", \"kill\", \"gon\", \"respond\", \"vacation\", \"neck\", \"call\", \"court\", \"phone\", \"said\", \"texted\", \"eye\", \"panic\", \"called\", \"lease\", \"state\", \"scared\", \"na\", \"threatened\", \"back\", \"going\", \"got\", \"last\", \"house\", \"go\", \"night\", \"saying\", \"could\", \"next\", \"stop\", \"told\", \"another\", \"never\", \"home\", \"went\", \"face\", \"one\", \"day\", \"even\", \"asked\", \"talk\", \"want\", \"would\", \"still\", \"things\", \"think\", \"wash\", \"insists\", \"cream\", \"washing\", \"compares\", \"stores\", \"logic\", \"team\", \"plates\", \"mask\", \"shaming\", \"slaps\", \"topics\", \"supports\", \"suggestion\", \"concerning\", \"ignores\", \"forms\", \"overprotective\", \"healthcare\", \"thick\", \"lingering\", \"brains\", \"assumes\", \"tripping\", \"accuses\", \"virtually\", \"sweep\", \"acquaintances\", \"bias\", \"xmas\", \"nurse\", \"specific\", \"messy\", \"denies\", \"expects\", \"store\", \"nt\", \"tells\", \"attitude\", \"explained\", \"attend\", \"chores\", \"simply\", \"ridiculous\", \"ca\", \"tv\", \"overreacting\", \"opinions\", \"wo\", \"example\", \"breakfast\", \"fit\", \"lazy\", \"say\", \"mentioned\", \"ask\", \"properly\", \"medical\", \"says\", \"etc\", \"even\", \"asked\", \"told\", \"said\", \"never\", \"tell\", \"something\", \"would\", \"whenever\", \"wrong\", \"makes\", \"always\", \"things\", \"mom\", \"time\", \"upset\", \"school\", \"dad\", \"go\", \"really\", \"way\", \"anything\", \"got\", \"talk\", \"us\", \"one\", \"want\", \"could\", \"feel\", \"make\", \"day\", \"also\", \"immediate\", \"survivors\", \"strained\", \"obsessively\", \"darkness\", \"journal\", \"powerful\", \"romantically\", \"guise\", \"spaces\", \"writings\", \"behavioral\", \"unlocked\", \"noting\", \"hyper\", \"views\", \"figures\", \"caution\", \"surrounding\", \"brunt\", \"scissors\", \"females\", \"optimistic\", \"addictions\", \"creeping\", \"success\", \"indicate\", \"neglect\", \"faced\", \"abusers\", \"dynamic\", \"common\", \"abuser\", \"status\", \"facing\", \"aspect\", \"birth\", \"subreddit\", \"relationships\", \"abuse\", \"helpless\", \"others\", \"become\", \"children\", \"sharing\", \"people\", \"courts\", \"victim\", \"domestic\", \"emotional\", \"abusive\", \"violence\", \"partner\", \"control\", \"safe\", \"side\", \"person\", \"could\", \"type\", \"understanding\", \"nt\", \"book\", \"think\", \"may\", \"idea\", \"husband\", \"help\", \"emotionally\", \"sure\", \"years\", \"one\", \"life\", \"relationship\", \"else\", \"good\", \"would\", \"want\", \"since\", \"time\", \"two\", \"going\", \"much\", \"isnt\", \"spank\", \"shel\", \"workout\", \"spoiled\", \"bio\", \"picks\", \"counting\", \"mommy\", \"reflecting\", \"arent\", \"eldest\", \"thumb\", \"havent\", \"desk\", \"spectrum\", \"npd\", \"kicks\", \"uck\", \"criticizes\", \"dish\", \"intercourse\", \"lesser\", \"fails\", \"od\", \"disgust\", \"unsupportive\", \"christ\", \"aborted\", \"washed\", \"meal\", \"sink\", \"appointments\", \"stepdad\", \"yo\", \"aggressively\", \"buddy\", \"loses\", \"sister\", \"daughters\", \"mom\", \"gym\", \"lights\", \"alot\", \"foster\", \"dad\", \"doesnt\", \"uses\", \"shop\", \"grandma\", \"im\", \"till\", \"didnt\", \"wasnt\", \"main\", \"dont\", \"joke\", \"clean\", \"diagnosed\", \"brother\", \"family\", \"says\", \"removed\", \"health\", \"trouble\", \"abuse\", \"mental\", \"goes\", \"old\", \"parents\", \"depression\", \"kids\", \"times\", \"year\", \"2\", \"day\", \"ie\", \"work\", \"got\", \"go\", \"help\", \"lot\", \"even\", \"well\", \"since\", \"years\", \"make\", \"things\", \"home\", \"always\", \"really\", \"one\", \"would\", \"went\", \"satisfied\", \"pleasure\", \"chosen\", \"interfere\", \"toxicity\", \"regrets\", \"manipulator\", \"cum\", \"healthier\", \"textbook\", \"swallow\", \"disliked\", \"comparison\", \"adore\", \"vented\", \"rages\", \"acceptance\", \"sneaky\", \"clarification\", \"overdramatic\", \"48\", \"root\", \"weirdly\", \"pill\", \"whatnot\", \"touchy\", \"conservative\", \"instinctively\", \"elevated\", \"constructive\", \"compassionate\", \"increasing\", \"commitment\", \"45\", \"throwaway\", \"exboyfriend\", \"sex\", \"disagreement\", \"monster\", \"checking\", \"accepting\", \"manipulate\", \"beliefs\", \"sibling\", \"suspect\", \"wondered\", \"husband\", \"signs\", \"loving\", \"wonder\", \"subtle\", \"affection\", \"insight\", \"experience\", \"vent\", \"youe\", \"difficult\", \"relationship\", \"anyways\", \"love\", \"realized\", \"still\", \"past\", \"think\", \"feel\", \"emotionally\", \"basically\", \"maybe\", \"things\", \"see\", \"want\", \"family\", \"makes\", \"trying\", \"never\", \"nt\", \"emotional\", \"would\", \"everything\", \"way\", \"us\", \"really\", \"even\", \"going\", \"got\", \"anything\", \"much\", \"also\", \"abuse\", \"one\", \"disability\", \"funds\", \"suggestions\", \"shelters\", \"link\", \"judgemental\", \"department\", \"independence\", \"named\", \"gt\", \"section\", \"recommend\", \"boss\", \"entry\", \"assessment\", \"martial\", \"assistant\", \"donate\", \"internship\", \"deadline\", \"erase\", \"minimum\", \"migraines\", \"transitional\", \"mute\", \"daylight\", \"resorting\", \"ssi\", \"counsellor\", \"unbearable\", \"housing\", \"research\", \"options\", \"lt\", \"shes\", \"notes\", \"highly\", \"basic\", \"spouse\", \"autistic\", \"offer\", \"cause\", \"government\", \"pandemic\", \"services\", \"learn\", \"help\", \"siblings\", \"situation\", \"able\", \"living\", \"live\", \"parents\", \"advice\", \"need\", \"abusive\", \"ca\", \"mental\", \"nt\", \"money\", \"move\", \"emotionally\", \"job\", \"stuck\", \"want\", \"one\", \"family\", \"place\", \"leave\", \"abuse\", \"school\", \"life\", \"even\", \"take\", \"say\", \"feel\", \"something\", \"really\", \"55\", \"spit\", \"scenes\", \"stone\", \"sticks\", \"nanny\", \"jake\", \"suffers\", \"mistreated\", \"whipped\", \"iron\", \"gofundme\", \"36m\", \"click\", \"incest\", \"prefer\", \"father\", \"organization\", \"submissive\", \"church\", \"balcony\", \"atmosphere\", \"hero\", \"immigrants\", \"utmmediumandroidapp\", \"cowardly\", \"30f\", \"famous\", \"provides\", \"teenagers\", \"disappointment\", \"developed\", \"bullied\", \"mother\", \"2016\", \"aunt\", \"creating\", \"beating\", \"brother\", \"addition\", \"21\", \"school\", \"beat\", \"slapped\", \"remember\", \"beaten\", \"sometimes\", \"child\", \"girl\", \"psychological\", \"little\", \"dad\", \"used\", \"sisters\", \"years\", \"also\", \"mom\", \"older\", \"saw\", \"violence\", \"still\", \"never\", \"go\", \"hit\", \"would\", \"afraid\", \"came\", \"home\", \"year\", \"old\", \"went\", \"amp\", \"x200b\", \"utmsourceshare\", \"debating\", \"uncles\", \"utmmediumiosapp\", \"utmnameiossmf\", \"transparent\", \"75\", \"rock\", \"heartfelt\", \"bfs\", \"indirectly\", \"jacket\", \"vomited\", \"participating\", \"consensual\", \"danced\", \"faded\", \"songs\", \"crawled\", \"praise\", \"unannounced\", \"https\", \"ipad\", \"bonkers\", \"stealing\", \"coward\", \"10th\", \"chicken\", \"discovered\", \"youl\", \"deleted\", \"beautiful\", \"card\", \"sob\", \"instagram\", \"connecting\", \"powerless\", \"comfort\", \"still\", \"story\", \"later\", \"eventually\", \"doubt\", \"nudes\", \"posted\", \"want\", \"true\", \"else\", \"got\", \"back\", \"leave\", \"became\", \"see\", \"afraid\", \"feel\", \"gave\", \"may\", \"used\", \"door\", \"sure\", \"long\", \"friend\", \"asked\", \"well\", \"us\", \"house\"], \"Freq\": [8679.0, 1209.0, 2572.0, 898.0, 1982.0, 952.0, 3916.0, 4349.0, 2760.0, 486.0, 1237.0, 3242.0, 2114.0, 2320.0, 3233.0, 1989.0, 792.0, 2736.0, 2347.0, 770.0, 1931.0, 1709.0, 3006.0, 3575.0, 4046.0, 1837.0, 1418.0, 920.0, 790.0, 5532.0, 73.85018836669906, 53.19084490391508, 52.337692650771885, 54.53452145449662, 50.22375713883876, 43.10791156443121, 43.24376172552821, 39.392216404774544, 39.8207250678844, 38.856747212429006, 36.11973194835041, 52.42426313014323, 38.376601351955394, 38.74420827332478, 32.087923913833436, 31.669509622711043, 31.21833838991871, 31.763953399090116, 30.30490396982799, 29.993087857340356, 28.819362685520534, 29.681477524206333, 28.470461554740815, 28.398966649753586, 40.074960985806705, 26.69601053142759, 26.96708009516812, 45.334131028008656, 26.02034297077397, 25.548088301164917, 57.69422316801714, 29.29552268938399, 42.96153086858638, 47.735786337467985, 76.0375110589798, 82.06063695146295, 39.07698032889918, 118.72910415027052, 207.71970976479548, 51.27222531280834, 142.7143251015444, 135.54889117638078, 51.34335786719465, 1695.0316627815732, 2539.7890487779882, 137.73438422180007, 1267.8816802212546, 1044.7359806739273, 113.16743398479603, 768.9920762876206, 763.8476640227706, 110.31574370245345, 385.7194411356704, 253.4045156521427, 239.8754536327685, 183.90228845599881, 493.8755305219754, 150.7440233649462, 467.78965130054047, 2016.704946290458, 718.2795260819925, 1016.6542206610332, 1169.6368907731292, 652.1442606696334, 708.952245843218, 582.479754085846, 1404.0725403524032, 988.3145743834222, 1533.5749631000585, 322.20269115722726, 725.2155428686649, 1312.5653606063554, 871.76186425237, 602.1822503951237, 539.6103318453216, 732.9410366189306, 927.1752022241765, 1056.6006098120108, 1175.6695540913058, 1071.2426518327115, 970.0537503316871, 720.9162216744535, 880.0674768412506, 793.1764111308344, 634.1912825309004, 685.6370514142302, 661.9088667694734, 104.33942264900591, 154.856921772456, 100.09561435117081, 52.243056320645465, 51.43061892266634, 50.368403439516726, 50.30396791398229, 53.60650140880644, 43.677031000258296, 43.357013448164054, 40.93849256591326, 40.68332775021274, 38.5498594583647, 37.52471854342896, 43.5282381306583, 33.49996613434353, 53.61350651371807, 34.443575972325036, 32.86968501629281, 32.70415997247306, 32.987779241697915, 31.768423307158805, 31.428833855318658, 31.595620625527395, 32.39612377416859, 30.695898678260274, 29.61795703739838, 28.350971772826085, 27.70356145731853, 29.21593736383135, 54.53963723545753, 54.17744101133051, 105.48730430706192, 52.31213163468765, 42.09398832215131, 64.97604239026941, 78.24723046837796, 73.21481962520255, 51.560408510546395, 58.17983226419946, 76.79142700854344, 57.40461411239348, 240.9226635563135, 481.3622238543984, 309.13884623032095, 205.0241185458725, 172.30389931992048, 246.73834068335475, 274.8545304097189, 150.20827762775363, 350.7725601303749, 358.06354868952627, 175.44019447493963, 157.9051316025056, 1006.2883674617354, 702.7394199915057, 381.71176003167557, 325.7266116591139, 693.4183910583658, 271.99790111457247, 580.2038369466904, 403.53075746571807, 232.1849223212913, 1233.3971794669444, 144.2468727850867, 211.55500275305602, 207.0312796146741, 165.27587472785547, 1481.620413973758, 409.139524923381, 1070.5629572718044, 632.3340915635571, 729.9211650603778, 760.0291463458238, 514.8329246657249, 722.3751395404668, 386.60128288475147, 440.57765517873366, 316.0229330759308, 474.1824825521146, 422.81044810914153, 679.5676365338363, 417.7685760003506, 630.4245578358295, 517.6366354738155, 629.2135696707021, 622.6359040136189, 417.014231849924, 487.49436214741877, 539.448257696539, 537.0556207105827, 429.21229303507096, 424.2570931176939, 422.33472006223195, 159.93469687083459, 169.82143436818828, 73.59414431622808, 67.74497988870867, 62.35500711914383, 65.50903491157099, 60.36891839053775, 95.00130094621895, 58.706221750981506, 51.32634055604556, 51.91330507746504, 49.55310977190359, 48.12472682105275, 47.73658352626508, 48.36795536147372, 45.718020697364764, 43.84461302332684, 42.45069081575555, 42.25258411281929, 100.92484261599152, 40.51634829384905, 39.69918026442149, 48.344416146269694, 36.895279099503554, 35.767510290734904, 34.84211863259697, 31.503049236395736, 31.390828949444334, 36.145523375745405, 36.356668466677654, 267.71033925747406, 223.79967953684923, 39.865433901677406, 127.05524127409596, 57.740552993126386, 60.168010354047425, 762.4976445206036, 119.30010826095429, 72.52253239547596, 74.77326200309923, 128.02641920997755, 77.40006479728855, 387.6078694614108, 178.43594573112762, 172.53240404703902, 71.42338794017456, 361.4239549818468, 225.15429626337345, 165.34782154369373, 132.22907396465123, 120.24380040682745, 691.9106099049717, 194.49245510597535, 608.5064893052255, 1886.726983368717, 162.88218057070554, 128.26201169576424, 221.56432888315925, 595.7600810668471, 103.42494099336346, 240.8870663040109, 514.3672578587978, 244.2548368482822, 236.969206003244, 1048.7175665222217, 859.7073245204532, 954.3594103577091, 516.5525517870497, 583.0358965187379, 768.6904147121862, 472.68437617624835, 459.1053808877598, 728.7493681768194, 368.3487713940044, 415.1347412434576, 716.4449228942036, 372.58721911137127, 710.1792846412575, 508.3927713173113, 491.78173813238055, 315.05262256514493, 643.1444611724318, 535.6839437689066, 678.5302922705968, 409.4105917514941, 429.51085115335735, 555.5433218740777, 555.7291781684206, 430.31907761990317, 452.4007179073317, 415.39854072073985, 57.08008671494481, 55.09359656212141, 51.91895014924729, 49.93849073673197, 41.83276571695286, 39.08500199315756, 34.769675360955944, 38.517953406881205, 32.96793172124305, 27.127126259741555, 26.163973517485104, 25.91888612817453, 25.815116669247082, 25.160929185429413, 24.535863315310365, 24.15323208980578, 23.2211242708883, 23.06742825996996, 22.73591606632754, 26.263056739725418, 22.591227113898945, 22.31153688762176, 22.265272852756, 21.880078144206486, 21.845387440301987, 24.042834953277954, 21.522059424302455, 20.710821644080568, 20.359052634472686, 20.30636036600841, 32.845121636347514, 30.13075850665444, 119.46047448863546, 50.81433721585114, 28.565669819641876, 32.4555782117294, 105.63414597837988, 4952.833746631797, 332.5389927313971, 53.614553317423166, 78.71647497256707, 39.145817071879534, 72.54524798322355, 116.93513964188311, 93.53729543292432, 505.4935954123028, 88.41064733770283, 66.26075353738133, 71.5365243786113, 171.66756124790317, 145.32537684383016, 76.25656333727903, 56.51435752745002, 89.00385795605575, 706.3043716784181, 93.98676131975257, 280.9016630916339, 82.99254879366073, 94.80173135276458, 350.2518293227155, 311.7392874034373, 954.7552069518215, 428.9209342527701, 797.2932804431719, 882.1478161228146, 807.5280213678751, 481.092137828262, 524.6297759779809, 1022.7313462708222, 212.8188560994688, 324.3568457910719, 279.52297225827874, 581.2510299115763, 748.616893665643, 487.9760856291868, 805.8134835719419, 249.0246537980367, 275.78833171899834, 357.2114486884311, 580.3675627189874, 544.9438979235023, 448.4746361918591, 390.1725407356522, 506.0940585398144, 372.8177549426438, 342.1488128361645, 503.1842626037082, 494.1032285205521, 395.236979038852, 407.8806687748706, 362.2799930275853, 366.6286644653572, 359.66081071231986, 39.760376653946665, 37.424244408320114, 36.67122492755932, 34.80479077996484, 31.726982553470208, 31.343599160989324, 37.12917596731117, 24.562484753359694, 22.838062217466547, 22.309770658336216, 22.263275175855153, 21.98766526753145, 21.811607072303225, 21.866996923158524, 21.701909374964966, 31.826532804397615, 21.36460620923306, 21.354912034924137, 27.78800997136764, 20.3202409673714, 20.568011195628454, 20.449929426572645, 20.043057766203592, 19.63194143192522, 19.36970012627218, 20.5756861158317, 23.432299018754755, 38.575924013564745, 36.083079518453765, 93.7412150965604, 37.97651698597844, 68.09413793337718, 416.81101102007256, 26.264185197433736, 36.575800914927505, 35.05612869831447, 79.76009852372685, 59.61986799187885, 201.31820141105175, 899.6163813478565, 48.522424666453304, 182.6435311798553, 142.15752437744874, 245.3350984600293, 66.30028580881361, 595.4144899390959, 36.21622454297421, 165.3211558618796, 165.2717696731227, 344.161096601301, 486.3511629913318, 183.5107372139315, 195.75156380296835, 200.539485788616, 154.23474020804346, 169.902795176109, 347.4222694768733, 518.7148144635028, 109.4715291810775, 86.82674511220814, 870.6123008137456, 78.32288673763055, 377.6080625484016, 142.54902280272213, 146.31714689443248, 193.07125766384556, 330.1898818306424, 258.40667046013067, 206.25221153298193, 344.7754411378979, 382.1193072430339, 307.06846606274956, 306.0049434948252, 195.87904146404665, 228.85938863907217, 346.30720840879195, 306.6206215287026, 227.05069843292685, 272.29792218333733, 200.6146061354177, 188.71123623976015, 184.2090452898218, 61.55502267568943, 41.31617648278306, 64.43103475697127, 32.359443487137526, 36.34808564720109, 28.68135073000168, 25.422289665262213, 24.691600064256804, 25.95127850330025, 23.680735061412214, 24.516056726396183, 23.45563986511091, 21.591970006398224, 20.394835868716918, 18.247407464001153, 17.965134410153095, 16.636114095462965, 14.834305471711781, 14.36676188356081, 14.359283606427192, 14.361320987871308, 13.544717469461197, 13.476894175691362, 13.303452035166957, 13.120081796317724, 15.991957662370792, 12.943932207482144, 12.698412380381168, 12.582626716594278, 12.985229362101977, 34.83220767333598, 31.18591413887893, 30.838604418549448, 30.541288540802235, 75.51141646509447, 35.600799187146286, 23.705731982703348, 18.39194927783424, 410.9837615201437, 54.140509436037384, 1055.603800523568, 39.87374351007157, 77.19738033626977, 40.24374332537031, 33.25365776632452, 610.7042464490719, 65.26648405373943, 48.19379007732809, 48.12530853444899, 88.29026050503855, 293.27707865950714, 64.34520947275004, 109.09062982319669, 74.67682750109388, 62.840038387448544, 204.83808458194508, 69.94135268287489, 113.65225597002306, 72.449477963952, 265.6897804930311, 363.2597982217729, 203.79613651254417, 47.85788685682378, 143.92717697719553, 74.9330695798436, 284.4555668121206, 151.57615925863306, 105.52492866980859, 155.2151494187719, 201.44833566083736, 106.35601957750141, 164.89141605206294, 195.1580929913966, 199.73723778238048, 150.5978758140334, 224.43585995831995, 189.92335572310085, 175.53184154583528, 218.37786931930202, 207.39544736910548, 184.29371626027762, 155.08863323090577, 206.49533130167492, 148.58085873015347, 162.130352937316, 181.42109351193182, 164.3678042938223, 181.61409167805783, 160.2690466301626, 163.37097169658526, 165.1548102378311, 165.97566224016904, 170.03862627901475, 156.2629212792149, 28.11494578412809, 25.863875806818758, 21.282469954325855, 20.618207172582686, 26.395797293615196, 15.398290856682618, 14.664556501415946, 14.016355072312749, 13.461397707316827, 13.13507405381107, 12.734570912847461, 12.690936091490572, 12.677666878283526, 12.559545405016049, 12.28670621593453, 12.282282174361715, 12.232818507181346, 12.18528007691445, 12.100378220847, 12.029907998913181, 11.95529542413453, 12.652416795664081, 11.769904935717909, 12.50758511680989, 11.659461845890977, 11.627033431913995, 12.311435138013314, 11.39152200261838, 11.230687929230072, 12.337095743740207, 14.564985723035733, 12.880204713092446, 13.857936825508874, 42.00158574477721, 27.45233819661601, 20.486085696746677, 217.57673452136837, 23.358092254650725, 43.25061540098868, 33.46133087648041, 31.169869501514167, 47.6847045996472, 14.262495701853155, 40.42309237001472, 27.404141036894792, 15.191315878499578, 159.84694874011325, 46.479784341150875, 52.23958367177161, 49.40632787485038, 30.25807729929263, 35.31565210677687, 23.97412002702447, 74.71066942075188, 41.59004069682781, 68.45793665249667, 65.25157066962193, 233.01606021972736, 49.385120425810314, 163.3990625248011, 67.50923813176442, 193.13473606806502, 121.19383984966136, 176.38049029899346, 238.44565630790137, 134.3774313294477, 84.26920210922624, 92.52887462387233, 198.71796678981218, 134.9143256777159, 190.76327509435166, 142.19646988574357, 97.32924651425057, 127.88795192318526, 160.48805190442243, 219.3107841272282, 103.06488321175988, 170.73810931163703, 113.62909269907112, 120.30740108871399, 106.37319867782891, 131.79988193277268, 144.76961707718127, 123.31576100427444, 126.54774828747216, 105.43609961851563, 107.54972878866053, 103.56383474345887, 102.34626396792807, 100.67595316964447, 63.104937077255535, 36.556297001901605, 35.66777423383468, 30.092345548818614, 29.46665831968998, 27.81953155634113, 33.1962909234217, 21.27969965983923, 20.50932703729498, 19.8107029532695, 19.43270094511202, 19.181976211284677, 65.44776437999852, 17.576652413727242, 17.408620182748752, 16.638850308632414, 16.516437972919963, 16.26344398432245, 15.862690728497611, 15.778795592205892, 15.57803741451666, 30.216577583466638, 15.395526335909953, 15.126928178391259, 15.280514490990564, 14.465584299388139, 14.293937009548653, 13.045576293430951, 11.548980581053936, 19.57917453992066, 43.835951768086005, 36.39919584989487, 43.95176250522101, 25.461344906484978, 93.35084173625035, 33.64818902981736, 29.47318117441105, 29.017105348507908, 47.46167111552821, 56.45265609043273, 71.27157982216073, 188.48813245679256, 38.75211668331905, 76.3492299349358, 48.20267657476286, 51.03758139454506, 453.93245822030934, 75.96117448387857, 213.8634575745701, 189.45784443590478, 172.67089125048992, 226.28888304782905, 274.98025831233923, 190.58216926116214, 299.0773215241726, 294.6798751598564, 180.05832488045877, 146.48661761078174, 542.0941485431532, 148.36718125221674, 163.59293297036254, 195.45643115144495, 146.3737991401891, 99.9043636101102, 281.41897450701276, 255.68669632974087, 173.2579023607786, 121.67602625047027, 156.76718642647114, 167.63191439314187, 116.69204982924259, 147.21068311894976, 163.79510137893416, 127.96933833507542, 132.00608629574657, 139.49693494815003, 122.89698553627487, 121.94287343096441, 24.02774241123248, 25.167674725608478, 23.38083697034998, 25.565293878206784, 18.429051894849945, 16.425160634206758, 16.1750080502112, 17.641054270225904, 21.755990635940204, 15.003273162203472, 14.528789953760768, 14.398247300561245, 13.355360088255368, 12.858825716250745, 7.408999360873681, 17.57916760916327, 770.9051424156951, 4.83565737135923, 25.08777099444579, 25.62602861281469, 3.8749230853906558, 3.6510303105398214, 3.585776615467428, 3.5954774818254513, 3.313976629886685, 3.1770446050276906, 12.632554448357931, 4.746433320970882, 4.987460707976993, 2.758430711215616, 16.143721492613782, 39.87988663401653, 50.744462008789064, 656.885524809671, 27.216860204625593, 38.410012021692594, 9.250206281642564, 67.07085200211392, 369.3843537926005, 16.6039172867124, 43.86601293795403, 154.00731985446242, 69.46218549775845, 39.604341124305186, 101.48395897947123, 28.727136874196344, 105.61578282209885, 96.32769167760009, 74.02152921253065, 36.942873822416225, 99.73901138236941, 112.36267719006342, 84.82535339660308, 34.59886804796877, 143.52604918293548, 110.83423534556272, 97.87605949889723, 47.42488736896295, 54.698484827694415, 54.49004256027639, 83.01759994814518, 88.67716037417877, 84.76151316230803, 57.79792397115187, 94.5479982172312, 50.33198300492478, 59.40391632562917, 59.34865206624606, 55.1710708837923, 49.905492813978505, 49.502647676668246, 485.96352653824647, 241.66093511987117, 12.250431007799568, 11.856648865317727, 6.019150587581316, 4.506909522868506, 4.506908142145706, 3.4626053561869803, 10.616224070717527, 19.54841699369122, 2.6801340053423655, 2.596369142962271, 2.5727331016428825, 2.328464460541285, 2.246426053949968, 2.227730100735719, 11.638531114042937, 4.341518813869653, 2.1294248465517107, 6.485437245722367, 9.108301906922259, 11.39170095600329, 9.498580879516636, 40.02098599916445, 9.169875516320598, 1.3961095746060994, 10.62512697133016, 7.260814718966549, 2.6668735435737974, 10.328784093692338, 22.566232993439762, 22.075828974011337, 42.61026761585117, 29.508357007821246, 30.373926608078246, 10.369404958460274, 20.260233721283697, 9.04985535852074, 9.242529702331298, 18.20641960247374, 99.34354889277631, 42.54960417892241, 49.543175029399926, 29.556569638831196, 15.012768001890977, 10.996911438166768, 19.312154335671554, 51.486592076034995, 20.05812683159453, 26.88571933744963, 36.37196539176263, 35.78819800119498, 29.945659532950447, 19.373705853505097, 28.415244290169408, 21.06035926999017, 34.939634487517644, 20.66232671044165, 19.916336541266833, 21.740388444998235, 20.580727097556085, 21.269822650756275, 21.41161956855341, 21.27462756609932, 21.251309919457547, 20.893218909059502, 20.69839560828345, 20.340163211870713], \"Total\": [8679.0, 1209.0, 2572.0, 898.0, 1982.0, 952.0, 3916.0, 4349.0, 2760.0, 486.0, 1237.0, 3242.0, 2114.0, 2320.0, 3233.0, 1989.0, 792.0, 2736.0, 2347.0, 770.0, 1931.0, 1709.0, 3006.0, 3575.0, 4046.0, 1837.0, 1418.0, 920.0, 790.0, 5532.0, 74.95678287661879, 54.05801077872142, 53.20452884309317, 55.450890224484816, 51.16244284550248, 43.97444469942959, 44.13544928233864, 40.25878092647709, 40.69921457848571, 39.724992796273916, 36.995474942232, 53.752150959589464, 39.34896557929159, 39.72624550210696, 32.95604055004072, 32.53617449294711, 32.08508244770699, 32.65080997791169, 31.18001222965571, 30.86063101875184, 29.686649584161554, 30.583901145215236, 29.33729570923776, 29.26865502249375, 41.37507420072311, 27.56707592470349, 27.86241999385865, 46.843122029685674, 26.88831526886578, 26.414940938587932, 59.728103560672544, 30.301191941745664, 44.64699967853378, 49.954829291136726, 80.99934638973343, 88.0225483733423, 40.791445393098165, 134.27046496584234, 245.55850533817681, 54.81338802880742, 166.0880745449793, 162.9009711052437, 55.46812783921297, 2736.3935288352436, 4349.9102605247, 167.1233580576218, 2060.516154198394, 1720.7505659111107, 135.49568332031708, 1262.170666062801, 1273.6998869113868, 134.51035838539477, 602.0175942378064, 367.0840090463312, 346.29038595081414, 252.31202508826166, 854.4581081726986, 205.04678057838976, 851.3161863954518, 5532.296533105945, 1498.890721931462, 2398.27515819402, 2888.530248746341, 1363.454317667328, 1527.635809732849, 1186.1161496198874, 3811.835808753815, 2473.8040466468806, 4566.056107565567, 556.5063155575643, 1696.7932476822332, 3916.3134066904263, 2228.5861317886115, 1335.6838493252505, 1148.3632932811681, 1790.6832997906147, 2572.722907712609, 3431.50463545063, 4127.208123437665, 3575.9440642890563, 3242.2523629133266, 1989.3824928417905, 3603.0945335837355, 2959.6443748824436, 1716.4889752080078, 2257.5713330855606, 2041.6571419542918, 105.20298040645547, 156.67838294617295, 101.38125646240825, 53.101730486178944, 52.295639761681095, 51.22850474213643, 51.17802209148335, 54.631690188312675, 44.53608827709256, 44.21698984503148, 41.79649548639786, 41.551848211974885, 39.4124232072428, 38.38380919814954, 44.54248004913685, 34.362708519416536, 55.000511463156045, 35.33865937919679, 33.73124972420882, 33.56242727198807, 33.85361112103768, 32.62656862562159, 32.287044751527695, 32.459562618683904, 33.29013666702023, 31.556024786103965, 30.477224787344706, 29.229016413634287, 28.561566074410432, 30.12451775555341, 56.7527847606668, 56.48724670767095, 112.12953889622379, 54.988556616225104, 43.94133978054418, 69.39553075105495, 84.66036187113184, 78.99812750468762, 54.44825570344773, 62.96650912333441, 86.03194338339061, 62.93801254255355, 320.6754315022996, 724.2190755407387, 463.88496463956545, 292.6582433193243, 241.7304029311032, 374.9574381483861, 445.28419550933864, 212.67244166297994, 625.9026961496575, 652.2606316756093, 265.4254064021904, 233.4680663659236, 2760.47129478965, 1710.618088070292, 770.3097289227854, 623.6054261359853, 1862.5254445732571, 519.8817518939627, 1515.3680698630421, 931.8378608635003, 430.39103147549145, 4566.056107565567, 222.40564352319254, 396.3971000460044, 385.5992250538119, 273.7357435374444, 8679.257990303042, 1138.3795597389746, 5532.296533105945, 2367.8609506827893, 3006.912625336133, 3242.2523629133266, 1709.271820346755, 3233.16357138121, 1097.9943604195448, 1405.0213362527782, 767.9240950864145, 1738.600278697976, 1398.811220641101, 4127.208123437665, 1406.8093301539145, 3603.0945335837355, 2347.682830670116, 3811.835808753815, 3916.3134066904263, 1418.65338362203, 2398.27515819402, 3431.50463545063, 4046.9010405547583, 1727.9162055438724, 1629.6348992964022, 3575.9440642890563, 160.7546338169276, 171.02855708841784, 74.40411816561864, 68.59098537296205, 63.17089233201624, 66.36873809529955, 61.182281001602654, 96.33247027994615, 59.58224239197277, 52.1363278117828, 52.75504685705577, 50.37988495128892, 48.93524715506617, 48.547312433455815, 49.20716789343569, 46.534299968188726, 44.65457076099885, 43.26119080720644, 43.063537382649514, 102.93197351476759, 41.32632015118308, 40.51159084390052, 49.37965109519823, 37.72258849434072, 36.5779810245674, 35.663140150816155, 32.31309089607856, 32.20082998363393, 37.09332271880046, 37.32866718381916, 275.79139826251674, 233.27482332304936, 40.94469564085535, 132.9891168967535, 59.70561772255788, 62.580355009493495, 863.1785475531368, 127.14108091713248, 76.1484421781961, 78.76532372425564, 141.98456784945225, 82.91306980599622, 481.8090053273295, 207.36721632740918, 205.81935555007834, 76.42947100658385, 490.3921214571859, 288.6078415590438, 203.48443600060395, 157.09029494576532, 140.7919763173262, 1106.0050339717773, 248.77190459758665, 952.6938532952566, 4046.9010405547583, 205.04884138114753, 155.94236156900106, 317.89016332483254, 1162.8736288704138, 120.85308841216786, 373.1193929368581, 1068.1598912512352, 402.3607499762384, 386.9414510722324, 3242.2523629133266, 2631.3726823338766, 3233.16357138121, 1354.9516388155996, 1710.618088070292, 3006.912625336133, 1312.7504704404412, 1271.504841507841, 2959.6443748824436, 877.9575439745307, 1107.3293680771264, 3431.50463545063, 951.5220849289835, 3575.9440642890563, 1862.5254445732571, 1738.600278697976, 699.7275139437465, 3603.0945335837355, 2367.8609506827893, 4127.208123437665, 1347.3415269753912, 1658.533867051183, 3916.3134066904263, 5532.296533105945, 2572.722907712609, 3811.835808753815, 2257.5713330855606, 57.96633312324276, 55.98569945617193, 52.80539791824661, 50.82489399801459, 42.72383746091883, 39.99084668432819, 35.65610777494839, 39.506050501978365, 33.854875348046995, 28.01505453852799, 27.05290686217961, 26.81315658365287, 26.706362068877752, 26.047898898341543, 25.42943505040557, 25.04040698083848, 24.112199395734564, 23.95392801142833, 23.62242284623964, 27.29016164431486, 23.477426587591303, 23.197726830698674, 23.152899293889458, 22.76627329524222, 22.73468912191328, 25.025443041629096, 22.408222277289273, 21.599776696701056, 21.245310766546936, 21.192487137562125, 34.367425172347254, 31.53319697111738, 129.70222416986306, 54.92135355117495, 30.111277838841506, 34.76761113503226, 124.01170494150398, 8679.257990303042, 455.7518518783589, 63.25594074327249, 98.81089123115198, 44.114199557166, 90.62686160222877, 160.4520091219762, 123.62513987627061, 971.658135209204, 119.18002747446394, 84.79446757304945, 93.2513153720441, 275.2136696104713, 226.9005951955414, 101.62572079321971, 69.98956421450701, 127.09814631065846, 1889.5651519544035, 139.5063538771342, 629.7614929501376, 119.24940701891518, 144.3236584125682, 914.331873426783, 805.4624318156056, 4127.208123437665, 1347.3415269753912, 3431.50463545063, 4046.9010405547583, 3575.9440642890563, 1673.741510577768, 1943.0837738232442, 5532.296533105945, 493.72555337822325, 974.3734047367846, 769.6973211879506, 2473.8040466468806, 3811.835808753815, 1982.3929083432554, 4566.056107565567, 664.1514554545448, 792.1843078145201, 1237.285892282606, 3006.912625336133, 2888.530248746341, 2041.6571419542918, 1629.6348992964022, 3233.16357138121, 1658.533867051183, 1409.8450650919044, 3603.0945335837355, 3916.3134066904263, 2959.6443748824436, 4349.9102605247, 2093.040665056907, 2367.8609506827893, 2347.682830670116, 40.59918204090714, 38.25530544706921, 37.5135840343807, 35.63574032517773, 32.5596847615995, 32.18712163429164, 38.28979811576183, 25.394086889011586, 23.671183108267766, 23.14399826701143, 23.097237794037653, 22.819502859762526, 22.6428627157918, 22.70354025193207, 22.532974145327657, 33.05114401477167, 22.19554233693566, 22.186640921385898, 28.892130693475153, 21.151427618114575, 21.410489221804283, 21.291683293970983, 20.874846164991226, 20.463507609916995, 20.218213355026407, 21.47864353912386, 24.464864165054333, 40.466904290818476, 37.96306752351196, 98.65712227684874, 40.5497710566703, 75.03104397732848, 606.4004471387886, 28.51165741805305, 42.05204523541762, 40.072566631935, 106.73836863347223, 75.58606886601814, 349.38392851372606, 2320.4476663389623, 61.6387460397232, 330.4113469683614, 244.83085868931687, 501.6626466625257, 94.15636466537237, 1837.0436464239497, 43.96198175316114, 356.4944508562176, 360.39733965905987, 1099.9956072119815, 1989.3824928417905, 465.81895211636544, 520.6207560770757, 550.0757589265888, 374.971936686584, 442.8594796209692, 1527.635809732849, 2959.6443748824436, 233.68257801517154, 161.1378952977132, 8679.257990303042, 137.65826552964572, 2257.5713330855606, 407.8492071684598, 431.3229054324001, 724.6356988905857, 2114.250554244198, 1316.4107234604035, 887.6846377745753, 2760.47129478965, 3603.0945335837355, 2228.5861317886115, 2736.3935288352436, 925.7367454366624, 1504.7349727619383, 5532.296533105945, 3916.3134066904263, 1728.6226121280306, 4566.056107565567, 1097.9943604195448, 2631.3726823338766, 2398.27515819402, 62.71885194406677, 42.20071791043576, 65.86746737751767, 33.26292510097763, 37.36998578237807, 29.56600432154069, 26.30953222081633, 25.5760497941235, 26.899700368786803, 24.56653784028481, 25.434748418926578, 24.402877554489994, 22.476525292684087, 21.310935046970986, 19.14064280645393, 18.884877915969113, 17.521871592077954, 15.740156372738767, 15.251132854119751, 15.244193910407695, 15.246748904646038, 14.429667747658465, 14.362536090063143, 14.187957362186788, 14.004437820737394, 17.087037433746335, 13.84379710484161, 13.58291093931552, 13.467023395560743, 13.898239157017114, 37.682406047428486, 34.454322865277305, 34.306117692592764, 34.10663671821653, 88.70739592065011, 40.298454315680644, 26.48980702291228, 20.110509253358476, 593.883521345832, 66.4142070333927, 1982.3929083432554, 48.20343612799332, 103.29507675819772, 49.00127339965975, 39.495319090159335, 1237.285892282606, 87.3463376857314, 61.28450771211355, 61.68521747992712, 129.86898656232185, 590.7160046710808, 90.37300663530503, 181.39624078274971, 114.11521447456613, 91.91694766236104, 465.80906717344106, 115.25471042792631, 238.37299908500063, 126.44830298254679, 952.0321492096672, 1931.1055518796006, 914.331873426783, 68.59298399738275, 530.2375997557019, 165.04838553034375, 2320.4476663389623, 661.8542636241518, 329.2911218226591, 781.9735429008385, 1418.65338362203, 350.47953263988313, 931.8378608635003, 1464.3985682069497, 1611.3067726307097, 829.0488581686193, 2367.8609506827893, 1720.7505659111107, 1515.3680698630421, 3233.16357138121, 3006.912625336133, 2114.250554244198, 1330.5755728724246, 4127.208123437665, 1209.6514125685358, 1728.6226121280306, 2760.47129478965, 2093.040665056907, 3811.835808753815, 1862.5254445732571, 2473.8040466468806, 2888.530248746341, 3603.0945335837355, 5532.296533105945, 1738.600278697976, 29.02303043766731, 26.893635228355308, 22.175716902199273, 21.51085416094497, 27.90623739137399, 16.325583452842956, 15.557573701383404, 14.96710899281791, 14.375296500162058, 14.0525918254666, 13.627522137760256, 13.586349429835618, 13.57343476407809, 13.45291370128942, 13.179606593156679, 13.175055578700169, 13.127291343901668, 13.078068398142129, 12.993226953131872, 12.924772920968147, 12.852409705205552, 13.60201483249999, 12.665990964707195, 13.460526718207536, 12.552285775217598, 12.520909432551228, 13.274755712007364, 12.284233328439518, 12.123609167703858, 13.31862820287562, 15.77969467619767, 13.958522589106147, 15.232667993913566, 55.71841070355063, 34.8216479024819, 25.637751079062866, 598.1008538628516, 31.50980778303155, 72.81337674304005, 51.708236208501894, 47.59701824092121, 86.48231232392666, 16.245253836548972, 76.5807169033988, 43.4398984488844, 18.082621839877227, 724.6356988905857, 104.97080586687407, 135.48087108471447, 130.61255506298053, 58.032416619596376, 76.92083069811409, 39.516640036868935, 285.49638369373156, 103.20211508979483, 272.4503778755035, 253.6880680102338, 2736.3935288352436, 152.84450221336058, 1498.890721931462, 305.22382370511036, 2572.722907712609, 1030.4789584021464, 2257.5713330855606, 4349.9102605247, 1316.4107234604035, 498.27281938507525, 641.3394647316014, 3811.835808753815, 1587.8775583247882, 3916.3134066904263, 1931.1055518796006, 769.6973211879506, 1668.138262307906, 3575.9440642890563, 8679.257990303042, 1099.9956072119815, 5532.296533105945, 1696.7932476822332, 2041.6571419542918, 1409.8450650919044, 2888.530248746341, 4127.208123437665, 2631.3726823338766, 3233.16357138121, 1629.6348992964022, 2398.27515819402, 2347.682830670116, 2320.4476663389623, 3603.0945335837355, 63.970777336922154, 37.41985428000886, 36.676270607505224, 30.954815673217084, 30.33360314322411, 28.683471125060123, 34.29167869465138, 22.143189942396887, 21.385507292341376, 20.689846740164693, 20.299678088371465, 20.044477867770993, 68.39766962693251, 18.439797804005885, 18.271056704378612, 17.501239818833458, 17.378807515940938, 17.125730304850784, 16.725090845560047, 16.641670044034537, 16.440521003909645, 31.890939609977934, 16.258359324087955, 15.98945845746347, 16.153115168882273, 15.328963144115118, 15.157878058313113, 13.907927428719695, 12.426783988781986, 21.361997218964362, 48.08155447520022, 40.63632717436409, 49.60271097676519, 28.039331052647544, 113.93922563830895, 38.57776910549949, 34.79072764639214, 34.484332104611504, 62.489051713182434, 77.46666830936908, 105.36160996465041, 366.74143507386106, 51.36280810071321, 130.79497776162893, 71.06673531181046, 81.72889407878363, 2114.250554244198, 160.31744729170828, 831.2415760749961, 717.1077945237653, 643.4071476424069, 996.0078313752995, 1418.65338362203, 785.8717617382121, 1759.951028892425, 1989.3824928417905, 971.658135209204, 661.8542636241518, 8679.257990303042, 724.2190755407387, 892.9731322278162, 1316.4107234604035, 741.6835067452113, 335.9197005513468, 3916.3134066904263, 3603.0945335837355, 1931.1055518796006, 771.446872604467, 1709.271820346755, 2320.4476663389623, 792.1843078145201, 2228.5861317886115, 4127.208123437665, 1480.913826889511, 1889.5651519544035, 4349.9102605247, 1943.0837738232442, 2888.530248746341, 24.903296440504437, 26.104999814860484, 24.255829709579785, 26.5363352916018, 19.349292010834137, 17.30443933018175, 17.050524012631378, 18.65834102099844, 23.01467770756794, 15.878647824279401, 15.411167289235546, 15.274437703733476, 14.23074695273154, 13.733957991988504, 8.284199196982863, 20.387306269593164, 898.718892388016, 5.726496393568116, 29.957410202070555, 31.22837034749083, 4.758296051889636, 4.526242953154113, 4.460907581207472, 4.492336937253845, 4.18936598036292, 4.052718517658149, 16.320330201507122, 6.198552481227118, 6.5570026732150035, 3.6335012169615792, 21.567514756278104, 53.88891879347221, 75.03247084988469, 1209.1505971361032, 39.738311241581215, 58.01484903601705, 12.85980365560678, 130.92320082565737, 952.0321492096672, 26.26287436621356, 90.83064688426383, 792.1843078145201, 259.76065427460816, 106.83921083479432, 654.0865181872306, 64.26004096071544, 790.792126830675, 709.3436973386794, 427.05508512712896, 105.2123857712584, 920.0841728220113, 1237.285892282606, 761.5198413746584, 97.82420290845972, 2760.47129478965, 2347.682830670116, 1982.3929083432554, 245.45724470366682, 410.77566970576396, 465.81895211636544, 2572.722907712609, 3575.9440642890563, 3006.912625336133, 710.7105079603333, 5532.296533105945, 428.425828067079, 949.3039637402803, 1862.5254445732571, 1611.3067726307097, 781.9735429008385, 1738.600278697976, 486.88363423265264, 242.55821097715182, 13.144921877176937, 13.008772027330723, 7.045808592465102, 5.400933931922689, 5.400934715258371, 4.423824020125352, 13.87864925688043, 25.713319894044492, 3.574658394467722, 3.490589806201039, 3.4670017072987687, 3.222685934505049, 3.140801792228501, 3.1219215167870322, 16.419060527074777, 6.162536051165413, 3.029682616812493, 9.544141592132828, 13.975138931618293, 19.78789569404394, 17.740060053415526, 76.68976841206835, 17.867822828772283, 2.8151895119361394, 21.771905868867197, 15.046870864302594, 5.631866322332246, 22.787543660997166, 49.9632194641336, 52.215406736745365, 109.7931510121309, 77.89609228673068, 85.4123578306972, 29.650499952508213, 83.54561052774841, 24.348307756492105, 25.497266388247013, 92.17971603583518, 2572.722907712609, 522.8383714472398, 770.3257419458415, 373.65266278852886, 84.17198201047161, 39.67983200578315, 169.48328012681867, 3916.3134066904263, 262.4280612731452, 925.7367454366624, 3233.16357138121, 3242.2523629133266, 1709.271820346755, 295.69167417060424, 1587.8775583247882, 428.425828067079, 4349.9102605247, 494.98559103080487, 407.8492071684598, 761.5198413746584, 519.8817518939627, 887.6846377745753, 1153.1618240123219, 1186.1161496198874, 1347.3415269753912, 1209.6514125685358, 1409.8450650919044, 1710.618088070292], \"Category\": [\"Default\", \"Default\", \"Default\", \"Default\", \"Default\", \"Default\", \"Default\", \"Default\", \"Default\", \"Default\", \"Default\", \"Default\", \"Default\", \"Default\", \"Default\", \"Default\", \"Default\", \"Default\", \"Default\", \"Default\", \"Default\", \"Default\", \"Default\", \"Default\", \"Default\", \"Default\", \"Default\", \"Default\", \"Default\", \"Default\", \"Topic1\", \"Topic1\", \"Topic1\", \"Topic1\", \"Topic1\", \"Topic1\", \"Topic1\", \"Topic1\", \"Topic1\", \"Topic1\", \"Topic1\", \"Topic1\", \"Topic1\", \"Topic1\", \"Topic1\", \"Topic1\", \"Topic1\", \"Topic1\", \"Topic1\", \"Topic1\", \"Topic1\", \"Topic1\", \"Topic1\", \"Topic1\", \"Topic1\", \"Topic1\", \"Topic1\", \"Topic1\", \"Topic1\", \"Topic1\", \"Topic1\", \"Topic1\", \"Topic1\", \"Topic1\", \"Topic1\", \"Topic1\", \"Topic1\", \"Topic1\", \"Topic1\", \"Topic1\", \"Topic1\", \"Topic1\", \"Topic1\", \"Topic1\", \"Topic1\", \"Topic1\", \"Topic1\", \"Topic1\", \"Topic1\", \"Topic1\", \"Topic1\", \"Topic1\", \"Topic1\", \"Topic1\", \"Topic1\", \"Topic1\", \"Topic1\", \"Topic1\", \"Topic1\", \"Topic1\", \"Topic1\", \"Topic1\", \"Topic1\", \"Topic1\", \"Topic1\", \"Topic1\", \"Topic1\", \"Topic1\", \"Topic1\", \"Topic1\", \"Topic1\", \"Topic1\", \"Topic1\", \"Topic1\", \"Topic1\", \"Topic1\", \"Topic1\", \"Topic1\", \"Topic1\", \"Topic1\", \"Topic1\", \"Topic1\", \"Topic1\", \"Topic1\", \"Topic1\", \"Topic1\", \"Topic1\", \"Topic2\", \"Topic2\", \"Topic2\", \"Topic2\", \"Topic2\", \"Topic2\", \"Topic2\", \"Topic2\", \"Topic2\", \"Topic2\", \"Topic2\", \"Topic2\", \"Topic2\", \"Topic2\", \"Topic2\", \"Topic2\", \"Topic2\", \"Topic2\", \"Topic2\", \"Topic2\", \"Topic2\", \"Topic2\", \"Topic2\", \"Topic2\", \"Topic2\", \"Topic2\", \"Topic2\", \"Topic2\", \"Topic2\", \"Topic2\", \"Topic2\", \"Topic2\", \"Topic2\", \"Topic2\", \"Topic2\", \"Topic2\", \"Topic2\", \"Topic2\", \"Topic2\", \"Topic2\", \"Topic2\", \"Topic2\", \"Topic2\", \"Topic2\", \"Topic2\", \"Topic2\", \"Topic2\", \"Topic2\", \"Topic2\", \"Topic2\", \"Topic2\", \"Topic2\", \"Topic2\", \"Topic2\", \"Topic2\", \"Topic2\", \"Topic2\", \"Topic2\", \"Topic2\", \"Topic2\", \"Topic2\", \"Topic2\", \"Topic2\", \"Topic2\", \"Topic2\", \"Topic2\", \"Topic2\", \"Topic2\", \"Topic2\", \"Topic2\", \"Topic2\", \"Topic2\", \"Topic2\", \"Topic2\", \"Topic2\", \"Topic2\", \"Topic2\", \"Topic2\", \"Topic2\", \"Topic2\", \"Topic2\", \"Topic2\", \"Topic2\", \"Topic2\", \"Topic2\", \"Topic2\", \"Topic2\", \"Topic2\", \"Topic2\", \"Topic2\", \"Topic2\", \"Topic2\", \"Topic2\", \"Topic2\", \"Topic3\", \"Topic3\", \"Topic3\", \"Topic3\", \"Topic3\", \"Topic3\", \"Topic3\", \"Topic3\", \"Topic3\", \"Topic3\", \"Topic3\", \"Topic3\", \"Topic3\", \"Topic3\", \"Topic3\", \"Topic3\", \"Topic3\", \"Topic3\", \"Topic3\", \"Topic3\", \"Topic3\", \"Topic3\", \"Topic3\", \"Topic3\", \"Topic3\", \"Topic3\", \"Topic3\", \"Topic3\", \"Topic3\", \"Topic3\", \"Topic3\", \"Topic3\", \"Topic3\", \"Topic3\", \"Topic3\", \"Topic3\", \"Topic3\", \"Topic3\", \"Topic3\", \"Topic3\", \"Topic3\", \"Topic3\", \"Topic3\", \"Topic3\", \"Topic3\", \"Topic3\", \"Topic3\", \"Topic3\", \"Topic3\", \"Topic3\", \"Topic3\", \"Topic3\", \"Topic3\", \"Topic3\", \"Topic3\", \"Topic3\", \"Topic3\", \"Topic3\", \"Topic3\", \"Topic3\", \"Topic3\", \"Topic3\", \"Topic3\", \"Topic3\", \"Topic3\", \"Topic3\", \"Topic3\", \"Topic3\", \"Topic3\", \"Topic3\", \"Topic3\", \"Topic3\", \"Topic3\", \"Topic3\", \"Topic3\", \"Topic3\", \"Topic3\", \"Topic3\", \"Topic3\", \"Topic3\", \"Topic3\", \"Topic3\", \"Topic3\", \"Topic3\", \"Topic3\", \"Topic3\", \"Topic3\", \"Topic3\", \"Topic3\", \"Topic3\", \"Topic3\", \"Topic4\", \"Topic4\", \"Topic4\", \"Topic4\", \"Topic4\", \"Topic4\", \"Topic4\", \"Topic4\", \"Topic4\", \"Topic4\", \"Topic4\", \"Topic4\", \"Topic4\", \"Topic4\", \"Topic4\", \"Topic4\", \"Topic4\", \"Topic4\", \"Topic4\", \"Topic4\", \"Topic4\", \"Topic4\", \"Topic4\", \"Topic4\", \"Topic4\", \"Topic4\", \"Topic4\", \"Topic4\", \"Topic4\", \"Topic4\", \"Topic4\", \"Topic4\", \"Topic4\", \"Topic4\", \"Topic4\", \"Topic4\", \"Topic4\", \"Topic4\", \"Topic4\", \"Topic4\", \"Topic4\", \"Topic4\", \"Topic4\", \"Topic4\", \"Topic4\", \"Topic4\", \"Topic4\", \"Topic4\", \"Topic4\", \"Topic4\", \"Topic4\", \"Topic4\", \"Topic4\", \"Topic4\", \"Topic4\", \"Topic4\", \"Topic4\", \"Topic4\", \"Topic4\", \"Topic4\", \"Topic4\", \"Topic4\", \"Topic4\", \"Topic4\", \"Topic4\", \"Topic4\", \"Topic4\", \"Topic4\", \"Topic4\", \"Topic4\", \"Topic4\", \"Topic4\", \"Topic4\", \"Topic4\", \"Topic4\", \"Topic4\", \"Topic4\", \"Topic4\", \"Topic4\", \"Topic4\", \"Topic4\", \"Topic4\", \"Topic4\", \"Topic4\", \"Topic4\", \"Topic4\", \"Topic4\", \"Topic4\", \"Topic4\", \"Topic4\", \"Topic4\", \"Topic4\", \"Topic4\", \"Topic5\", \"Topic5\", \"Topic5\", \"Topic5\", \"Topic5\", \"Topic5\", \"Topic5\", \"Topic5\", \"Topic5\", \"Topic5\", \"Topic5\", \"Topic5\", \"Topic5\", \"Topic5\", \"Topic5\", \"Topic5\", \"Topic5\", \"Topic5\", \"Topic5\", \"Topic5\", \"Topic5\", \"Topic5\", \"Topic5\", \"Topic5\", \"Topic5\", \"Topic5\", \"Topic5\", \"Topic5\", \"Topic5\", \"Topic5\", \"Topic5\", \"Topic5\", \"Topic5\", \"Topic5\", \"Topic5\", \"Topic5\", \"Topic5\", \"Topic5\", \"Topic5\", \"Topic5\", \"Topic5\", \"Topic5\", \"Topic5\", \"Topic5\", \"Topic5\", \"Topic5\", \"Topic5\", \"Topic5\", \"Topic5\", \"Topic5\", \"Topic5\", \"Topic5\", \"Topic5\", \"Topic5\", \"Topic5\", \"Topic5\", \"Topic5\", \"Topic5\", \"Topic5\", \"Topic5\", \"Topic5\", \"Topic5\", \"Topic5\", \"Topic5\", \"Topic5\", \"Topic5\", \"Topic5\", \"Topic5\", \"Topic5\", \"Topic5\", \"Topic5\", \"Topic5\", \"Topic5\", \"Topic5\", \"Topic5\", \"Topic5\", \"Topic5\", \"Topic5\", \"Topic5\", \"Topic5\", \"Topic5\", \"Topic5\", \"Topic6\", \"Topic6\", \"Topic6\", \"Topic6\", \"Topic6\", \"Topic6\", \"Topic6\", \"Topic6\", \"Topic6\", \"Topic6\", \"Topic6\", \"Topic6\", \"Topic6\", \"Topic6\", \"Topic6\", \"Topic6\", \"Topic6\", \"Topic6\", \"Topic6\", \"Topic6\", \"Topic6\", \"Topic6\", \"Topic6\", \"Topic6\", \"Topic6\", \"Topic6\", \"Topic6\", \"Topic6\", \"Topic6\", \"Topic6\", \"Topic6\", \"Topic6\", \"Topic6\", \"Topic6\", \"Topic6\", \"Topic6\", \"Topic6\", \"Topic6\", \"Topic6\", \"Topic6\", \"Topic6\", \"Topic6\", \"Topic6\", \"Topic6\", \"Topic6\", \"Topic6\", \"Topic6\", \"Topic6\", \"Topic6\", \"Topic6\", \"Topic6\", \"Topic6\", \"Topic6\", \"Topic6\", \"Topic6\", \"Topic6\", \"Topic6\", \"Topic6\", \"Topic6\", \"Topic6\", \"Topic6\", \"Topic6\", \"Topic6\", \"Topic6\", \"Topic6\", \"Topic6\", \"Topic6\", \"Topic6\", \"Topic6\", \"Topic6\", \"Topic6\", \"Topic6\", \"Topic6\", \"Topic6\", \"Topic6\", \"Topic6\", \"Topic6\", \"Topic6\", \"Topic6\", \"Topic6\", \"Topic6\", \"Topic6\", \"Topic6\", \"Topic6\", \"Topic6\", \"Topic6\", \"Topic6\", \"Topic6\", \"Topic6\", \"Topic6\", \"Topic6\", \"Topic6\", \"Topic6\", \"Topic6\", \"Topic7\", \"Topic7\", \"Topic7\", \"Topic7\", \"Topic7\", \"Topic7\", \"Topic7\", \"Topic7\", \"Topic7\", \"Topic7\", \"Topic7\", \"Topic7\", \"Topic7\", \"Topic7\", \"Topic7\", \"Topic7\", \"Topic7\", \"Topic7\", \"Topic7\", \"Topic7\", \"Topic7\", \"Topic7\", \"Topic7\", \"Topic7\", \"Topic7\", \"Topic7\", \"Topic7\", \"Topic7\", \"Topic7\", \"Topic7\", \"Topic7\", \"Topic7\", \"Topic7\", \"Topic7\", \"Topic7\", \"Topic7\", \"Topic7\", \"Topic7\", \"Topic7\", \"Topic7\", \"Topic7\", \"Topic7\", \"Topic7\", \"Topic7\", \"Topic7\", \"Topic7\", \"Topic7\", \"Topic7\", \"Topic7\", \"Topic7\", \"Topic7\", \"Topic7\", \"Topic7\", \"Topic7\", \"Topic7\", \"Topic7\", \"Topic7\", \"Topic7\", \"Topic7\", \"Topic7\", \"Topic7\", \"Topic7\", \"Topic7\", \"Topic7\", \"Topic7\", \"Topic7\", \"Topic7\", \"Topic7\", \"Topic7\", \"Topic7\", \"Topic7\", \"Topic7\", \"Topic7\", \"Topic7\", \"Topic7\", \"Topic7\", \"Topic7\", \"Topic7\", \"Topic7\", \"Topic7\", \"Topic7\", \"Topic7\", \"Topic7\", \"Topic7\", \"Topic7\", \"Topic7\", \"Topic7\", \"Topic7\", \"Topic7\", \"Topic7\", \"Topic8\", \"Topic8\", \"Topic8\", \"Topic8\", \"Topic8\", \"Topic8\", \"Topic8\", \"Topic8\", \"Topic8\", \"Topic8\", \"Topic8\", \"Topic8\", \"Topic8\", \"Topic8\", \"Topic8\", \"Topic8\", \"Topic8\", \"Topic8\", \"Topic8\", \"Topic8\", \"Topic8\", \"Topic8\", \"Topic8\", \"Topic8\", \"Topic8\", \"Topic8\", \"Topic8\", \"Topic8\", \"Topic8\", \"Topic8\", \"Topic8\", \"Topic8\", \"Topic8\", \"Topic8\", \"Topic8\", \"Topic8\", \"Topic8\", \"Topic8\", \"Topic8\", \"Topic8\", \"Topic8\", \"Topic8\", \"Topic8\", \"Topic8\", \"Topic8\", \"Topic8\", \"Topic8\", \"Topic8\", \"Topic8\", \"Topic8\", \"Topic8\", \"Topic8\", \"Topic8\", \"Topic8\", \"Topic8\", \"Topic8\", \"Topic8\", \"Topic8\", \"Topic8\", \"Topic8\", \"Topic8\", \"Topic8\", \"Topic8\", \"Topic8\", \"Topic8\", \"Topic8\", \"Topic8\", \"Topic8\", \"Topic8\", \"Topic8\", \"Topic8\", \"Topic8\", \"Topic8\", \"Topic8\", \"Topic8\", \"Topic8\", \"Topic8\", \"Topic8\", \"Topic9\", \"Topic9\", \"Topic9\", \"Topic9\", \"Topic9\", \"Topic9\", \"Topic9\", \"Topic9\", \"Topic9\", \"Topic9\", \"Topic9\", \"Topic9\", \"Topic9\", \"Topic9\", \"Topic9\", \"Topic9\", \"Topic9\", \"Topic9\", \"Topic9\", \"Topic9\", \"Topic9\", \"Topic9\", \"Topic9\", \"Topic9\", \"Topic9\", \"Topic9\", \"Topic9\", \"Topic9\", \"Topic9\", \"Topic9\", \"Topic9\", \"Topic9\", \"Topic9\", \"Topic9\", \"Topic9\", \"Topic9\", \"Topic9\", \"Topic9\", \"Topic9\", \"Topic9\", \"Topic9\", \"Topic9\", \"Topic9\", \"Topic9\", \"Topic9\", \"Topic9\", \"Topic9\", \"Topic9\", \"Topic9\", \"Topic9\", \"Topic9\", \"Topic9\", \"Topic9\", \"Topic9\", \"Topic9\", \"Topic9\", \"Topic9\", \"Topic9\", \"Topic9\", \"Topic9\", \"Topic9\", \"Topic9\", \"Topic9\", \"Topic9\", \"Topic9\", \"Topic9\", \"Topic9\", \"Topic9\", \"Topic9\", \"Topic9\", \"Topic9\", \"Topic10\", \"Topic10\", \"Topic10\", \"Topic10\", \"Topic10\", \"Topic10\", \"Topic10\", \"Topic10\", \"Topic10\", \"Topic10\", \"Topic10\", \"Topic10\", \"Topic10\", \"Topic10\", \"Topic10\", \"Topic10\", \"Topic10\", \"Topic10\", \"Topic10\", \"Topic10\", \"Topic10\", \"Topic10\", \"Topic10\", \"Topic10\", \"Topic10\", \"Topic10\", \"Topic10\", \"Topic10\", \"Topic10\", \"Topic10\", \"Topic10\", \"Topic10\", \"Topic10\", \"Topic10\", \"Topic10\", \"Topic10\", \"Topic10\", \"Topic10\", \"Topic10\", \"Topic10\", \"Topic10\", \"Topic10\", \"Topic10\", \"Topic10\", \"Topic10\", \"Topic10\", \"Topic10\", \"Topic10\", \"Topic10\", \"Topic10\", \"Topic10\", \"Topic10\", \"Topic10\", \"Topic10\", \"Topic10\", \"Topic10\", \"Topic10\", \"Topic10\", \"Topic10\", \"Topic10\", \"Topic10\", \"Topic10\", \"Topic10\", \"Topic10\", \"Topic10\", \"Topic10\", \"Topic10\", \"Topic10\"], \"logprob\": [30.0, 29.0, 28.0, 27.0, 26.0, 25.0, 24.0, 23.0, 22.0, 21.0, 20.0, 19.0, 18.0, 17.0, 16.0, 15.0, 14.0, 13.0, 12.0, 11.0, 10.0, 9.0, 8.0, 7.0, 6.0, 5.0, 4.0, 3.0, 2.0, 1.0, -7.6407999992370605, -7.968900203704834, -7.985099792480469, -7.943999767303467, -8.026300430297852, -8.179100036621094, -8.175999641418457, -8.269200325012207, -8.258399963378906, -8.282899856567383, -8.355999946594238, -7.983399868011475, -8.29539966583252, -8.285799980163574, -8.474300384521484, -8.48740005493164, -8.501799583435059, -8.48449993133545, -8.531499862670898, -8.541799545288086, -8.58180046081543, -8.552300453186035, -8.593899726867676, -8.596500396728516, -8.252099990844727, -8.658300399780273, -8.648200035095215, -8.128700256347656, -8.683899879455566, -8.702199935913086, -7.887599945068359, -8.565400123596191, -8.182499885559082, -8.077099800109863, -7.611599922180176, -7.535299777984619, -8.277299880981445, -7.165999889373779, -6.606599807739258, -8.00570011138916, -6.98199987411499, -7.0335001945495605, -8.004300117492676, -4.507299900054932, -4.103000164031982, -7.017499923706055, -4.797699928283691, -4.991300106048584, -7.213900089263916, -5.297699928283691, -5.3043999671936035, -7.239500045776367, -5.98769998550415, -6.407800197601318, -6.462699890136719, -6.728400230407715, -5.740499973297119, -6.927199840545654, -5.7947998046875, -4.333600044250488, -5.365900039672852, -5.018499851226807, -4.878399848937988, -5.462500095367432, -5.379000186920166, -5.575500011444092, -4.695700168609619, -5.046800136566162, -4.607399940490723, -6.167600154876709, -5.356299877166748, -4.7631001472473145, -5.172299861907959, -5.542200088500977, -5.6519999504089355, -5.345699787139893, -5.1107001304626465, -4.980000019073486, -4.873199939727783, -4.96619987487793, -5.065499782562256, -5.362299919128418, -5.162799835205078, -5.2667999267578125, -5.490499973297119, -5.412499904632568, -5.447700023651123, -7.010300159454346, -6.6153998374938965, -7.051799774169922, -7.702000141143799, -7.717700004577637, -7.73859977722168, -7.7399001121521, -7.676300048828125, -7.881100177764893, -7.888500213623047, -7.945899963378906, -7.952099800109863, -8.005999565124512, -8.032999992370605, -7.884500026702881, -8.146400451660156, -7.676199913024902, -8.118599891662598, -8.165399551391602, -8.17039966583252, -8.161800384521484, -8.19950008392334, -8.210200309753418, -8.204899787902832, -8.179900169372559, -8.233799934387207, -8.269599914550781, -8.313300132751465, -8.336400032043457, -8.28320026397705, -7.658999919891357, -7.6656999588012695, -6.9994001388549805, -7.700699806213379, -7.918000221252441, -7.48390007019043, -7.298099994659424, -7.36460018157959, -7.715199947357178, -7.594399929046631, -7.31689977645874, -7.607800006866455, -6.173500061035156, -5.481299877166748, -5.924200057983398, -6.334799766540527, -6.508699893951416, -6.149600028991699, -6.0416998863220215, -6.645899772644043, -5.797800064086914, -5.777200222015381, -6.490699768066406, -6.5960001945495605, -4.743899822235107, -5.103000164031982, -5.7133002281188965, -5.8719000816345215, -5.116300106048584, -6.052199840545654, -5.294600009918213, -5.657700061798096, -6.210400104522705, -4.54040002822876, -6.686399936676025, -6.303500175476074, -6.325099945068359, -6.550300121307373, -4.357100009918213, -5.643899917602539, -4.682000160217285, -5.208499908447266, -5.065000057220459, -5.024600028991699, -5.414100170135498, -5.075399875640869, -5.7006001472473145, -5.569900035858154, -5.902100086212158, -5.496399879455566, -5.611000061035156, -5.136499881744385, -5.623000144958496, -5.211599826812744, -5.408699989318848, -5.213500022888184, -5.223999977111816, -5.624800205230713, -5.468699932098389, -5.367400169372559, -5.371799945831299, -5.5960001945495605, -5.607600212097168, -5.612199783325195, -6.575500011444092, -6.515500068664551, -7.3516998291015625, -7.434500217437744, -7.517399787902832, -7.468100070953369, -7.549799919128418, -7.096399784088135, -7.577700138092041, -7.712100028991699, -7.700699806213379, -7.747200012207031, -7.776500225067139, -7.784599781036377, -7.771399974822998, -7.8277997970581055, -7.86959981918335, -7.901899814605713, -7.906599998474121, -7.035900115966797, -7.948599815368652, -7.968999862670898, -7.771900177001953, -8.042200088500977, -8.073200225830078, -8.099499702453613, -8.200200080871582, -8.203800201416016, -8.062700271606445, -8.056900024414062, -6.060400009155273, -6.239500045776367, -7.964799880981445, -6.805699825286865, -7.594299793243408, -7.553100109100342, -5.013700008392334, -6.868599891662598, -7.366399765014648, -7.3358001708984375, -6.797999858856201, -7.301300048828125, -5.690299987792969, -6.466100215911865, -6.49970006942749, -7.381700038909912, -5.760200023651123, -6.233500003814697, -6.542200088500977, -6.765699863433838, -6.860799789428711, -5.110799789428711, -6.379899978637695, -5.239299774169922, -4.107699871063232, -6.557300090789795, -6.796199798583984, -6.249599933624268, -5.26039981842041, -7.01140022277832, -6.165999889373779, -5.407299995422363, -6.152100086212158, -6.182400226593018, -4.695000171661377, -4.893700122833252, -4.7891998291015625, -5.40310001373291, -5.2820000648498535, -5.0055999755859375, -5.4918999671936035, -5.520999908447266, -5.059000015258789, -5.741300106048584, -5.621699810028076, -5.076000213623047, -5.729800224304199, -5.084799766540527, -5.419000148773193, -5.452199935913086, -5.897500038146973, -5.183899879455566, -5.366700172424316, -5.13040018081665, -5.6356000900268555, -5.587600231170654, -5.3302998542785645, -5.329999923706055, -5.5858001708984375, -5.535699844360352, -5.620999813079834, -7.426000118255615, -7.461400032043457, -7.5208001136779785, -7.559700012207031, -7.736800193786621, -7.804699897766113, -7.9217000007629395, -7.819399833679199, -7.974899768829346, -8.169899940490723, -8.206100463867188, -8.215499877929688, -8.219499588012695, -8.245200157165527, -8.270299911499023, -8.286100387573242, -8.325400352478027, -8.332099914550781, -8.346500396728516, -8.202300071716309, -8.352899551391602, -8.365400314331055, -8.367400169372559, -8.384900093078613, -8.386500358581543, -8.290599822998047, -8.401399612426758, -8.439800262451172, -8.456999778747559, -8.459500312805176, -7.978700160980225, -8.064900398254395, -6.6875, -7.542300224304199, -8.118300437927246, -7.990600109100342, -6.810500144958496, -2.9628000259399414, -5.663700103759766, -7.488699913024902, -7.104599952697754, -7.803199768066406, -7.186299800872803, -6.708899974822998, -6.93209981918335, -5.244900226593018, -6.988500118255615, -7.276899814605713, -7.200300216674805, -6.324900150299072, -6.491499900817871, -7.13640022277832, -7.435999870300293, -6.981800079345703, -4.910399913787842, -6.927299976348877, -5.832499980926514, -7.051700115203857, -6.918700218200684, -5.611800193786621, -5.728300094604492, -4.609000205993652, -5.409200191497803, -4.789299964904785, -4.6880998611450195, -4.776500225067139, -5.294400215148926, -5.207799911499023, -4.540200233459473, -6.110000133514404, -5.688600063323975, -5.837399959564209, -5.105299949645996, -4.852200031280518, -5.280200004577637, -4.778600215911865, -5.952899932861328, -5.850800037384033, -5.592100143432617, -5.106800079345703, -5.1697998046875, -5.36460018157959, -5.503900051116943, -5.243800163269043, -5.5493998527526855, -5.635200023651123, -5.249499797821045, -5.2677001953125, -5.491000175476074, -5.459499835968018, -5.578100204467773, -5.566100120544434, -5.585299968719482, -7.14169979095459, -7.202199935913086, -7.222599983215332, -7.274799823760986, -7.367400169372559, -7.3796000480651855, -7.21019983291626, -7.623300075531006, -7.696100234985352, -7.7195000648498535, -7.72160005569458, -7.734099864959717, -7.742099761962891, -7.73960018157959, -7.747200012207031, -7.364299774169922, -7.762800216674805, -7.763299942016602, -7.5, -7.812900066375732, -7.80079984664917, -7.806600093841553, -7.826700210571289, -7.847400188446045, -7.860899925231934, -7.80049991607666, -7.670400142669678, -7.171899795532227, -7.238699913024902, -6.283999919891357, -7.187600135803223, -6.603700160980225, -4.791900157928467, -7.556399822235107, -7.225200176239014, -7.267600059509277, -6.445499897003174, -6.736599922180176, -5.519700050354004, -4.022600173950195, -6.942500114440918, -5.617000102996826, -5.867599964141846, -5.321899890899658, -6.63040018081665, -4.435299873352051, -7.235099792480469, -5.716700077056885, -5.7170000076293945, -4.983500003814697, -4.637599945068359, -5.612299919128418, -5.547699928283691, -5.523600101470947, -5.786099910736084, -5.689300060272217, -4.973999977111816, -4.573200225830078, -6.128900051116943, -6.360599994659424, -4.0553998947143555, -6.463699817657471, -4.890699863433838, -5.8649001121521, -5.838799953460693, -5.561500072479248, -5.024899959564209, -5.269999980926514, -5.495500087738037, -4.9816999435424805, -4.878799915313721, -5.097499847412109, -5.10099983215332, -5.547100067138672, -5.391499996185303, -4.977200031280518, -5.098999977111816, -5.399400234222412, -5.217700004577637, -5.523200035095215, -5.5843000411987305, -5.608500003814697, -6.491700172424316, -6.890399932861328, -6.446100234985352, -7.134799957275391, -7.018499851226807, -7.25540018081665, -7.375999927520752, -7.405200004577637, -7.355400085449219, -7.447000026702881, -7.412300109863281, -7.456500053405762, -7.539299964904785, -7.596399784088135, -7.707600116729736, -7.723199844360352, -7.800099849700928, -7.914700031280518, -7.946700096130371, -7.947299957275391, -7.9471001625061035, -8.00570011138916, -8.010700225830078, -8.023599624633789, -8.037500381469727, -7.839600086212158, -8.050999641418457, -8.070199966430664, -8.079299926757812, -8.047800064086914, -7.061100006103516, -7.1717000007629395, -7.1828999519348145, -7.192599773406982, -6.287399768829346, -7.039299964904785, -7.445899963378906, -7.699699878692627, -4.593100070953369, -6.620100021362305, -3.6498000621795654, -6.925899982452393, -6.2652997970581055, -6.9166998863220215, -7.107500076293945, -4.197000026702881, -6.433199882507324, -6.736400127410889, -6.7378997802734375, -6.13100004196167, -4.930500030517578, -6.447400093078613, -5.91949987411499, -6.298500061035156, -6.471099853515625, -5.289400100708008, -6.363999843597412, -5.878499984741211, -6.328800201416016, -5.029300212860107, -4.7164998054504395, -5.29449987411499, -6.7434000968933105, -5.642399787902832, -6.295100212097168, -4.961100101470947, -5.59060001373291, -5.952700138092041, -5.566800117492676, -5.306099891662598, -5.944900035858154, -5.506400108337402, -5.337800025939941, -5.314700126647949, -5.5970001220703125, -5.1981000900268555, -5.364999771118164, -5.44379997253418, -5.225399971008301, -5.2769999504089355, -5.395100116729736, -5.567699909210205, -5.281400203704834, -5.610499858856201, -5.5233001708984375, -5.410799980163574, -5.5096001625061035, -5.409800052642822, -5.534800052642822, -5.515600204467773, -5.504799842834473, -5.499800205230713, -5.475599765777588, -5.560100078582764, -6.7906999588012695, -6.874199867248535, -7.0690999031066895, -7.100800037384033, -6.853799819946289, -7.3927998542785645, -7.4415998458862305, -7.486800193786621, -7.527200222015381, -7.551700115203857, -7.582699775695801, -7.586100101470947, -7.587200164794922, -7.596499919891357, -7.618500232696533, -7.618899822235107, -7.622900009155273, -7.626800060272217, -7.633800029754639, -7.639599800109863, -7.6458001136779785, -7.589200019836426, -7.661499977111816, -7.6006999015808105, -7.670899868011475, -7.673699855804443, -7.616499900817871, -7.6940999031066895, -7.708399772644043, -7.6143999099731445, -7.448400020599365, -7.571300029754639, -7.498199939727783, -6.3892998695373535, -6.814599990844727, -7.1072998046875, -4.744500160217285, -6.976099967956543, -6.360000133514404, -6.616600036621094, -6.687600135803223, -6.262400150299072, -7.469399929046631, -6.427599906921387, -6.816299915313721, -7.406300067901611, -5.052800178527832, -6.288000106811523, -6.171199798583984, -6.226900100708008, -6.717299938201904, -6.562699794769287, -6.949999809265137, -5.813399791717529, -6.399199962615967, -5.9008002281188965, -5.948800086975098, -4.675899982452393, -6.227399826049805, -5.030799865722656, -5.91480016708374, -4.86359977722168, -5.329599857330322, -4.954400062561035, -4.652900218963623, -5.226399898529053, -5.692999839782715, -5.5995001792907715, -4.835100173950195, -5.222400188446045, -4.875999927520752, -5.1697998046875, -5.548900127410889, -5.275899887084961, -5.048799991607666, -4.736499786376953, -5.491700172424316, -4.9868998527526855, -5.394100189208984, -5.336999893188477, -5.460100173950195, -5.245699882507324, -5.151899814605713, -5.312300205230713, -5.286399841308594, -5.468900203704834, -5.449100017547607, -5.486800193786621, -5.498700141906738, -5.515100002288818, -5.96560001373291, -6.511499881744385, -6.536099910736084, -6.706099987030029, -6.727099895477295, -6.784599781036377, -6.607900142669678, -7.052599906921387, -7.0894999504089355, -7.124100208282471, -7.143400192260742, -7.156400203704834, -5.929100036621094, -7.243800163269043, -7.253399848937988, -7.298600196838379, -7.306000232696533, -7.321400165557861, -7.346399784088135, -7.3516998291015625, -7.364500045776367, -6.702000141143799, -7.376299858093262, -7.393899917602539, -7.383800029754639, -7.438600063323975, -7.450500011444092, -7.541900157928467, -7.66379976272583, -7.135900020599365, -6.329899787902832, -6.5157999992370605, -6.327300071716309, -6.873199939727783, -5.573999881744385, -6.594399929046631, -6.726900100708008, -6.742499828338623, -6.250400066375732, -6.077000141143799, -5.843900203704834, -4.871300220489502, -6.453199863433838, -5.775000095367432, -6.234899997711182, -6.177800178527832, -3.9923999309539795, -5.780099868774414, -4.744999885559082, -4.866199970245361, -4.959000110626221, -4.688499927520752, -4.49370002746582, -4.860300064086914, -4.4096999168396, -4.424499988555908, -4.917099952697754, -5.1234002113342285, -3.8148999214172363, -5.1107001304626465, -5.013000011444092, -4.835000038146973, -5.124199867248535, -5.506100177764893, -4.4704999923706055, -4.566400051116943, -4.955599784851074, -5.309000015258789, -5.055600166320801, -4.98859977722168, -5.350800037384033, -5.118500232696533, -5.01170015335083, -5.258600234985352, -5.227499961853027, -5.172299861907959, -5.298999786376953, -5.30679988861084, -6.040800094604492, -5.9944000244140625, -6.0680999755859375, -5.978700160980225, -6.306099891662598, -6.421199798583984, -6.436500072479248, -6.349800109863281, -6.140100002288818, -6.51170015335083, -6.543900012969971, -6.5528998374938965, -6.6280999183654785, -6.665999889373779, -7.217299938201904, -6.353300094604492, -2.5724000930786133, -7.644000053405762, -5.997600078582764, -5.976399898529053, -7.865499973297119, -7.925000190734863, -7.942999839782715, -7.940299987792969, -8.02180004119873, -8.064000129699707, -6.683700084686279, -7.662600040435791, -7.613100051879883, -8.205300331115723, -6.438499927520752, -5.53410005569458, -5.2932000160217285, -2.7325000762939453, -5.916100025177002, -5.571700096130371, -6.995299816131592, -5.014200210571289, -3.3080999851226807, -6.410299777984619, -5.438799858093262, -4.183000087738037, -4.9791998863220215, -5.540999889373779, -4.600100040435791, -5.862100124359131, -4.560200214385986, -4.652200222015381, -4.915599822998047, -5.610599994659424, -4.617400169372559, -4.498300075531006, -4.779399871826172, -5.676199913024902, -4.253499984741211, -4.511899948120117, -4.636300086975098, -5.360799789428711, -5.218100070953369, -5.2220001220703125, -4.800899982452393, -4.735000133514404, -4.780099868774414, -5.163000106811523, -4.670899868011475, -5.301300048828125, -5.1356000900268555, -5.136600017547607, -5.209499835968018, -5.309899806976318, -5.317999839782715, -2.2785000801086426, -2.977099895477295, -5.959099769592285, -5.991799831390381, -6.6697001457214355, -6.959099769592285, -6.959099769592285, -7.222599983215332, -6.10230016708374, -5.491799831390381, -7.478799819946289, -7.510499954223633, -7.519700050354004, -7.619500160217285, -7.655300140380859, -7.663700103759766, -6.010300159454346, -6.996399879455566, -7.708799839019775, -6.595099925994873, -6.255499839782715, -6.031799793243408, -6.213500022888184, -4.775300025939941, -6.248700141906738, -8.130999565124512, -6.101399898529053, -6.4822001457214355, -7.483799934387207, -6.129700183868408, -5.348199844360352, -5.370200157165527, -4.712600231170654, -5.079999923706055, -5.05109977722168, -6.125800132751465, -5.455999851226807, -6.261899948120117, -6.240799903869629, -5.562900066375732, -3.8661000728607178, -4.714000225067139, -4.561800003051758, -5.078400135040283, -5.755799770355225, -6.066999912261963, -5.503900051116943, -4.5233001708984375, -5.466000080108643, -5.173099994659424, -4.8709001541137695, -4.88700008392334, -5.065299987792969, -5.500699996948242, -5.117700099945068, -5.417300224304199, -4.910999774932861, -5.436399936676025, -5.473100185394287, -5.385499954223633, -5.440299987792969, -5.407400131225586, -5.400700092315674, -5.407100200653076, -5.408199787139893, -5.42519998550415, -5.434599876403809, -5.452099800109863], \"loglift\": [30.0, 29.0, 28.0, 27.0, 26.0, 25.0, 24.0, 23.0, 22.0, 21.0, 20.0, 19.0, 18.0, 17.0, 16.0, 15.0, 14.0, 13.0, 12.0, 11.0, 10.0, 9.0, 8.0, 7.0, 6.0, 5.0, 4.0, 3.0, 2.0, 1.0, 1.404, 1.4027, 1.4024, 1.4022, 1.4003, 1.3989, 1.3984, 1.3971, 1.397, 1.3968, 1.3949, 1.3938, 1.3938, 1.3938, 1.3922, 1.3919, 1.3915, 1.3913, 1.3904, 1.3903, 1.3892, 1.3889, 1.3889, 1.3887, 1.3869, 1.3867, 1.3862, 1.3861, 1.386, 1.3855, 1.3842, 1.3851, 1.3804, 1.3734, 1.3556, 1.3487, 1.3759, 1.2958, 1.2515, 1.3521, 1.2672, 1.235, 1.3416, 0.9399, 0.8808, 1.2254, 0.9332, 0.9199, 1.2388, 0.9233, 0.9075, 1.2206, 0.9737, 1.0482, 1.0517, 1.1026, 0.8707, 1.1112, 0.8201, 0.4097, 0.6832, 0.5606, 0.5148, 0.6813, 0.6512, 0.7077, 0.4201, 0.5013, 0.3278, 0.8724, 0.5688, 0.3257, 0.4802, 0.6222, 0.6636, 0.5256, 0.3983, 0.2409, 0.1631, 0.2134, 0.2122, 0.4038, 0.0093, 0.1021, 0.4232, 0.2272, 0.2925, 1.6955, 1.692, 1.6909, 1.6874, 1.687, 1.6868, 1.6865, 1.6848, 1.6842, 1.6841, 1.683, 1.6826, 1.6816, 1.6811, 1.6807, 1.6783, 1.6782, 1.678, 1.6778, 1.6778, 1.6778, 1.677, 1.6768, 1.6767, 1.6765, 1.6761, 1.6751, 1.6732, 1.6732, 1.6731, 1.6639, 1.662, 1.6426, 1.6538, 1.6608, 1.6379, 1.6249, 1.6277, 1.6492, 1.6246, 1.5901, 1.6117, 1.4177, 1.2952, 1.2979, 1.3478, 1.3651, 1.2852, 1.2212, 1.356, 1.1246, 1.104, 1.2897, 1.3127, 0.6946, 0.8141, 1.0016, 1.0542, 0.7156, 1.0559, 0.7437, 0.8668, 1.0865, 0.3948, 1.2707, 1.0758, 1.0818, 1.1992, -0.0641, 0.6804, 0.0613, 0.3834, 0.288, 0.253, 0.5037, 0.205, 0.6599, 0.544, 0.8158, 0.4045, 0.5072, -0.1002, 0.4896, -0.0395, 0.1918, -0.0977, -0.1352, 0.4794, 0.1105, -0.1465, -0.3159, 0.311, 0.3579, -0.4325, 1.7063, 1.7043, 1.7004, 1.699, 1.6984, 1.6983, 1.698, 1.6975, 1.6966, 1.6957, 1.6953, 1.6948, 1.6947, 1.6945, 1.6942, 1.6937, 1.6931, 1.6925, 1.6924, 1.6917, 1.6916, 1.6911, 1.6902, 1.6892, 1.689, 1.6881, 1.686, 1.6859, 1.6855, 1.685, 1.6816, 1.6699, 1.6847, 1.6657, 1.6779, 1.6721, 1.5874, 1.6477, 1.6626, 1.6594, 1.6079, 1.6426, 1.4938, 1.5611, 1.535, 1.6436, 1.4062, 1.4631, 1.5038, 1.5391, 1.5536, 1.2423, 1.4652, 1.2631, 0.9483, 1.4812, 1.516, 1.3504, 1.0426, 1.5556, 1.2738, 0.9806, 1.2122, 1.221, 0.5827, 0.5927, 0.4912, 0.747, 0.635, 0.3474, 0.6899, 0.6927, 0.3099, 0.8428, 0.7303, 0.1449, 0.7738, 0.0949, 0.4129, 0.4486, 0.9134, -0.0118, 0.2252, -0.0941, 0.5202, 0.3603, -0.2416, -0.5867, -0.0768, -0.4199, 0.0186, 1.8758, 1.8751, 1.8742, 1.8736, 1.8701, 1.8683, 1.866, 1.8658, 1.8646, 1.859, 1.8578, 1.8573, 1.8572, 1.8565, 1.8554, 1.8551, 1.8535, 1.8535, 1.8529, 1.8528, 1.8527, 1.8522, 1.8521, 1.8515, 1.8513, 1.8511, 1.8508, 1.8492, 1.8486, 1.8485, 1.8459, 1.8457, 1.8089, 1.8135, 1.8385, 1.8224, 1.7308, 1.3302, 1.576, 1.7258, 1.6638, 1.7717, 1.6686, 1.5748, 1.6123, 1.2377, 1.5925, 1.6445, 1.6261, 1.4192, 1.4456, 1.604, 1.6773, 1.5349, 0.9071, 1.4962, 1.0838, 1.5287, 1.4709, 0.9316, 0.9419, 0.4273, 0.7466, 0.4316, 0.3678, 0.4032, 0.6444, 0.5818, 0.2031, 1.0496, 0.7912, 0.8783, 0.4428, 0.2635, 0.4894, 0.1566, 0.9102, 0.836, 0.6488, 0.2462, 0.2234, 0.3755, 0.4617, 0.0367, 0.3986, 0.4752, -0.0774, -0.179, -0.1222, -0.4758, 0.1372, 0.0258, 0.0152, 2.5162, 2.5151, 2.5144, 2.5135, 2.5112, 2.5105, 2.5063, 2.5038, 2.5013, 2.5004, 2.5003, 2.5, 2.4997, 2.4996, 2.4995, 2.4993, 2.4989, 2.4989, 2.4981, 2.497, 2.4969, 2.4968, 2.4964, 2.4956, 2.4942, 2.4941, 2.494, 2.4892, 2.4863, 2.486, 2.4715, 2.4401, 2.1622, 2.455, 2.3976, 2.4034, 2.2457, 2.2998, 1.9858, 1.5895, 2.2978, 1.9443, 1.9935, 1.8218, 2.1863, 1.4104, 2.3433, 1.7687, 1.7575, 1.3751, 1.1284, 1.6056, 1.5589, 1.528, 1.6487, 1.5791, 1.0562, 0.7956, 1.7788, 1.9187, 0.2376, 1.9732, 0.7489, 1.4859, 1.456, 1.2145, 0.6803, 0.909, 1.0776, 0.4568, 0.2933, 0.555, 0.3463, 0.984, 0.6538, -0.2339, -0.0102, 0.5072, -0.2824, 0.8372, -0.0979, -0.0293, 2.7313, 2.7288, 2.7279, 2.7225, 2.7223, 2.7196, 2.7157, 2.7148, 2.7141, 2.7133, 2.7132, 2.7104, 2.7098, 2.7061, 2.7022, 2.7001, 2.6981, 2.6907, 2.6903, 2.6902, 2.6902, 2.6867, 2.6863, 2.6856, 2.6848, 2.6838, 2.6828, 2.6827, 2.6821, 2.682, 2.6713, 2.6503, 2.6434, 2.6396, 2.5889, 2.6261, 2.639, 2.6607, 2.3819, 2.5457, 2.1198, 2.5603, 2.4588, 2.5531, 2.578, 2.0439, 2.4586, 2.5097, 2.5018, 2.3641, 2.0498, 2.4103, 2.2415, 2.326, 2.3697, 1.9284, 2.2505, 2.0093, 2.1931, 1.4737, 1.0793, 1.2489, 2.39, 1.446, 1.9604, 0.6511, 1.276, 1.612, 1.133, 0.7981, 1.5575, 1.0181, 0.7346, 0.6622, 1.0443, 0.3938, 0.5461, 0.5944, 0.055, 0.076, 0.3101, 0.6006, -0.2451, 0.653, 0.3833, 0.0277, 0.2057, -0.294, 0.2972, 0.0325, -0.1116, -0.3277, -0.7323, 0.3407, 3.2028, 3.1956, 3.1935, 3.1923, 3.179, 3.1762, 3.1755, 3.169, 3.169, 3.1671, 3.1669, 3.1665, 3.1664, 3.1659, 3.1645, 3.1645, 3.1641, 3.1639, 3.1634, 3.1629, 3.1623, 3.1623, 3.1613, 3.1612, 3.1609, 3.1606, 3.1593, 3.1592, 3.1581, 3.1581, 3.1545, 3.1542, 3.1401, 2.952, 2.9968, 3.0103, 2.2234, 2.9353, 2.7137, 2.7994, 2.8113, 2.6393, 3.1045, 2.5957, 2.774, 3.0604, 1.7232, 2.42, 2.2816, 2.2625, 2.5834, 2.4562, 2.7349, 1.894, 2.3258, 1.8534, 1.8768, 0.7713, 2.1049, 1.0184, 1.7259, 0.6453, 1.0942, 0.6852, 0.3309, 0.9526, 1.4575, 1.2986, 0.2807, 0.7691, 0.2128, 0.626, 1.1667, 0.6663, 0.1309, -0.4436, 0.8669, -0.2436, 0.5311, 0.4032, 0.6504, 0.1474, -0.1156, 0.1741, -0.006, 0.4966, 0.1301, 0.1136, 0.1135, -0.343, 3.2377, 3.2279, 3.2234, 3.223, 3.2223, 3.2207, 3.2188, 3.2115, 3.2095, 3.2079, 3.2076, 3.2073, 3.2072, 3.2034, 3.2029, 3.2008, 3.2004, 3.1996, 3.1984, 3.1981, 3.1974, 3.1974, 3.1968, 3.1958, 3.1958, 3.1933, 3.1926, 3.1873, 3.178, 3.1641, 3.1588, 3.1412, 3.1303, 3.1548, 3.052, 3.1146, 3.0854, 3.0787, 2.9762, 2.9348, 2.8604, 2.5857, 2.9696, 2.713, 2.8631, 2.7804, 1.7128, 2.5044, 1.8937, 1.9202, 1.9359, 1.7694, 1.6105, 1.8346, 1.479, 1.3416, 1.5656, 1.7432, 0.478, 1.6659, 1.5541, 1.344, 1.6285, 2.0386, 0.6182, 0.6057, 0.8402, 1.4044, 0.8622, 0.6235, 1.336, 0.534, 0.0246, 0.8027, 0.59, -0.1886, 0.4906, 0.0863, 4.1059, 4.1051, 4.1049, 4.1044, 4.0929, 4.0895, 4.089, 4.0856, 4.0854, 4.085, 4.0827, 4.0826, 4.0782, 4.0758, 4.03, 3.9935, 3.9883, 3.9726, 3.9643, 3.944, 3.9363, 3.9268, 3.9233, 3.919, 3.9073, 3.8982, 3.8855, 3.8747, 3.8681, 3.8661, 3.852, 3.8406, 3.7506, 3.5315, 3.7632, 3.7293, 3.8122, 3.4728, 3.1949, 3.6832, 3.4138, 2.5039, 2.8227, 3.1493, 2.2783, 3.3366, 2.1284, 2.1451, 2.3891, 3.0951, 1.9198, 1.7427, 1.9469, 3.1023, 1.185, 1.0885, 1.1333, 2.4977, 2.1255, 1.9959, 0.708, 0.4447, 0.5728, 1.6324, 0.0724, 2.0002, 1.3703, 0.6954, 0.7673, 1.39, 0.5829, 4.8951, 4.8933, 4.8265, 4.8043, 4.7395, 4.716, 4.716, 4.652, 4.629, 4.6229, 4.609, 4.601, 4.5987, 4.572, 4.5619, 4.5595, 4.5529, 4.5467, 4.5444, 4.5106, 4.4689, 4.3448, 4.2723, 4.2466, 4.2299, 4.1957, 4.1796, 4.1683, 4.1495, 4.1057, 4.1022, 4.0361, 3.9505, 3.9263, 3.8631, 3.8464, 3.4803, 3.9073, 3.8822, 3.275, 1.6429, 2.3884, 2.153, 2.36, 3.173, 3.6138, 2.725, 0.5654, 2.3256, 1.358, 0.4096, 0.3906, 0.8526, 2.1716, 0.8738, 1.8843, 0.0727, 1.7208, 1.8776, 1.3408, 1.6677, 1.1657, 0.9107, 0.8761, 0.7475, 0.8383, 0.6758, 0.465]}, \"token.table\": {\"Topic\": [2, 10, 1, 2, 3, 4, 5, 6, 7, 6, 9, 3, 1, 2, 3, 4, 8, 9, 4, 9, 9, 3, 2, 3, 5, 7, 7, 1, 2, 3, 4, 5, 6, 8, 9, 2, 10, 1, 2, 3, 4, 5, 6, 7, 8, 9, 6, 1, 2, 3, 4, 5, 6, 7, 8, 9, 1, 2, 3, 4, 5, 7, 9, 3, 5, 1, 2, 3, 4, 5, 6, 7, 8, 9, 7, 5, 7, 4, 4, 5, 1, 3, 9, 7, 1, 2, 3, 4, 5, 6, 7, 8, 2, 1, 2, 4, 7, 1, 2, 3, 4, 5, 6, 7, 9, 10, 2, 3, 6, 1, 2, 3, 4, 5, 6, 7, 9, 2, 1, 4, 6, 8, 1, 2, 3, 4, 5, 6, 7, 8, 9, 10, 1, 2, 3, 4, 5, 6, 7, 8, 9, 10, 1, 2, 3, 4, 5, 6, 7, 8, 10, 1, 2, 3, 4, 5, 6, 7, 8, 10, 1, 2, 3, 4, 5, 6, 7, 8, 1, 2, 3, 4, 5, 6, 7, 1, 2, 3, 4, 3, 6, 3, 3, 6, 3, 4, 7, 3, 1, 2, 3, 4, 5, 7, 8, 1, 2, 3, 4, 5, 6, 8, 9, 10, 1, 5, 8, 8, 8, 4, 1, 9, 2, 4, 4, 7, 3, 2, 6, 9, 4, 8, 1, 2, 3, 4, 5, 6, 7, 8, 9, 10, 1, 1, 2, 3, 4, 5, 6, 7, 8, 9, 10, 1, 2, 3, 4, 5, 6, 7, 8, 9, 10, 9, 2, 5, 1, 2, 8, 1, 2, 3, 4, 5, 6, 7, 8, 2, 3, 4, 5, 6, 9, 2, 3, 9, 2, 3, 8, 9, 1, 3, 5, 10, 1, 2, 3, 4, 5, 9, 10, 1, 2, 3, 4, 5, 7, 8, 9, 10, 1, 2, 3, 4, 6, 10, 1, 2, 3, 4, 5, 4, 7, 10, 4, 6, 2, 3, 5, 1, 2, 4, 10, 2, 3, 1, 1, 2, 4, 1, 8, 10, 1, 2, 5, 7, 2, 8, 1, 2, 4, 2, 4, 7, 1, 7, 10, 1, 2, 3, 4, 5, 6, 9, 1, 2, 3, 4, 6, 7, 8, 9, 10, 2, 3, 5, 5, 1, 6, 4, 5, 9, 1, 2, 3, 4, 5, 7, 1, 2, 3, 4, 5, 7, 8, 2, 1, 2, 3, 4, 5, 6, 7, 8, 10, 1, 2, 3, 4, 5, 6, 7, 9, 1, 2, 3, 4, 5, 6, 7, 9, 1, 2, 3, 4, 6, 8, 9, 1, 2, 10, 2, 2, 1, 2, 3, 4, 6, 8, 5, 3, 3, 1, 2, 3, 10, 1, 2, 3, 4, 7, 4, 10, 1, 2, 3, 4, 5, 6, 7, 9, 2, 3, 4, 5, 7, 9, 4, 6, 7, 6, 1, 2, 9, 2, 7, 1, 2, 4, 6, 9, 1, 5, 2, 1, 1, 2, 4, 8, 9, 10, 1, 7, 1, 4, 5, 7, 4, 7, 7, 2, 4, 1, 1, 10, 1, 10, 7, 7, 3, 1, 2, 3, 4, 5, 6, 7, 2, 4, 2, 3, 6, 7, 1, 2, 3, 4, 5, 6, 7, 8, 9, 10, 8, 6, 3, 1, 2, 3, 4, 6, 7, 3, 5, 3, 5, 3, 9, 10, 9, 2, 3, 6, 2, 10, 4, 1, 9, 5, 1, 6, 7, 3, 1, 2, 3, 4, 6, 7, 8, 9, 4, 10, 5, 1, 2, 3, 1, 2, 3, 4, 5, 6, 7, 5, 6, 1, 2, 3, 4, 5, 6, 7, 8, 9, 8, 8, 10, 1, 2, 1, 3, 10, 4, 6, 8, 1, 2, 4, 5, 6, 7, 8, 6, 1, 2, 9, 1, 2, 3, 4, 5, 6, 1, 2, 3, 6, 1, 2, 4, 7, 8, 8, 3, 4, 7, 1, 2, 6, 9, 1, 2, 4, 10, 6, 6, 7, 3, 1, 6, 8, 2, 3, 4, 5, 7, 8, 9, 8, 1, 2, 3, 6, 8, 1, 2, 3, 4, 6, 10, 1, 3, 4, 5, 8, 10, 1, 1, 1, 2, 3, 1, 2, 2, 4, 1, 5, 6, 7, 1, 2, 3, 4, 5, 6, 7, 8, 10, 1, 2, 3, 4, 5, 6, 7, 8, 9, 1, 2, 3, 4, 5, 6, 7, 8, 3, 8, 8, 1, 4, 1, 2, 3, 4, 5, 6, 7, 8, 9, 1, 2, 3, 4, 5, 6, 7, 8, 9, 2, 1, 2, 3, 4, 6, 7, 10, 1, 2, 3, 4, 5, 6, 7, 8, 9, 1, 2, 3, 4, 5, 6, 7, 8, 9, 1, 2, 3, 5, 7, 10, 1, 2, 4, 3, 7, 4, 6, 1, 3, 4, 5, 6, 7, 8, 9, 3, 4, 7, 3, 3, 5, 7, 1, 2, 3, 4, 8, 1, 2, 3, 4, 6, 9, 5, 9, 1, 3, 5, 10, 6, 1, 2, 3, 4, 5, 6, 7, 8, 9, 10, 1, 9, 2, 4, 5, 6, 8, 9, 1, 2, 3, 4, 5, 6, 7, 8, 9, 10, 1, 2, 3, 4, 5, 7, 10, 1, 2, 3, 4, 5, 7, 1, 2, 3, 4, 5, 6, 7, 8, 5, 2, 3, 6, 1, 2, 3, 4, 5, 6, 7, 5, 3, 1, 2, 1, 2, 4, 1, 2, 1, 4, 7, 2, 4, 3, 5, 6, 1, 2, 3, 4, 5, 6, 7, 8, 10, 1, 2, 3, 4, 5, 6, 7, 8, 9, 10, 8, 1, 2, 3, 4, 5, 7, 10, 1, 2, 3, 4, 5, 7, 8, 9, 1, 2, 3, 4, 5, 6, 7, 8, 9, 10, 1, 2, 3, 4, 6, 7, 9, 1, 2, 3, 4, 5, 6, 7, 8, 9, 1, 2, 3, 4, 6, 8, 1, 2, 3, 4, 5, 6, 7, 8, 10, 1, 2, 3, 4, 5, 6, 7, 9, 10, 4, 6, 8, 2, 6, 2, 3, 5, 8, 5, 2, 3, 1, 6, 1, 2, 3, 4, 5, 6, 9, 2, 3, 4, 6, 9, 6, 1, 2, 3, 4, 5, 6, 7, 8, 4, 7, 10, 1, 2, 3, 4, 5, 6, 7, 8, 9, 1, 5, 9, 1, 8, 1, 2, 3, 4, 6, 7, 9, 1, 2, 3, 4, 5, 6, 7, 8, 9, 2, 3, 1, 2, 3, 4, 5, 6, 7, 8, 10, 2, 8, 8, 9, 10, 1, 2, 3, 4, 5, 6, 7, 9, 5, 1, 2, 3, 4, 5, 6, 7, 8, 1, 2, 3, 5, 6, 7, 10, 4, 1, 2, 3, 4, 6, 7, 8, 5, 9, 9, 7, 2, 8, 5, 10, 2, 4, 5, 7, 4, 1, 3, 10, 7, 2, 6, 1, 7, 8, 3, 10, 1, 9, 6, 10, 9, 1, 2, 3, 4, 5, 6, 8, 2, 8, 1, 2, 1, 4, 6, 5, 8, 6, 1, 2, 3, 4, 5, 6, 7, 9, 1, 2, 3, 4, 5, 6, 7, 3, 1, 2, 3, 4, 5, 6, 7, 1, 2, 3, 4, 5, 6, 7, 10, 2, 3, 4, 6, 1, 2, 4, 5, 8, 1, 2, 3, 1, 2, 3, 4, 5, 6, 7, 8, 10, 6, 2, 1, 2, 3, 4, 5, 6, 7, 8, 9, 3, 6, 4, 8, 1, 2, 3, 4, 5, 6, 7, 9, 10, 1, 2, 3, 4, 5, 6, 7, 8, 9, 1, 2, 3, 5, 6, 8, 9, 4, 1, 2, 3, 4, 5, 6, 7, 8, 9, 10, 4, 6, 1, 2, 3, 4, 5, 6, 7, 9, 10, 1, 2, 3, 4, 5, 6, 7, 9, 10, 1, 2, 4, 5, 6, 7, 7, 8, 1, 2, 3, 4, 5, 6, 7, 8, 10, 1, 3, 5, 6, 8, 1, 2, 3, 4, 5, 6, 7, 8, 9, 1, 2, 3, 4, 6, 7, 8, 10, 1, 4, 7, 7, 8, 4, 1, 1, 2, 3, 4, 5, 6, 7, 10, 1, 2, 3, 4, 5, 7, 9, 2, 4, 5, 6, 2, 3, 4, 5, 1, 2, 3, 4, 5, 6, 8, 1, 2, 3, 4, 6, 4, 7, 1, 2, 3, 4, 5, 6, 7, 9, 10, 8, 1, 1, 8, 1, 2, 3, 9, 1, 2, 3, 4, 5, 6, 8, 9, 6, 1, 2, 3, 4, 5, 6, 8, 10, 3, 7, 1, 2, 3, 4, 5, 6, 7, 2, 2, 3, 4, 5, 6, 7, 8, 9, 10, 1, 2, 3, 4, 5, 6, 7, 8, 1, 2, 3, 4, 5, 6, 8, 10, 1, 2, 3, 4, 5, 6, 7, 8, 9, 8, 1, 2, 3, 4, 6, 8, 8, 9, 1, 1, 3, 2, 2, 3, 4, 1, 2, 3, 4, 5, 6, 7, 8, 5, 8, 3, 1, 1, 2, 3, 4, 5, 6, 7, 8, 9, 1, 2, 3, 4, 5, 6, 8, 10, 1, 2, 3, 4, 5, 6, 7, 10, 1, 8, 5, 6, 1, 2, 3, 4, 5, 6, 7, 8, 9, 10, 2, 3, 10, 3, 4, 5, 6, 1, 2, 3, 5, 8, 3, 3, 1, 2, 3, 4, 5, 6, 7, 8, 9, 2, 4, 5, 6, 8, 9, 1, 2, 3, 4, 5, 6, 7, 8, 9, 10, 1, 4, 7, 5, 2, 8, 1, 2, 3, 4, 5, 9, 1, 3, 4, 5, 2, 7, 4, 4, 8, 1, 2, 8, 1, 3, 4, 5, 6, 1, 2, 3, 4, 5, 6, 7, 8, 9, 2, 10, 1, 2, 3, 4, 5, 7, 1, 2, 3, 4, 5, 6, 7, 1, 2, 3, 4, 6, 8, 10, 1, 2, 3, 4, 5, 6, 7, 8, 9, 1, 2, 4, 7, 1, 2, 3, 4, 5, 6, 7, 1, 1, 2, 3, 4, 6, 7, 8, 10, 6, 7, 1, 2, 3, 4, 5, 6, 7, 8, 10, 3, 4, 1, 7, 3, 1, 2, 3, 4, 5, 1, 2, 3, 5, 6, 7, 10, 5, 1, 3, 10, 5, 10, 4, 9, 2, 3, 3, 1, 1, 2, 4, 2, 9, 3, 2, 5, 6, 9, 1, 2, 7, 1, 1, 1, 2, 3, 4, 5, 7, 1, 2, 3, 4, 5, 6, 7, 8, 9, 10, 8, 3, 6, 7, 1, 2, 3, 4, 5, 6, 7, 8, 1, 3, 4, 5, 7, 1, 4, 1, 1, 2, 3, 4, 5, 6, 7, 8, 9, 10, 2, 6, 1, 8, 8, 1, 3, 4, 3, 2, 4, 6, 1, 8, 10, 5, 1, 2, 3, 4, 6, 8, 10, 7, 3, 1, 2, 3, 4, 5, 6, 7, 8, 1, 2, 3, 4, 6, 7, 8, 9, 7, 1, 2, 3, 4, 5, 6, 7, 8, 9, 1, 2, 3, 4, 5, 6, 7, 8, 9, 10, 1, 2, 3, 4, 6, 7, 9, 10, 1, 2, 3, 4, 6, 1, 2, 3, 4, 5, 6, 7, 8, 10, 9, 1, 2, 3, 4, 5, 6, 8, 9, 5, 2, 2, 8, 1, 2, 3, 4, 5, 6, 7, 8, 10, 1, 2, 3, 5, 8, 1, 2, 3, 4, 5, 7, 10, 4, 3, 5, 7, 3, 6, 8, 1, 4, 6, 8, 4, 6, 7, 8, 2, 6, 8, 9, 1, 2, 3, 4, 5, 9, 10, 4, 5, 7, 1, 2, 4, 8, 1, 2, 3, 4, 5, 6, 7, 8, 9, 10, 2, 6, 2, 3, 4, 5, 6, 7, 8, 9, 3, 4, 6, 8, 9, 1, 2, 3, 4, 5, 6, 7, 8, 1, 9, 2, 3, 4, 6, 9, 4, 2, 7, 1, 3, 10, 1, 2, 3, 4, 5, 7, 8, 1, 2, 3, 4, 5, 6, 7, 8, 1, 2, 3, 4, 6, 7, 8, 9, 2, 3, 4, 5, 9, 3, 10, 1, 2, 5, 6, 3, 4, 7, 6, 1, 2, 4, 9, 6, 1, 2, 8, 9, 8, 1, 2, 3, 4, 5, 6, 7, 8, 9, 1, 2, 3, 4, 6, 8, 1, 5, 1, 2, 3, 4, 5, 6, 7, 8, 10, 1, 2, 10, 2, 3, 6, 2, 9, 1, 2, 3, 4, 5, 6, 7, 8, 9, 10, 1, 2, 3, 9, 1, 2, 3, 4, 5, 6, 7, 8, 10, 1, 2, 3, 4, 6, 4, 1, 2, 3, 4, 5, 7, 8, 9, 10, 5, 1, 2, 3, 4, 5, 8, 2, 5, 1, 2, 9, 4, 5, 1, 4, 7, 5, 9, 4, 8, 1, 2, 3, 4, 5, 8, 4, 1, 3, 1, 2, 3, 4, 5, 6, 7, 8, 10, 5, 5, 3, 5, 7, 7, 4, 1, 2, 1, 2, 3, 4, 5, 6, 7, 8, 9, 1, 2, 3, 4, 5, 6, 8, 9, 10, 4, 9, 1, 2, 3, 4, 5, 6, 7, 8, 9, 10, 1, 2, 4, 6, 1, 7, 2, 3, 4, 7, 1, 2, 3, 6, 4, 1, 2, 3, 4, 5, 6, 7, 8, 9, 10, 1, 2, 3, 4, 5, 6, 7, 8, 10, 1, 2, 3, 4, 6, 7, 9, 1, 2, 3, 4, 7, 2, 5, 7, 2, 4, 3, 6, 2, 1, 2, 3, 6, 1, 2, 3, 4, 5, 6, 7, 8, 9, 10, 1, 2, 3, 4, 5, 6, 7, 8, 10, 1, 2, 3, 4, 5, 6, 7, 8, 1, 2, 3, 4, 5, 6, 7, 9, 10, 4, 7, 1, 7, 8, 10, 4, 1, 2, 3, 4, 6, 7, 1, 2, 3, 4, 5, 6, 10, 1, 1, 2, 4, 5, 7, 1, 1, 2, 3, 4, 5, 6, 7, 8, 3, 1, 2, 3, 4, 9, 1, 2, 3, 4, 5, 6, 7, 10, 1, 3, 4, 5, 6, 8, 6, 3, 10, 2, 8, 10, 1, 4, 5, 7, 8, 2, 5, 3, 8, 6, 1, 2, 3, 4, 6, 7, 8, 1, 2, 3, 4, 5, 6, 7, 8, 9, 10, 1, 2, 3, 4, 5, 6, 7, 8, 9, 10, 1, 2, 4, 6, 8, 9, 10, 10, 10, 1, 3, 4, 1, 4, 1, 4, 6, 7, 7, 2, 1, 2, 3, 4, 5, 6, 8, 2, 3, 5, 5, 2, 3, 4, 5, 8, 9, 4, 10, 1, 2, 3, 4, 5, 6, 7, 8, 9, 10, 4, 6, 4, 1, 3, 6, 1, 2, 3, 4, 5, 6, 7, 8, 9, 10, 1, 2, 3, 4, 5, 7, 8, 1, 2, 3, 4, 7, 7, 1, 2, 3, 4, 5, 6, 7, 8, 10, 1, 2, 3, 4, 5, 6, 7, 9, 10, 7, 1, 2, 4, 5, 6, 7, 8, 9, 9, 1, 2, 3, 4, 9, 10, 2, 3, 4, 5, 7, 8, 1, 2, 4, 7, 4, 7, 1, 2, 4, 1, 2, 3, 4, 5, 6, 7, 8, 6, 1, 2, 3, 4, 5, 6, 7, 8, 9, 10, 5, 1, 2, 3, 4, 5, 6, 7, 9, 10, 4, 10, 1, 2, 3, 4, 5, 6, 7, 8, 9, 10, 1, 2, 3, 4, 5, 6, 7, 8, 9, 4, 6, 1, 2, 3, 5, 6, 7, 10, 1, 3, 10], \"Freq\": [0.355122065321282, 0.532683097981923, 0.08684651005858572, 0.2955193745049097, 0.21952867820364724, 0.1411255788452018, 0.05186666572943314, 0.1821364308173117, 0.02171162751464643, 0.30197559043333194, 0.6794450784749969, 0.9705250800234643, 0.011009499924339385, 0.12110449916773323, 0.05504749962169692, 0.27523749810848464, 0.05504749962169692, 0.48441799667093294, 0.18381981019740404, 0.7965525108554175, 0.9135149436062945, 0.9885181475050882, 0.05384216746528318, 0.14357911324075515, 0.03589477831018879, 0.7537903445139645, 0.933677051638005, 0.01858774791977876, 0.539044689673584, 0.016264279429806412, 0.3159917146362389, 0.002323468489972345, 0.0418224328195022, 0.06273364922925331, 0.9637278364869297, 0.14410624283256435, 0.792584335579104, 0.17849478276136352, 0.16873334932910147, 0.14642150148393102, 0.04044022421937143, 0.06693554353551133, 0.046018186180664035, 0.04462369569034088, 0.26355870267107584, 0.04322920520001773, 0.9653209635237813, 0.10859973429074904, 0.029304690205440218, 0.13273300857758216, 0.1008426104128384, 0.3878561938955323, 0.12239017674036796, 0.04395703530816033, 0.07239982286049935, 0.0012928539796517743, 0.16655660541899936, 0.03957780722827708, 0.06101578614359383, 0.02143797891531675, 0.6876644005913142, 0.004947225903534635, 0.01978890361413854, 0.040544462555630975, 0.9527948700573279, 0.36242401981233224, 0.033176123866316125, 0.10405238848980967, 0.02010674173716129, 0.24429691210650967, 0.038202809300606454, 0.04725084308232903, 0.14828722031156452, 0.0025133427171451614, 0.9141261274417167, 0.33615551123419135, 0.6513013030162458, 0.9590239805176156, 0.9413842056616176, 0.977349552249177, 0.2284593802009284, 0.1142296901004642, 0.6473015772359638, 0.9663334121257309, 0.28248883699418653, 0.043264056116226766, 0.036901694922664006, 0.1272472238712552, 0.17687364118104473, 0.03308427820652635, 0.05726125074206484, 0.24304219759409745, 0.9895357054024779, 0.26000759246208127, 0.19500569434656098, 0.09100265736172845, 0.4550132868086423, 0.19373248427731257, 0.014004757899564764, 0.32911181063977196, 0.09803330529695335, 0.10503568424673573, 0.02800951579912953, 0.06535553686463556, 0.11670631582970636, 0.049016652648476676, 0.9858419959602481, 0.09925939016582948, 0.8933345114924653, 0.24859898228047123, 0.35928262810145845, 0.12473871195698556, 0.11771117888898638, 0.007905974701499086, 0.04919273147599431, 0.0527064980099939, 0.04040831514099533, 0.9832423540934572, 0.0816305316675255, 0.020407632916881375, 0.816305316675255, 0.06122289875064412, 0.21340190994070352, 0.22064309251354178, 0.14737936295306073, 0.15334268977775103, 0.0655965950715935, 0.061337075911100415, 0.04429899926912808, 0.043873047353078766, 0.04728066268147324, 0.0034076153283944676, 0.3993849073612703, 0.15926888006107337, 0.029104973006084476, 0.2348609627296539, 0.05133793849684345, 0.06589042499988569, 0.038806630674779304, 0.009297421932499208, 0.011722836349672914, 0.9981851223361712, 0.22174997652918155, 0.17340637975030784, 0.392003513011302, 0.11560425316687191, 0.015764216340937078, 0.024171798389436852, 0.016815164096999548, 0.02312085063337438, 0.016815164096999548, 0.4702344660086458, 0.10101332973519057, 0.161969649402978, 0.043540228334133874, 0.1001425251685079, 0.011320459366874806, 0.043540228334133874, 0.06618114706788349, 0.0008708045666826774, 0.15647676673474328, 0.26018097684522024, 0.11597689769751561, 0.23931740794725445, 0.09511332879954984, 0.031295353346948655, 0.06443160983195312, 0.03681806276111607, 0.07196856832079405, 0.35330024448389813, 0.22244830208245436, 0.006542597120072187, 0.013085194240144375, 0.006542597120072187, 0.3205872588835372, 0.0026669693630781074, 0.6587414326802925, 0.224025426498561, 0.11467968261235861, 0.08744795977446751, 0.9036289176694976, 0.9708470621433668, 0.9627081045971718, 0.9829073041428996, 0.9602407872785946, 0.004286789228922298, 0.030007524602456082, 0.9814054469681639, 0.07463142876492339, 0.16196607944728056, 0.11591689999658314, 0.4462006698498611, 0.08733465068235716, 0.006351610958716884, 0.10638948355850782, 0.09797070553916873, 0.17367534163761728, 0.30356074670848493, 0.31840479300229835, 0.03488350879046159, 0.043789936566749656, 0.0014844046293813443, 0.01039083240566941, 0.015586248608504116, 0.07486418395794026, 0.873415479509303, 0.024954727985980085, 0.9304333227714188, 0.9782029051421698, 0.9663417334359085, 0.956654823341942, 0.8837351510732758, 0.09067375221931759, 0.8840690841383465, 0.8536747594848332, 0.14227912658080552, 0.9814646858894724, 0.017236966339069078, 0.3102653941032434, 0.655004720884625, 0.2581755539056935, 0.7228915509359419, 0.0633442337874846, 0.31387423708180573, 0.22988974734109582, 0.1430583257447686, 0.07900235899337968, 0.012811193350277786, 0.06547943267919758, 0.08327275677680561, 0.001423465927808643, 0.008540795566851857, 0.9794292319485607, 0.2991747376285066, 0.23440494906975773, 0.32354051522917876, 0.06507821612331433, 0.01727194361566636, 0.02714162568176142, 0.008327544243267709, 0.0003084275645654707, 0.013879240405446181, 0.011103392324356946, 0.3693586205079881, 0.19633100175266877, 0.10311746976327113, 0.16021075810677718, 0.06408430324271087, 0.05359778089390364, 0.04660676599469882, 0.0005825845749337352, 0.0005825845749337352, 0.005825845749337352, 0.8406370592286921, 0.9211245915887387, 0.06352583390267164, 0.08699603028120755, 0.028998676760402516, 0.840961626051673, 0.09833970084997114, 0.2107279303927953, 0.21474179573361044, 0.1324575562468999, 0.0020069326704075744, 0.10235356619078628, 0.16858234431423624, 0.06823571079385753, 0.28872732943116597, 0.29642672488266375, 0.06544486133773095, 0.0038496977257488794, 0.07699395451497759, 0.2656291430766727, 0.326797177313318, 0.20230301452729207, 0.45129134009934385, 0.007638065626975011, 0.3360748875869005, 0.1374851812855502, 0.5117503970073257, 0.12837614450787366, 0.2310770601141726, 0.2567522890157473, 0.38512843352362097, 0.4768480559876965, 0.19953216527144746, 0.0676380221259144, 0.084547527657393, 0.10145703318887159, 0.0033819011062957197, 0.06425612101961868, 0.15520919300544903, 0.09802685874028359, 0.06943569160770088, 0.016337809790047265, 0.579992247546678, 0.008168904895023633, 0.012253357342535449, 0.024506714685070898, 0.04084452447511817, 0.12287529095556805, 0.666113419390711, 0.04958125775400114, 0.023712775447565764, 0.1293424115321769, 0.00862282743547846, 0.07747320829728072, 0.007043018936116428, 0.9015064238229028, 0.014086037872232856, 0.9640876111631884, 0.06155644042632165, 0.8617901659685031, 0.8594536071441263, 0.9437306659750885, 0.9808562457278571, 0.2435862598695051, 0.009368702302673273, 0.7494961842138619, 0.03723155999771007, 0.7115364799562369, 0.21925251998651488, 0.028957879998218944, 0.055056948938183345, 0.9359681319491169, 0.9809082189207055, 0.02362380641656548, 0.9213284502460538, 0.04724761283313096, 0.9544165310091389, 0.3552158729492611, 0.3552158729492611, 0.25425280396593763, 0.09443675575877683, 0.5666205345526609, 0.07264365827598218, 0.02924076230825959, 0.9503247750184367, 0.9690471971189601, 0.9792524560670259, 0.9502049709086009, 0.16728048635040244, 0.7478421742723874, 0.06888020026193042, 0.8470486481970877, 0.08551933467374442, 0.0651575883228529, 0.5497369925286555, 0.14448215829278765, 0.21026265312527637, 0.01879442709499677, 0.01174651693437298, 0.04816071943092922, 0.016445123708122174, 0.003151154089166485, 0.14390270340526948, 0.002100769392777657, 0.1596584738511019, 0.27940232923942837, 0.003151154089166485, 0.018906924534998912, 0.38759195296747767, 0.002100769392777657, 0.030077649159106847, 0.9549653608016424, 0.007519412289776712, 0.945562652370166, 0.07550073876605087, 0.9060088651926105, 0.23989613824676098, 0.06663781617965582, 0.6797057250324894, 0.0044962887818794026, 0.647465584590634, 0.013488866345638208, 0.27876990447652295, 0.008992577563758805, 0.044962887818794026, 0.010291685560628726, 0.169812811750374, 0.01852503400913171, 0.5197301208117507, 0.08439182159715555, 0.010291685560628726, 0.18525034009131708, 0.9603433903166702, 0.04430359582002623, 0.048824370903702376, 0.6256752715807786, 0.18354346839725152, 0.0009041550167352292, 0.04249528578655577, 0.02260387541838073, 0.020795565384910272, 0.00994570518408752, 0.07739448016154923, 0.06879509347693265, 0.5125234464031483, 0.19778589374618136, 0.00945932535307824, 0.10405257888386063, 0.016338834700771503, 0.014618957363848188, 0.15379689285690593, 0.3023267688351507, 0.3233948363497953, 0.07689844642845296, 0.0031602101271966973, 0.05372357216234385, 0.024228277641841343, 0.06215079916820171, 0.03035615618351159, 0.5607900431796088, 0.24604463432951498, 0.09905693070409045, 0.007988462153555682, 0.03195384861422273, 0.025563078891378183, 0.30440559961518354, 0.3278214149701977, 0.35123723032521176, 0.9885651489928545, 0.978321297604221, 0.13360911888816568, 0.07634806793609468, 0.0027267167120033813, 0.1908701698402367, 0.08180150136010145, 0.5126227418566357, 0.9465155214081062, 0.972060331237691, 0.9939860505992218, 0.7364173169364755, 0.1414311403387933, 0.0780309739800239, 0.04389242286376344, 0.019339278871700897, 0.11603567323020539, 0.19339278871700896, 0.019339278871700897, 0.6381962027661296, 0.5266034891044017, 0.4388362409203348, 0.02678532292777723, 0.19031676817104873, 0.1000925225195886, 0.0718974457535073, 0.24106790634999506, 0.14097538383040648, 0.09304375332806827, 0.13533636847719022, 0.2830587466392033, 0.03787405764890748, 0.10365531567069415, 0.4883760065253859, 0.01993371455205657, 0.06578125802178668, 0.8055006949308804, 0.18758235361404066, 0.9469817860958231, 0.9570849767093522, 0.06404432821005973, 0.09606649231508961, 0.8325762667307766, 0.9863756229641876, 0.9235581001767643, 0.004195106005455817, 0.2600965723382606, 0.2559014663328048, 0.4782420846219631, 0.9465588876552086, 0.9710671617270232, 0.016742537271155575, 0.9621191238515167, 0.9772793717256081, 0.3037544614382941, 0.032545120868388656, 0.2929060878154979, 0.010848373622796219, 0.15187723071914705, 0.19527072521033192, 0.0656483815179038, 0.9190773412506531, 0.05331126674991551, 0.026655633374957754, 0.9062915347485636, 0.013327816687478877, 0.9830577611016109, 0.9577531572483277, 0.9505887349408748, 0.9747852269589279, 0.9584508757531527, 0.966962776954108, 0.616059241160219, 0.3696355446961314, 0.24361929803499183, 0.7308578941049755, 0.9039714372405125, 0.9009936922339408, 0.994444099648692, 0.2508745345719134, 0.16361382689472612, 0.010907588459648407, 0.1272551986958981, 0.36540421339822166, 0.07817105062748025, 0.0036358628198828024, 0.936659743019717, 0.05764059957044412, 0.007251857790344375, 0.9717489439061462, 0.0036259288951721873, 0.01450371558068875, 0.2679375963983841, 0.1250150197571275, 0.24631337676471882, 0.13346198055152803, 0.17535890609175453, 0.03142269415516989, 0.016893921588801014, 0.002027270590656122, 0.0006757568635520407, 0.0006757568635520407, 0.9656561191401366, 0.9774769833981222, 0.9782046826181343, 0.13485504280446414, 0.5368268050100784, 0.04408722553222866, 0.12188821176557335, 0.025933662077781562, 0.13744840901224228, 0.7798308266112861, 0.21304656603298022, 0.15922849063774647, 0.8188893804226962, 0.3322950030668549, 0.13291800122674197, 0.46521300429359685, 0.7402438602455769, 0.0253918844668457, 0.9521956675067138, 0.01269594223342285, 0.2862225570402117, 0.6440007533404764, 0.9847478108299926, 0.23328505475991632, 0.699855164279749, 0.9397467355975077, 0.9721123324332256, 0.9183824400476667, 0.9353843822957403, 0.9921038178577402, 0.001616441286912519, 0.013739750938756411, 0.020205516086406486, 0.28853476971388464, 0.49382281315177456, 0.04526035603355053, 0.04526035603355053, 0.09052071206710106, 0.16227085597509608, 0.6490834239003843, 0.9828104981452528, 0.8609889686045661, 0.10837623381036496, 0.030104509391768043, 0.6930599570098627, 0.0028877498208744277, 0.21369348674470764, 0.008663249462623283, 0.0028877498208744277, 0.01155099928349771, 0.06353049605923741, 0.18068423212470888, 0.81307904456119, 0.1803315350408864, 0.26690756474435645, 0.2263646435173656, 0.1549922092740171, 0.005490187249488345, 0.09460014952964532, 0.022383071094067866, 0.032096479304701095, 0.016470561748465035, 0.9133037811089451, 0.9614419681235926, 0.9224544772395621, 0.036732122529195325, 0.9550351857590784, 0.21859287012673742, 0.3916455589770712, 0.3916455589770712, 0.9630942982629573, 0.03321014821596405, 0.9623325907677757, 0.333828338330436, 0.111276112776812, 0.06847760786265354, 0.09415671081114863, 0.30244276806005316, 0.03423880393132677, 0.05421143955793405, 0.9404072884078207, 0.2041235980658138, 0.0371133814665116, 0.7422676293302319, 0.094900443240083, 0.007908370270006918, 0.015816740540013835, 0.16607577567014525, 0.14235066486012452, 0.5694026594404981, 0.36384436477404897, 0.005512793405667408, 0.02756396702833704, 0.6008944812177475, 0.2759294142173695, 0.09854621936334625, 0.1892087411776248, 0.25622017034470024, 0.17738319485402324, 0.9848246749948144, 0.12694460174251057, 0.12694460174251057, 0.7299314600194358, 0.09273205664170549, 0.09273205664170549, 0.046366028320852744, 0.7418564531336439, 0.060044169134328265, 0.020014723044776087, 0.46033863002985004, 0.46033863002985004, 0.936382334388788, 0.9182285408880758, 0.9568427536135649, 0.9753030650222891, 0.04579470766584214, 0.7441639995699348, 0.1946275075798291, 0.005549430531013418, 0.48834988672918084, 0.002774715265506709, 0.457828018808607, 0.030521867920573802, 0.005549430531013418, 0.005549430531013418, 0.934266727035172, 0.3928648300267223, 0.030055232898219195, 0.023614825848600796, 0.4400944817239239, 0.11163372219338558, 0.021158657636907417, 0.5231958979308016, 0.21543360503033004, 0.06924651590260608, 0.1307989744827004, 0.04039380094318688, 0.30889138379520886, 0.36829357298659515, 0.03564131351483179, 0.07128262702966358, 0.023760875676554525, 0.17820656757415895, 0.9657178896717551, 0.9709904304617826, 0.24920953361690656, 0.7053100008025658, 0.042318600048153944, 0.036371203811701315, 0.9456512991042342, 0.9892877184802861, 0.006382501409550233, 0.049322103377720715, 0.9371199641766936, 0.9425117979895009, 0.9073205716085729, 0.27653650053530815, 0.11450339475290101, 0.11774405686854916, 0.06805390442861098, 0.21172325822234528, 0.04428904891385794, 0.07453522865990726, 0.0637330216077468, 0.02916595904083328, 0.20181898777093762, 0.1745461515856758, 0.0036363781580349124, 0.09818221026694263, 0.31272852159100245, 0.07636394131873316, 0.093636737569399, 0.03636378158034912, 0.0027272836185261843, 0.33196326360155526, 0.044059197457414656, 0.049376686805723324, 0.08811839491482931, 0.19598746455194796, 0.03950134944457866, 0.10179193895333731, 0.14813006041716997, 0.9853414611350256, 0.9761495321868257, 0.973205167658319, 0.9382791761592895, 0.04938311453469944, 0.1464996942613628, 0.23837238388289542, 0.08690659829063896, 0.38735512380970505, 0.02358893382174486, 0.05338548180710678, 0.027313502319915098, 0.01738131965812779, 0.019864365323574617, 0.2849383808201263, 0.1647602882293247, 0.164517993687811, 0.23139128714559573, 0.01792979607201475, 0.04991267555182484, 0.03513270851948836, 0.0397363048082489, 0.011872432534171928, 0.988437293700135, 0.2890384861545154, 0.16860578359013398, 0.27298079247926454, 0.06155449242179494, 0.09634616205150512, 0.032115387350501706, 0.08028846837625427, 0.3524421256601366, 0.3023996331728961, 0.02645103174325569, 0.1544168339606278, 0.06219566923414176, 0.06219566923414176, 0.004289356498906328, 0.02073188974471392, 0.01572764049598987, 0.42727657066665453, 0.1709106282666618, 0.09783160100781332, 0.16030238237424832, 0.007661510922298633, 0.041843636575631, 0.06718555731861879, 0.013554980862528352, 0.013554980862528352, 0.5998273281256502, 0.08636257342123237, 0.20177437608415197, 0.05024731544508065, 0.045536629622104335, 0.015702286076587704, 0.2512113286916581, 0.10136597473523044, 0.6390463624612354, 0.15601992497955916, 0.7800996248977957, 0.9203968565949708, 0.02876240176859284, 0.11558815412317448, 0.02101602802239536, 0.003502671337065893, 0.35376980504365524, 0.04553472738185661, 0.262700350279942, 0.09106945476371323, 0.1015774687749109, 0.07084239310851513, 0.7995070079389566, 0.12144410247174023, 0.9806760882031893, 0.8208160932804831, 0.025650502915015097, 0.14107776603258304, 0.0941884212927165, 0.6593189490490156, 0.00376753685170866, 0.02260522111025196, 0.21851713739910228, 0.15863317904192584, 0.16434968999839164, 0.4501752378216814, 0.10718458043373368, 0.09432243078168563, 0.024295171564979633, 0.9482900710724664, 0.026341390863124068, 0.9817187480737779, 0.11890028111614497, 0.8798620802594728, 0.660135153729134, 0.9162700216908681, 0.20247469104908764, 0.09528220755251182, 0.19833198637289146, 0.07301516991795744, 0.04608758952268235, 0.18797522468240105, 0.07353300800248196, 0.0895859886227421, 0.022784875719078914, 0.010356761690490416, 0.16132798795018535, 0.8066399397509267, 0.04005701928034827, 0.013352339760116091, 0.0033380849400290228, 0.06676169880058046, 0.017803119680154786, 0.8578878295874588, 0.5839200921109616, 0.0914961404173869, 0.09195592001747428, 0.09379503841782376, 0.03034545360576651, 0.013103718602490084, 0.054713772410397196, 0.03195468220607231, 0.0004597796000873714, 0.008046143001529, 0.5781442007220736, 0.008192326730879586, 0.25513246104739284, 0.04681329560502621, 0.06553861384703669, 0.04330229843464924, 0.0023406647802513103, 0.6411772740441269, 0.0016610810208397071, 0.013288648166717657, 0.19932972250076483, 0.04484918756267209, 0.10132594227122213, 0.6092678436259407, 0.10220487883972217, 0.1695491788503918, 0.03723743647648792, 0.004753715294870798, 0.005546001177349265, 0.05862915530340651, 0.013468860002133928, 0.9393339044106137, 0.9878210632066644, 0.928961028578673, 0.052335832595981575, 0.14871355910414857, 0.5488603521575792, 0.14718042962884806, 0.05059327268491653, 0.0015331294753005008, 0.06592456743792154, 0.038328236882512516, 0.9461359259085932, 0.9902279207932058, 0.03540622205132899, 0.9559679953858827, 0.08572706613247288, 0.10001491048788502, 0.8144071282584924, 0.9304296237480655, 0.0547311543381215, 0.8862708565898907, 0.01489530851411581, 0.08937185108469486, 0.9769818753570122, 0.9601765517967151, 0.025319456154214496, 0.10127782461685798, 0.8355420530890784, 0.4906770725501988, 0.16524519969044496, 0.04131129992261124, 0.18885165678907997, 0.03793894890852053, 0.012646316302840176, 0.009273965288749462, 0.035409685647952494, 0.017704842823976247, 0.6153797908433735, 0.06551756448253582, 0.11065188668161606, 0.08007702325643268, 0.039310538689521494, 0.03979585398198472, 0.006309098802021968, 0.01698603523621299, 0.016500719943749763, 0.009706305849264567, 0.988779906066252, 0.3030391242048598, 0.20404634363127225, 0.3434443407655077, 0.08485095477736074, 0.0020202608280323986, 0.022222869108356382, 0.04242547738868037, 0.44724909420793263, 0.09132311347701243, 0.170938135482613, 0.04449074759136503, 0.02107456464854133, 0.04449074759136503, 0.00702485488284711, 0.17327975377689536, 0.17559539161566978, 0.24277393158984648, 0.25574404574327664, 0.19288887715357667, 0.0016628351478756608, 0.06884137512205236, 0.008314175739378303, 0.023612259099834384, 0.028268197513886234, 0.002327969207025925, 0.2793880366126206, 0.1822095890951874, 0.018220958909518737, 0.0911047945475937, 0.3219036074014977, 0.10932575345711243, 0.9165640183650119, 0.2310581104994747, 0.15277197437629741, 0.3268256168249149, 0.10944857865764591, 0.07182562974408013, 0.034582710617520065, 0.046743663801702945, 0.017101340415257172, 0.009880774462148589, 0.01385963727940384, 0.00346490931985096, 0.779604596966466, 0.15938582871314416, 0.04157891183821152, 0.00346490931985096, 0.3901019186937369, 0.2359219440140998, 0.013291377127554918, 0.11762868757886104, 0.15218626811050381, 0.035222149388020534, 0.023259909973221107, 0.02126620340408787, 0.011297670558421681, 0.1719677918313537, 0.22331069370906, 0.29506703850199895, 0.15650306235011685, 0.023197094221855265, 0.06742622053819264, 0.03928041288234158, 0.01175319440574, 0.011134605226490527, 0.019469340500994033, 0.21416274551093434, 0.7593042795387672, 0.31570277927998475, 0.6776059652838697, 0.01597945553118545, 0.9587673318711271, 0.01597945553118545, 0.9666577162785112, 0.9716455613900711, 0.010380715838532516, 0.9861680046605892, 0.16596327238493558, 0.8298163619246779, 0.06811351545424141, 0.5348172324555251, 0.04793173309742914, 0.2245223287195365, 0.012613613973007668, 0.10090891178406135, 0.007568168383804601, 0.05830355443455975, 0.8405429097649031, 0.09231396118805293, 0.004858629536213312, 0.004858629536213312, 0.9384853342154353, 0.10938492484637552, 0.02828920470164884, 0.09995518994582592, 0.2508309483546197, 0.04526272752263815, 0.2715763651358289, 0.0037718939602198456, 0.19236659197121214, 0.9527242945230546, 0.9043291733045956, 0.83924103199425, 0.16034050426023685, 0.11588030543881425, 0.14000232820362865, 0.09033934015842254, 0.1560836767135049, 0.08702847428874214, 0.03500058205090716, 0.2147333006907007, 0.00047298083852577243, 0.19468274050005135, 0.794954523708543, 0.8966785182573286, 0.14371645372925992, 0.8335554316297075, 0.14492539345675287, 0.2054282276183099, 0.3813085594833013, 0.0689450900910766, 0.028140853098398616, 0.08864368725995564, 0.08160847398535599, 0.05583816334054354, 0.3720754537980449, 0.27274795170188576, 0.10201202917983916, 0.024697649169855795, 0.08590486667775929, 0.030066703337215752, 0.023623838336383804, 0.03167741958742374, 0.9364169427039007, 0.05350953958308004, 0.016952936603584157, 0.4109625666317125, 0.34081248413412285, 0.09177969126767974, 0.0005845840208132467, 0.07716509074734858, 0.024552528874156362, 0.026306280936596104, 0.011691680416264935, 0.062393989394568285, 0.9151118444536682, 0.3781469236440723, 0.09127684363822436, 0.5215819636469964, 0.012420033975387858, 0.16698045678021453, 0.21390058513167978, 0.019320052850603335, 0.2663407285833174, 0.09798026802805977, 0.22080060400689527, 0.0013800037750430953, 0.9763469242058234, 0.2828507330898537, 0.011592243159420233, 0.1043301884347821, 0.16229140423188326, 0.3384935002550708, 0.06259811306086926, 0.02086603768695642, 0.016229140423188328, 0.6072931316728574, 0.07496728611081206, 0.09646953096430079, 0.08077870363878199, 0.11041693303142862, 0.026151378875864672, 0.004067992269578949, 0.953873996416465, 0.30810067538518826, 0.047400103905413576, 0.03555007792906018, 0.003385721707529541, 0.49600823015307777, 0.03385721707529541, 0.07279301671188514, 0.9852415243168345, 0.8904051623619288, 0.8449820958614113, 0.931330656021274, 0.9867190453440324, 0.9483728430560018, 0.9401237564545014, 0.8653009872145053, 0.05061159041188736, 0.05061159041188736, 0.2530579520594368, 0.6073390849426483, 0.9823937279386216, 0.610444997383329, 0.14363411703137152, 0.23939019505228587, 0.8954567782861663, 0.9823797582276962, 0.9702233096996853, 0.9817497060353925, 0.9762513307410882, 0.9566465227450448, 0.44773222102458515, 0.5036987486526583, 0.9661810921173265, 0.9733201722154596, 0.988538502829933, 0.6206003441372163, 0.9383875819972964, 0.09707644749438116, 0.37077809806881695, 0.208984018911515, 0.11055928742415633, 0.0026965679859550324, 0.012134555936797645, 0.19684946297471737, 0.9056530020146608, 0.06355459663260778, 0.018181649104661215, 0.9818090516517056, 0.01735286993975561, 0.3644102687348678, 0.6073504478914463, 0.9631181176192251, 0.9761719520597705, 0.952976555301529, 0.004292592271678407, 0.4335518194395191, 0.04614536692054288, 0.13199721235411102, 0.14594813723706584, 0.1770694312067343, 0.04185277464886447, 0.01931666522255283, 0.004078368946990947, 0.08156737893981894, 0.7361455949318659, 0.05097961183738684, 0.014274291314468316, 0.0856457478868099, 0.024470213681945685, 0.980888067202306, 0.23617079077428976, 0.16827168842668144, 0.38156343384471186, 0.06642303490526899, 0.015498708144562766, 0.08044567560749245, 0.051662360481875884, 0.10774662649899527, 0.27001564231073516, 0.19472281897408783, 0.2674193380577473, 0.010385217011951352, 0.06620575845118987, 0.018174129770914864, 0.06490760632469594, 0.00971515425045776, 0.9812305792962338, 0.700246247356453, 0.2911136084515591, 0.11012017354993613, 0.024471149677763582, 0.012235574838881791, 0.22024034709987225, 0.6240143167829714, 0.10756862046970345, 0.03309803706760106, 0.8522744544907273, 0.2819914271459867, 0.30129789414975755, 0.18838431440043094, 0.012285933547854191, 0.025156911550368106, 0.041538156280840365, 0.04036806737152091, 0.09185197938157658, 0.0175513336397917, 0.905132625497399, 0.9807957547478792, 0.39127946977761774, 0.10858902716305446, 0.14314008126038996, 0.061473953393960584, 0.13775550140106496, 0.052499653628418894, 0.023333179390408396, 0.06596110327673142, 0.01570502458969796, 0.24202508758982016, 0.745437269776646, 0.9483687846037714, 0.9560354522696388, 0.14998627742583273, 0.23584798696670797, 0.13803084951507794, 0.18911313240648472, 0.04456114039463146, 0.02934514123548901, 0.09020913787205881, 0.10868570827958893, 0.013042284993550672, 0.09939680882157284, 0.2238938218910176, 0.1365451111084233, 0.11746895588004062, 0.01405611437880828, 0.11244891503046624, 0.043172351306339715, 0.22690584640076225, 0.02510020424787193, 0.12122961376137971, 0.4211951965299218, 0.01865070980944303, 0.06372325851559703, 0.10102467813448308, 0.2688810664194704, 0.006216903269814344, 0.9815990074101872, 0.32606004826949797, 0.2688261036264478, 0.14742076650482622, 0.06330421149913126, 0.03468723917760617, 0.032085696239285706, 0.023413886444884163, 0.06156984954025095, 0.02514824840376447, 0.01821080056824324, 0.04972524501501616, 0.895054410270291, 0.3750256732300947, 0.10672073266267225, 0.06162746534041637, 0.17586374255679793, 0.09920518810896294, 0.11649094058249436, 0.032316841580950044, 0.027055960393353527, 0.005260881187596519, 0.47902091159440185, 0.1414379293287092, 0.056041443696280994, 0.04603404303623082, 0.09807252646849174, 0.060711564004304414, 0.10874708717254526, 0.004002960264020071, 0.005337280352026762, 0.33215021161077474, 0.044286694881436627, 0.029524463254291086, 0.007381115813572771, 0.19190901115289205, 0.3838180223057841, 0.07132837785055343, 0.8916047231319179, 0.4093409482769566, 0.16865070447427136, 0.17591050301124328, 0.10666319388935705, 0.020104057486999234, 0.07036420120449732, 0.027363856023971178, 0.012285812908721754, 0.008935136660888549, 0.07615570553662349, 0.18494957058894276, 0.010879386505231927, 0.6854013498296114, 0.03263815951569578, 0.2756754847781766, 0.18394291445337607, 0.14333214113250084, 0.172954116966551, 0.07405493958512543, 0.07835490381910046, 0.03917745190955023, 0.02245536877742513, 0.009555476075500054, 0.3845667535170237, 0.05976375223575368, 0.00389763601537524, 0.3637793614350224, 0.03637793614350224, 0.12602356449713276, 0.0064960600256254, 0.0194881800768762, 0.3353286842213249, 0.10406752268937669, 0.5550267876766757, 0.9641606260664011, 0.9713597537076166, 0.9637675330193619, 0.9800675701965138, 0.17408394757691376, 0.0711047109821197, 0.12504621586510706, 0.11769055610833606, 0.3506197817394179, 0.03432641219826468, 0.07846037073889071, 0.04903773171180669, 0.2697479408543804, 0.16060137519075826, 0.19958229149919474, 0.11070580231595958, 0.053014046179473605, 0.14500900866738367, 0.0608102294411609, 0.9579521802498631, 0.026537583580553817, 0.026537583580553817, 0.9288154253193835, 0.17322177302722058, 0.07621758013197705, 0.6582427375034382, 0.08314645105306587, 0.19792876951895133, 0.006043626550196987, 0.036261759301181924, 0.3021813275098494, 0.007554533187746234, 0.22965780890748552, 0.22059236908219004, 0.06451319061729952, 0.0501769260356774, 0.17203517497946538, 0.6738044353362395, 0.03584066145405529, 0.9286005661255037, 0.05462356271326492, 0.5786097857261293, 0.10062778882193553, 0.1275816608278111, 0.07367391681605995, 0.04492312000979265, 0.007187699201566824, 0.037735420808225825, 0.019766172804308764, 0.008984624001958529, 0.9226023180442566, 0.9773604076704545, 0.03135686850967299, 0.9407060552901896, 0.8177808855793212, 0.022303115061254212, 0.1561218054287795, 0.9559117133656717, 0.0005044408683017988, 0.10341037800186875, 0.017655430390562957, 0.24616714373127782, 0.0005044408683017988, 0.5326895569266995, 0.04993964596187808, 0.04943520509357628, 0.9665535170856113, 0.0027615953066504064, 0.6641636712494227, 0.033139143679804875, 0.06075509674630894, 0.004142392959975609, 0.006903988266626015, 0.20435805269213006, 0.02209276245320325, 0.39827846608929585, 0.590550829028956, 0.4507054572113852, 0.19615420230794506, 0.24406973264271026, 0.0014973603229614127, 0.033690607266631784, 0.035187967589593194, 0.03893136839699673, 0.9803384004592954, 0.15299996579266148, 0.07195133526465702, 0.08931889894922941, 0.024810805263674834, 0.08931889894922941, 0.008270268421224945, 0.01819459052669488, 0.5433566352744789, 0.001654053684244989, 0.29228203019820914, 0.29340188472004136, 0.15677963305651066, 0.038075053742295445, 0.002239709043664438, 0.01119854521832219, 0.02239709043664438, 0.1836561415804839, 0.14111487218010582, 0.5227664583035739, 0.13630413790123858, 0.009621468557734488, 0.008017890464778741, 0.14913276264488456, 0.03367513995207071, 0.0016035780929557482, 0.4240547614085426, 0.2030626045289678, 0.03502517203374393, 0.12092023678316358, 0.07672180540724861, 0.04086270070603459, 0.04503236404338506, 0.04002876803856449, 0.014176855346991592, 0.9286134496766506, 0.10686927092799033, 0.0024853318820462866, 0.6064209792192939, 0.08947194775366632, 0.1292372578664069, 0.062133297051157166, 0.981973432424517, 0.924618226265985, 0.9835206658034324, 0.9608680618295384, 0.020018084621448717, 0.9612456782642669, 0.04261606489901673, 0.8523212979803346, 0.09943748476437238, 0.22216527254514842, 0.0982981896427383, 0.14943597616208193, 0.17500486942175375, 0.08352505131492792, 0.08693423708288417, 0.014204940699817674, 0.1698910907698194, 0.9637505186886435, 0.02471155176124727, 0.9924595907343532, 0.9768700882794165, 0.2995013290883029, 0.11801079446803345, 0.19854896699598043, 0.22595431737007352, 0.0402690862639735, 0.04362484345263796, 0.044743429182192776, 0.004474342918219278, 0.024888532482594733, 0.2027432889228226, 0.120734767560782, 0.4191546647393186, 0.15034895583040775, 0.005695036205697264, 0.08770355756773786, 0.005695036205697264, 0.006834043446836717, 0.20262799822936212, 0.28108921558885197, 0.3603121923401815, 0.03961148837566478, 0.0022852781755191218, 0.08074649553500897, 0.028946856889908872, 0.0045705563510382435, 0.1036866592534449, 0.8813366036542817, 0.9690118702138448, 0.9702159903789099, 0.06164121409891632, 0.17075192391512894, 0.0052999922402806555, 0.5706709036110889, 0.10035420089748806, 0.00023043444522959374, 0.02523257175264051, 0.0624477346572199, 0.003110865010599515, 0.00034565166784439056, 0.4032275136061079, 0.3024206352045809, 0.2772189156041992, 0.03171261071041871, 0.9513783213125614, 0.9821600359813892, 0.9282771765925477, 0.028473369009893848, 0.14236684504946925, 0.0379644920131918, 0.12338459904287334, 0.6738697332341544, 0.9856876848370236, 0.9841986624636498, 0.05498907269993506, 0.28645470429733616, 0.01790341901858351, 0.19437997791604952, 0.08056538558362579, 0.19821642484860313, 0.033249206748797944, 0.06905604478596496, 0.06394078220922682, 0.19555340506632413, 0.09370267326094697, 0.13444296598309785, 0.29740413687170125, 0.0896286439887319, 0.19147937579410904, 0.24423450225845952, 0.17484970048048806, 0.17845771017294257, 0.13960222117727858, 0.10601997711674038, 0.04607150838057305, 0.02803145991830047, 0.07105003702064278, 0.009158793834692232, 0.0024978528640069724, 0.9621548503264092, 0.7721070712272756, 0.22519789577462207, 0.9580908928345344, 0.10080094215701418, 0.8870482909817248, 0.12245516241423676, 0.00830204490943978, 0.8052983562156587, 0.035283690865119066, 0.026981645955679288, 0.8731342266478851, 0.09684897414574617, 0.054477547956982224, 0.2935734528792931, 0.553855070895986, 0.9843415930855073, 0.9284495807684274, 0.9736511851349439, 0.7783526672084092, 0.21227800014774797, 0.17584773049862062, 0.23701215849814083, 0.581062065995442, 0.15414129046179353, 0.6983544180105749, 0.12582962486677024, 0.018874443730015535, 0.0031457406216692557, 0.02819575272000137, 0.29394072210601424, 0.06273554980200305, 0.16565004723000804, 0.027490858902001335, 0.14168365741800687, 0.06766980652800328, 0.19384579995000942, 0.019032133086000925, 0.9752247076891015, 0.6406310950629941, 0.17863290872373852, 0.3764736570951908, 0.0019207839647713818, 0.06530665480222698, 0.3764736570951908, 0.0019207839647713818, 0.3037422525204548, 0.1484746473981776, 0.1969957739988892, 0.08248591522120977, 0.05143239419675433, 0.09995352079746596, 0.11742112637372215, 0.006833909673331042, 0.7004757415164318, 0.006833909673331042, 0.0820069160799725, 0.09567473542663459, 0.06150518705997937, 0.04100345803998625, 0.33913184437003036, 0.0789311676302639, 0.015241880645844062, 0.1186689278855002, 0.3238899637241863, 0.016330586406261494, 0.022862820968766094, 0.06368928698441984, 0.02122976232813994, 0.8257373571468061, 0.023934416149182784, 0.059836040372956964, 0.08377045652213974, 0.46411585502436536, 0.04254940842959626, 0.04909547126491876, 0.11455609961814378, 0.2271483803856908, 0.03927637701193501, 0.06218759693556376, 0.9687327609652179, 0.029390343921241093, 0.11966068596505303, 0.6392399802869938, 0.1899875803480228, 0.005248275700221624, 0.004198620560177299, 0.0010496551400443247, 0.012595861680531896, 0.9502259405516827, 0.9657868723974524, 0.11018257124179288, 0.2501792499960709, 0.08296099481734993, 0.11147883678581397, 0.17369958289882642, 0.03240663860052732, 0.07907219818528666, 0.15814439637057331, 0.0025925310880421854, 0.9903107103840518, 0.9747488260033924, 0.9778406593627269, 0.966771497390836, 0.9887262053032077, 0.055608425552356705, 0.004634035462696392, 0.8827837556436627, 0.00579254432837049, 0.04981588122398622, 0.03540172219649278, 0.01770086109824639, 0.39531923119416934, 0.1947094720807103, 0.08260401845848316, 0.1652080369169663, 0.11210545362222714, 0.9663148363472073, 0.3529790159837902, 0.27453923465405905, 0.3529790159837902, 0.3537516120072821, 0.5558953902971576, 0.09810025775611751, 0.8829023198050576, 0.016748842707680112, 0.9714328770454465, 0.9945686048624472, 0.991868656703987, 0.2683451498834221, 0.033543143735427765, 0.696020232510126, 0.152508707078151, 0.7625435353907549, 0.9913839206457149, 0.14256876593038587, 0.161577934721104, 0.33266045383756704, 0.35166962262828516, 0.9194469326211107, 0.05408511368359475, 0.9108120970206869, 0.9828199490892553, 0.9872355397350273, 0.19330076952643904, 0.039315410751140145, 0.17364306415086897, 0.275207875257981, 0.09501224264858868, 0.22278732758979417, 0.4050502848318085, 0.07754808871993599, 0.11043678706098026, 0.18867726943020138, 0.0616230347863777, 0.057122476066024275, 0.04569798085281942, 0.0422360126063937, 0.00761633014213657, 0.004154361895710856, 0.9478919892719988, 0.9873717414388443, 0.9769386372647192, 0.9188033030077025, 0.619428449211939, 0.055182121434219925, 0.07637790317716533, 0.0314282281016087, 0.11182602091967747, 0.009136112820235087, 0.08514857148459101, 0.011328779897091508, 0.32056425856920867, 0.0028621808800822204, 0.06583016024189106, 0.5752983568965263, 0.03434617056098664, 0.9606533051209174, 0.021347851224909276, 0.9570580608100427, 0.12536567827029835, 0.09478868357022559, 0.05350974072512735, 0.3699816358708805, 0.08714443489520739, 0.004586549205010915, 0.042807792580101874, 0.061153989400145534, 0.15441382323536748, 0.0030576994700072767, 0.29157501007337905, 0.6997800241761096, 0.07382556959755422, 0.8859068351706506, 0.9236121273796571, 0.004914380773559664, 0.8108728276373446, 0.18183208862170758, 0.9953056792267214, 0.1617793922823211, 0.7603631437269092, 0.0728007265270445, 0.15556139839128463, 0.03889034959782116, 0.7778069919564232, 0.9844811553676256, 0.02466540313150391, 0.495904420854447, 0.12981791121844163, 0.16616692635960528, 0.11813429920878188, 0.04154173158990132, 0.02466540313150391, 0.9557407604745758, 0.9644062517079341, 0.037336127401186664, 0.04000299364412857, 0.38669560522657614, 0.04533672613001238, 0.41069740141305333, 0.037336127401186664, 0.013334331214709522, 0.02933552867236095, 0.1282462790167101, 0.13269412684387924, 0.4662827138815645, 0.2179445435312877, 0.023474752421170444, 0.019768212565196164, 0.0014826159423897121, 0.010131208939663034, 0.9647510813915704, 0.1460651261136708, 0.038950700296978884, 0.36516281528417704, 0.15823721995647672, 0.0024344187685611802, 0.09007349443676367, 0.03408186275985652, 0.03408186275985652, 0.1338930322708649, 0.2397376981320045, 0.07885412146063724, 0.127013350003711, 0.3736309379275832, 0.006879889791867678, 0.06774045333531253, 0.013759779583735357, 0.06985734250204105, 0.02011044708392091, 0.002646111458410646, 0.19504447950501227, 0.17459626794400293, 0.3609895810193574, 0.1997632975575529, 0.032245256692360905, 0.018088802534739042, 0.016515863183892168, 0.00235940902627031, 0.16952269138237797, 0.13999293223835083, 0.08421449829963293, 0.3827931740892406, 0.22311373575487164, 0.3342196265971124, 0.1067255950478174, 0.48120136714542233, 0.024340925186344318, 0.008425704872196111, 0.006553326011708086, 0.02059616746536827, 0.0009361894302440123, 0.016851409744392223, 0.9482256544255092, 0.1476929028331549, 0.07321528516515372, 0.03282064507403443, 0.3484037707859039, 0.0037869975085424337, 0.051755632616746594, 0.1476929028331549, 0.19439920543851158, 0.9808276579973594, 0.9601374247339005, 0.9809434863586334, 0.9359754335653245, 0.2575765353290182, 0.2153818461675409, 0.15177492668531392, 0.1568130985254903, 0.06927486280242544, 0.039675603241389114, 0.08501914980297667, 0.006927486280242544, 0.017633601440617385, 0.9742735306697556, 0.04221384290184827, 0.14071280967282757, 0.14071280967282757, 0.6754214864295723, 0.1671958823568753, 0.2591536176531567, 0.1772276352982878, 0.006687835294275011, 0.01671958823568753, 0.3644870235379881, 0.006687835294275011, 0.961079714370673, 0.04248252377006936, 0.7009616422061444, 0.2442745116778988, 0.01518200167418805, 0.9716481071480352, 0.9691545353299191, 0.008776608708702487, 0.14920234804794227, 0.008776608708702487, 0.8162246099093312, 0.19453607347505744, 0.7781442939002298, 0.5223247002304404, 0.4570341127016354, 0.1434653581911766, 0.2557425950364452, 0.4740594444578009, 0.12475248538363182, 0.04064494682468057, 0.32064346939470223, 0.07225768324387656, 0.1535475768932377, 0.38386894223309426, 0.006774157804113428, 0.024838578615082568, 0.17147624857551283, 0.3810583301678063, 0.43821707969297724, 0.02492957253629143, 0.22436615282662287, 0.7291899966865243, 0.012464786268145714, 0.20247334354207627, 0.1833829997223948, 0.17007760857534407, 0.14925177895387337, 0.13131842566871804, 0.09371623329661816, 0.008098933741683051, 0.058428021993570584, 0.0034709716035784505, 0.0005784952672630751, 0.058047868414664985, 0.8997419604273073, 0.048831124214865414, 0.0033676637389562355, 0.11786823086346825, 0.0016838318694781178, 0.6920548983555064, 0.011786823086346824, 0.055566451692777886, 0.06735327477912471, 0.40889676389625706, 0.13289144826628355, 0.08177935277925141, 0.010222419097406427, 0.35778466840922496, 0.18285899595845803, 0.0180452956537952, 0.12872310899707243, 0.12150499073555435, 0.1900771142199761, 0.043308709569108476, 0.05774494609214464, 0.25744621799414485, 0.9631106302687198, 0.022397921634156274, 0.0935985947655774, 0.3650345195857519, 0.16847747057803933, 0.009359859476557741, 0.3743943790623096, 0.9696732243696878, 0.9900007527609311, 0.9175666952242519, 0.5396199060935739, 0.10117873239254511, 0.3372624413084837, 0.47819717283632734, 0.006600881220133353, 0.1378850743761189, 0.178957224190282, 0.12835046816925963, 0.051340187267703855, 0.01833578116703709, 0.21615125691343764, 0.12557358734971139, 0.19556542292168166, 0.270189071141797, 0.01852725059258037, 0.0643307312242374, 0.04631812648145092, 0.06330143952464959, 0.26049829406572844, 0.15806935319522358, 0.0025291096511235772, 0.30349315813482924, 0.09231250226601057, 0.011380993430056097, 0.03540753511573008, 0.13404281150954958, 0.6175831138256346, 0.13699116343041348, 0.013474540665286572, 0.17516902864872544, 0.056143919438694054, 0.20955263296267385, 0.6286578988880215, 0.01762028073542326, 0.9691154404482794, 0.9505704133826332, 0.9715474529844706, 0.9769275207430601, 0.9174861939464738, 0.0693897121472123, 0.953143572338328, 0.20581558022952784, 0.7515387096260031, 0.03742101458718688, 0.9576709510554582, 0.9633399437089405, 0.16002803252478293, 0.03200560650495658, 0.7521317528664797, 0.03200560650495658, 0.934718711082369, 0.27200393079944785, 0.24827592832545348, 0.23265017059867668, 0.13021464772313993, 0.005208585908925598, 0.07176273918964157, 0.01678322126209359, 0.009838440050192795, 0.012732098888484793, 0.11256450561149883, 0.005360214552928516, 0.6459058536278861, 0.021440858211714063, 0.083083325570392, 0.12864514927028436, 0.07014674631765312, 0.9119077021294905, 0.22398047033625745, 0.41149900364103115, 0.16538092867851567, 0.02995087684729024, 0.01692875647890318, 0.005208848147354824, 0.05208848147354824, 0.08334157035767718, 0.01302212036838706, 0.09186150317046456, 0.3674460126818582, 0.5052382674375551, 0.02931980682416261, 0.05863961364832522, 0.908914011549041, 0.9724768725936185, 0.9302665952801459, 0.36031863253559226, 0.11077757310964811, 0.1671380927619252, 0.10222632185206124, 0.021378128143967178, 0.045477108960802905, 0.07501779512337574, 0.04664318867774657, 0.03226153883544138, 0.038480630659140924, 0.06974153743408712, 0.8950163970707847, 0.023247179144695707, 0.9797886450518456, 0.15713481915696897, 0.15081330344375757, 0.37477557442610415, 0.1724870716033395, 0.012643031426422792, 0.05508749407227073, 0.033413725912688805, 0.03883216795258429, 0.004515368366579568, 0.032255019813547364, 0.02419126486016052, 0.008063754953386841, 0.8547580250590051, 0.0806375495338684, 0.9752231631365662, 0.2505554434296515, 0.10710767047374416, 0.20465215608376117, 0.10902030744648959, 0.13197195111943477, 0.030602191563926903, 0.0019126369727454314, 0.08224338982805354, 0.08224338982805354, 0.986309385050759, 0.13991439002493347, 0.18754482067171935, 0.11014537087069232, 0.15479889960205406, 0.11014537087069232, 0.29769019154241166, 0.9240725357150814, 0.06329263943253982, 0.1335228904307467, 0.03338072260768667, 0.8345180651921669, 0.1984492675044207, 0.7937970700176828, 0.2584762254228579, 0.20678098033828635, 0.5169524508457158, 0.9777153739596266, 0.9647159937607781, 0.983112678297636, 0.98156108578371, 0.8348630402708644, 0.006138698825521062, 0.018416096476563185, 0.018416096476563185, 0.006138698825521062, 0.11663527768490017, 0.9597703099804237, 0.9674031470683523, 0.01860390667439139, 0.14194230094584254, 0.13518314375794527, 0.17799113928129462, 0.11603219839223637, 0.23206439678447274, 0.09012209583863019, 0.04168146932536646, 0.040554943127383586, 0.023657050157640424, 0.9691220179314561, 0.9671861083737502, 0.27624373970672067, 0.06906093492668017, 0.6215484143401214, 0.9539518533584719, 0.9722322732719426, 0.9560828164867805, 0.02451494401248155, 0.1775930477686208, 0.24781995639195378, 0.18974770503035152, 0.11411872651291605, 0.06887639114980731, 0.08643311830564056, 0.029036125680801123, 0.08643311830564056, 0.0006752587367628169, 0.31413286779987215, 0.10430899449016867, 0.25926513081371405, 0.22489742742677987, 0.0006029421646830559, 0.049441257504010586, 0.022911802257956124, 0.015073554117076398, 0.009647074634928894, 0.9871905570020718, 0.8256499229986971, 0.3256177830063308, 0.03704275696585782, 0.15414566608373093, 0.2873800983964131, 0.06213623749111634, 0.03106811874555817, 0.04660217811833726, 0.021508697593078732, 0.025690944347288486, 0.008364493508419507, 0.059242765309061994, 0.20625259033525287, 0.730660772145098, 0.002194176492928222, 0.9730919810115582, 0.92509624996301, 0.1024146240405471, 0.7949325580290084, 0.07315330288610507, 0.024384434295368358, 0.833974907767826, 0.03690154459149673, 0.04428185350979607, 0.0811833981012928, 0.979664441253385, 0.368326462744208, 0.16501235403568862, 0.11857803501451711, 0.19649324828733034, 0.02361067068873128, 0.04774602294832326, 0.05220581630063917, 0.01941321812184572, 0.007870223562910427, 0.0007870223562910427, 0.3038663673419355, 0.0704296682323145, 0.18382586362522338, 0.14750364478843225, 0.167436569759842, 0.036322218836791126, 0.07795988433262485, 0.009302031653324556, 0.0035436311060284024, 0.002584370315532116, 0.19641214398044082, 0.6124957647811115, 0.002584370315532116, 0.06719362820383501, 0.06202488757277078, 0.059440517257238666, 0.014467089123978701, 0.009644726082652468, 0.8583806213560696, 0.004822363041326234, 0.10609198690917715, 0.17230660699352923, 0.02871776783225487, 0.7753797314708816, 0.9558197408126425, 0.02275761287649149, 0.9754676412987238, 0.9787989786464373, 0.9879628342355271, 0.06639150586427481, 0.17704401563806615, 0.04426100390951654, 0.7081760625522646, 0.3359573259422486, 0.2700361035767878, 0.08563188686011682, 0.17651995091880857, 0.059570008250516046, 0.02321478262703934, 0.018615627578286265, 0.01992967187793, 0.010293347013875935, 0.00021900738327395604, 0.28339279278874024, 0.1925705242564452, 0.14135495929462466, 0.12633172690582398, 0.04848406816385677, 0.13316046890073338, 0.047118319764874884, 0.017754729186764448, 0.010925987191855046, 0.35612501940485936, 0.2971262636950723, 0.20827271593936886, 0.04904715836114829, 0.009240768966593156, 0.031987277192053236, 0.036252247484327, 0.01137325411273004, 0.3080281428386278, 0.15707395363294266, 0.20865482523411305, 0.2322596308821063, 0.015445119744983228, 0.034387247734113606, 0.024770475062708953, 0.013988032976588585, 0.0046626776588628615, 0.973550794112055, 0.9583968372778902, 0.03583428270803383, 0.9316913504088796, 0.9381180757249714, 0.6781463246169076, 0.9676842239639364, 0.20600019740119893, 0.08482361069461133, 0.15147073338323452, 0.01817648800598814, 0.45441220014970357, 0.08482361069461133, 0.11431704313348887, 0.022863408626697775, 0.2248235181625281, 0.17528613280468294, 0.3277088569826681, 0.05715852156674443, 0.07621136208899258, 0.9842914303858324, 0.6892155304102823, 0.13348443079092423, 0.1307602587339666, 0.0027241720569576374, 0.04086258085436456, 0.9804282332353621, 0.28834540329680225, 0.2355919823194247, 0.1312840817505191, 0.09411689878918493, 0.08512483839531375, 0.07313542453681886, 0.07673224869436733, 0.014986767323118618, 0.980844673624422, 0.008390667641138652, 0.07551600877024786, 0.03356267056455461, 0.7383787524202013, 0.13425068225821843, 0.18579330400390343, 0.3524608267132874, 0.10200416690410384, 0.08743214306066044, 0.1830610495332578, 0.013661272353228194, 0.07377087070743224, 0.0018215029804304257, 0.008558618348819108, 0.004279309174409554, 0.31238956973189747, 0.4664447000106414, 0.17117236697638216, 0.02995516422086688, 0.9179645954115608, 0.39458716480794986, 0.5073263547530784, 0.04681210233995529, 0.9362420467991058, 0.8515701102661934, 0.1985876751143971, 0.12411729694649817, 0.5399102417172671, 0.03723518908394945, 0.09929383755719855, 0.9626710122074533, 0.9716085936720603, 0.9586538859084157, 0.03939673503733215, 0.939048723522067, 0.35684631578168774, 0.02107952920229379, 0.14906238507336322, 0.3749144836693681, 0.01656248723037369, 0.052698823005734474, 0.027102251831520586, 0.022697529531668075, 0.21349863715725284, 0.2312310821038685, 0.24257984686970255, 0.043267165669742265, 0.09220871372240155, 0.0751855665736505, 0.029790507510314347, 0.03404629429750211, 0.014895253755157174, 0.21141931076854237, 0.17202440814086367, 0.024950104997529844, 0.18646920577101253, 0.1063662370947325, 0.11293205419934561, 0.013131634209226235, 0.032829085523065585, 0.11161889077842299, 0.028889595260297714, 0.09790402540533151, 0.01631733756755525, 0.01631733756755525, 0.7832322032426521, 0.08158668783777626, 0.7160988116249785, 0.9257658143987035, 0.9257656801283533, 0.9129000622540918, 0.03819459376577956, 0.8402810628471502, 0.11458378129733868, 0.9667656378317968, 0.02416914094579492, 0.07751779111347963, 0.05813834333510973, 0.4554170227916928, 0.40696840334576806, 0.910497586948523, 0.9760191177095598, 0.30295001714783737, 0.005610185502737729, 0.10378843180064799, 0.07293241153559048, 0.4628403039758627, 0.0476865767732707, 0.005610185502737729, 0.024121649393511677, 0.9286835016501996, 0.036182474090267515, 0.9681964408160311, 0.008587027174026974, 0.47013973777797685, 0.008587027174026974, 0.39500325000524084, 0.0021467567935067435, 0.11592486684936415, 0.9817824782243879, 0.636780074740385, 0.33526428139202014, 0.15907817769019691, 0.14197025167857058, 0.1261390365633343, 0.07839004903834743, 0.02425750703141044, 0.04877035624209889, 0.0717511523771193, 0.0017873952549460326, 0.013022451143178237, 0.9833294074132957, 0.9353702906627851, 0.9837698825688291, 0.0175261467912831, 0.3242337156387374, 0.6572305046731163, 0.3242464106222693, 0.1513476448372828, 0.12146995443251175, 0.2194295951038922, 0.06416356463975419, 0.03330627782826935, 0.05877578440282827, 0.018122533524205384, 0.0004897982033569022, 0.008326569457067338, 0.7292557694609866, 0.019816732865787678, 0.039633465731575356, 0.019816732865787678, 0.15060716977998634, 0.03567011915841782, 0.007926693146315071, 0.11993074871367851, 0.6767520820271858, 0.008566482050977037, 0.09851454358623592, 0.08994806153525889, 0.9474189610143472, 0.28107270943292223, 0.09176197278545403, 0.17773715449434788, 0.13392287920039236, 0.030587324261818007, 0.12317598148678063, 0.07605496843479073, 0.06861480847921338, 0.017360373229680492, 0.16104909416538793, 0.27263310940854957, 0.28298626546203876, 0.12308752196926076, 0.006902104035659482, 0.08972735246357327, 0.033360169505687494, 0.028758766815247843, 0.0017255260089148706, 0.956001178979848, 0.16000792233551112, 0.15798250559708693, 0.43141376528435277, 0.050635418460604785, 0.05266083519902898, 0.0020254167384241915, 0.08911833649066443, 0.05468625193745317, 0.9446648207074726, 0.025572108010229463, 0.6027711173839801, 0.0584505325948102, 0.2338021303792408, 0.062103690881985835, 0.01461263314870255, 0.0036335404466477567, 0.010900621339943269, 0.6249689568234141, 0.047236025806420834, 0.13807453697261476, 0.17804348188574007, 0.31390550456830174, 0.1837495636497376, 0.12249970909982508, 0.3751553591182143, 0.11060343006175365, 0.8295257254631524, 0.9315794817959823, 0.01136072538775588, 0.056803626938779404, 0.1966518933099422, 0.38274529570391436, 0.016497642056203205, 0.13330094781412188, 0.09898585233721922, 0.11614340007567056, 0.027056132972173255, 0.028375944336669512, 0.9620320492817839, 0.3645863861291641, 0.19359049060204997, 0.10050075889331445, 0.1849141660932746, 0.0625418391674223, 0.030728649301912693, 0.03090940606251218, 0.015002811129757373, 0.01717189225695121, 0.00036151352119897286, 0.9524948479198281, 0.305837575770555, 0.09852485662407141, 0.016420809437345234, 0.332521391106241, 0.07286734187821949, 0.09749855603423734, 0.06978844010871725, 0.006157803539004463, 0.9976986514911078, 0.9602115909036004, 0.02909732093647274, 0.26438168524823397, 0.1954934996553843, 0.2085263996324099, 0.05399344276196328, 0.043442999923418726, 0.1241228569240535, 0.059578971323545685, 0.004344299992341873, 0.034133785654114714, 0.011791671407785084, 0.17243432340645715, 0.36443052383801655, 0.031154100447385112, 0.11882029007839903, 0.1249786587714868, 0.06556851373228727, 0.030067329501546097, 0.040572781977989913, 0.052165005400272746, 0.135276206402611, 0.8567493072165365, 0.3707097079019361, 0.07707825609842235, 0.07707825609842235, 0.12846376016403727, 0.06239668350824667, 0.24958673403298667, 0.03670393147543922, 0.01915143561059869, 0.5362401970967634, 0.42133158343317123], \"Term\": [\"10th\", \"10th\", \"2\", \"2\", \"2\", \"2\", \"2\", \"2\", \"2\", \"2016\", \"2016\", \"2021\", \"21\", \"21\", \"21\", \"21\", \"21\", \"21\", \"30f\", \"30f\", \"36m\", \"400\", \"45\", \"45\", \"45\", \"45\", \"48\", \"5\", \"5\", \"5\", \"5\", \"5\", \"5\", \"5\", \"55\", \"75\", \"75\", \"able\", \"able\", \"able\", \"able\", \"able\", \"able\", \"able\", \"able\", \"able\", \"aborted\", \"abuse\", \"abuse\", \"abuse\", \"abuse\", \"abuse\", \"abuse\", \"abuse\", \"abuse\", \"abuse\", \"abuser\", \"abuser\", \"abuser\", \"abuser\", \"abuser\", \"abuser\", \"abuser\", \"abusers\", \"abusers\", \"abusive\", \"abusive\", \"abusive\", \"abusive\", \"abusive\", \"abusive\", \"abusive\", \"abusive\", \"abusive\", \"acceptance\", \"accepting\", \"accepting\", \"accuses\", \"acquaintances\", \"addictions\", \"addition\", \"addition\", \"addition\", \"adore\", \"advice\", \"advice\", \"advice\", \"advice\", \"advice\", \"advice\", \"advice\", \"advice\", \"affair\", \"affection\", \"affection\", \"affection\", \"affection\", \"afraid\", \"afraid\", \"afraid\", \"afraid\", \"afraid\", \"afraid\", \"afraid\", \"afraid\", \"afraid\", \"afternoon\", \"aggressively\", \"aggressively\", \"ago\", \"ago\", \"ago\", \"ago\", \"ago\", \"ago\", \"ago\", \"ago\", \"airport\", \"alot\", \"alot\", \"alot\", \"alot\", \"also\", \"also\", \"also\", \"also\", \"also\", \"also\", \"also\", \"also\", \"also\", \"also\", \"always\", \"always\", \"always\", \"always\", \"always\", \"always\", \"always\", \"always\", \"always\", \"amp\", \"another\", \"another\", \"another\", \"another\", \"another\", \"another\", \"another\", \"another\", \"another\", \"anyone\", \"anyone\", \"anyone\", \"anyone\", \"anyone\", \"anyone\", \"anyone\", \"anyone\", \"anyone\", \"anything\", \"anything\", \"anything\", \"anything\", \"anything\", \"anything\", \"anything\", \"anything\", \"anyways\", \"anyways\", \"anyways\", \"anyways\", \"anyways\", \"anyways\", \"anyways\", \"apartment\", \"apartment\", \"apartment\", \"apartment\", \"appointments\", \"appointments\", \"appreciation\", \"apt\", \"arent\", \"arrested\", \"arrested\", \"arrested\", \"arrived\", \"ask\", \"ask\", \"ask\", \"ask\", \"ask\", \"ask\", \"ask\", \"asked\", \"asked\", \"asked\", \"asked\", \"asked\", \"asked\", \"asked\", \"asked\", \"asked\", \"aspect\", \"aspect\", \"aspect\", \"assessment\", \"assistant\", \"assumes\", \"atleast\", \"atmosphere\", \"attend\", \"attend\", \"attitude\", \"attitude\", \"attorney\", \"aunt\", \"aunt\", \"aunt\", \"autistic\", \"autistic\", \"away\", \"away\", \"away\", \"away\", \"away\", \"away\", \"away\", \"away\", \"away\", \"away\", \"aybe\", \"back\", \"back\", \"back\", \"back\", \"back\", \"back\", \"back\", \"back\", \"back\", \"back\", \"bad\", \"bad\", \"bad\", \"bad\", \"bad\", \"bad\", \"bad\", \"bad\", \"bad\", \"bad\", \"balcony\", \"basement\", \"basement\", \"basic\", \"basic\", \"basic\", \"basically\", \"basically\", \"basically\", \"basically\", \"basically\", \"basically\", \"basically\", \"basically\", \"beat\", \"beat\", \"beat\", \"beat\", \"beat\", \"beat\", \"beaten\", \"beaten\", \"beaten\", \"beating\", \"beating\", \"beating\", \"beating\", \"beautiful\", \"beautiful\", \"beautiful\", \"beautiful\", \"became\", \"became\", \"became\", \"became\", \"became\", \"became\", \"became\", \"become\", \"become\", \"become\", \"become\", \"become\", \"become\", \"become\", \"become\", \"become\", \"bed\", \"bed\", \"bed\", \"bed\", \"bed\", \"bed\", \"begging\", \"begging\", \"begging\", \"begging\", \"behavioral\", \"beliefs\", \"beliefs\", \"bfs\", \"bias\", \"bio\", \"birth\", \"birth\", \"birth\", \"birthday\", \"birthday\", \"birthday\", \"birthday\", \"black\", \"black\", \"blackmailing\", \"blow\", \"blow\", \"blow\", \"bombing\", \"bonkers\", \"bonkers\", \"book\", \"book\", \"book\", \"book\", \"boss\", \"boss\", \"bout\", \"boyfriends\", \"brains\", \"breakfast\", \"breakfast\", \"breakfast\", \"breakup\", \"breakup\", \"breakup\", \"broke\", \"broke\", \"broke\", \"broke\", \"broke\", \"broke\", \"broke\", \"brother\", \"brother\", \"brother\", \"brother\", \"brother\", \"brother\", \"brother\", \"brother\", \"brother\", \"bruises\", \"bruises\", \"bruises\", \"brunt\", \"buddy\", \"buddy\", \"bullied\", \"bullied\", \"bullied\", \"buy\", \"buy\", \"buy\", \"buy\", \"buy\", \"buy\", \"ca\", \"ca\", \"ca\", \"ca\", \"ca\", \"ca\", \"ca\", \"cake\", \"call\", \"call\", \"call\", \"call\", \"call\", \"call\", \"call\", \"call\", \"call\", \"called\", \"called\", \"called\", \"called\", \"called\", \"called\", \"called\", \"called\", \"came\", \"came\", \"came\", \"came\", \"came\", \"came\", \"came\", \"came\", \"car\", \"car\", \"car\", \"car\", \"car\", \"car\", \"car\", \"card\", \"card\", \"card\", \"cat\", \"cats\", \"cause\", \"cause\", \"cause\", \"cause\", \"cause\", \"cause\", \"caution\", \"charge\", \"charges\", \"cheating\", \"cheating\", \"cheating\", \"cheating\", \"checking\", \"checking\", \"checking\", \"checking\", \"checking\", \"chicken\", \"chicken\", \"child\", \"child\", \"child\", \"child\", \"child\", \"child\", \"child\", \"child\", \"children\", \"children\", \"children\", \"children\", \"children\", \"children\", \"chores\", \"chores\", \"chosen\", \"christ\", \"church\", \"church\", \"church\", \"city\", \"clarification\", \"clean\", \"clean\", \"clean\", \"clean\", \"click\", \"closure\", \"closure\", \"club\", \"codependent\", \"comfort\", \"comfort\", \"comfort\", \"comfort\", \"comfort\", \"comfort\", \"commitment\", \"commitment\", \"common\", \"common\", \"common\", \"common\", \"compares\", \"comparison\", \"compassionate\", \"complained\", \"concerning\", \"conflicted\", \"connecting\", \"connecting\", \"consensual\", \"consensual\", \"conservative\", \"constructive\", \"contacted\", \"control\", \"control\", \"control\", \"control\", \"control\", \"control\", \"control\", \"cooking\", \"cooking\", \"cops\", \"cops\", \"cops\", \"cops\", \"could\", \"could\", \"could\", \"could\", \"could\", \"could\", \"could\", \"could\", \"could\", \"could\", \"counsellor\", \"counting\", \"county\", \"course\", \"course\", \"course\", \"course\", \"course\", \"course\", \"court\", \"court\", \"courts\", \"courts\", \"coward\", \"coward\", \"coward\", \"cowardly\", \"cps\", \"cps\", \"cps\", \"crawled\", \"crawled\", \"cream\", \"creating\", \"creating\", \"creeping\", \"criteria\", \"criticizes\", \"cum\", \"da\", \"dad\", \"dad\", \"dad\", \"dad\", \"dad\", \"dad\", \"dad\", \"dad\", \"danced\", \"danced\", \"darkness\", \"dated\", \"dated\", \"dated\", \"dating\", \"dating\", \"dating\", \"dating\", \"dating\", \"dating\", \"dating\", \"daughters\", \"daughters\", \"day\", \"day\", \"day\", \"day\", \"day\", \"day\", \"day\", \"day\", \"day\", \"daylight\", \"deadline\", \"debating\", \"debt\", \"debt\", \"deleted\", \"deleted\", \"deleted\", \"denies\", \"denies\", \"department\", \"depression\", \"depression\", \"depression\", \"depression\", \"depression\", \"depression\", \"depression\", \"desk\", \"developed\", \"developed\", \"developed\", \"diagnosed\", \"diagnosed\", \"diagnosed\", \"diagnosed\", \"diagnosed\", \"diagnosed\", \"didnt\", \"didnt\", \"didnt\", \"didnt\", \"difficult\", \"difficult\", \"difficult\", \"difficult\", \"difficult\", \"disability\", \"disagreement\", \"disagreement\", \"disagreement\", \"disappointment\", \"disappointment\", \"disappointment\", \"disappointment\", \"discovered\", \"discovered\", \"discovered\", \"discovered\", \"disgust\", \"dish\", \"disliked\", \"dispute\", \"doesnt\", \"doesnt\", \"doesnt\", \"domestic\", \"domestic\", \"domestic\", \"domestic\", \"domestic\", \"domestic\", \"domestic\", \"donate\", \"dont\", \"dont\", \"dont\", \"dont\", \"dont\", \"door\", \"door\", \"door\", \"door\", \"door\", \"door\", \"doubt\", \"doubt\", \"doubt\", \"doubt\", \"doubt\", \"doubt\", \"draining\", \"drawn\", \"drinking\", \"drinking\", \"drinking\", \"drives\", \"drives\", \"driving\", \"driving\", \"dynamic\", \"dynamic\", \"eldest\", \"elevated\", \"else\", \"else\", \"else\", \"else\", \"else\", \"else\", \"else\", \"else\", \"else\", \"emotional\", \"emotional\", \"emotional\", \"emotional\", \"emotional\", \"emotional\", \"emotional\", \"emotional\", \"emotional\", \"emotionally\", \"emotionally\", \"emotionally\", \"emotionally\", \"emotionally\", \"emotionally\", \"emotionally\", \"emotionally\", \"enables\", \"entry\", \"erase\", \"esteem\", \"esteem\", \"etc\", \"etc\", \"etc\", \"etc\", \"etc\", \"etc\", \"etc\", \"etc\", \"etc\", \"even\", \"even\", \"even\", \"even\", \"even\", \"even\", \"even\", \"even\", \"even\", \"evening\", \"eventually\", \"eventually\", \"eventually\", \"eventually\", \"eventually\", \"eventually\", \"eventually\", \"every\", \"every\", \"every\", \"every\", \"every\", \"every\", \"every\", \"every\", \"every\", \"everything\", \"everything\", \"everything\", \"everything\", \"everything\", \"everything\", \"everything\", \"everything\", \"everything\", \"ex\", \"ex\", \"ex\", \"ex\", \"ex\", \"ex\", \"example\", \"example\", \"example\", \"exboyfriend\", \"exboyfriend\", \"expects\", \"expects\", \"experience\", \"experience\", \"experience\", \"experience\", \"experience\", \"experience\", \"experience\", \"experience\", \"explained\", \"explained\", \"explained\", \"exploded\", \"eye\", \"eye\", \"eye\", \"f\", \"f\", \"f\", \"f\", \"f\", \"face\", \"face\", \"face\", \"face\", \"face\", \"face\", \"faced\", \"faced\", \"facetime\", \"facing\", \"facing\", \"faded\", \"fails\", \"family\", \"family\", \"family\", \"family\", \"family\", \"family\", \"family\", \"family\", \"family\", \"family\", \"famous\", \"famous\", \"father\", \"father\", \"father\", \"father\", \"father\", \"father\", \"feel\", \"feel\", \"feel\", \"feel\", \"feel\", \"feel\", \"feel\", \"feel\", \"feel\", \"feel\", \"feeling\", \"feeling\", \"feeling\", \"feeling\", \"feeling\", \"feeling\", \"feeling\", \"feelings\", \"feelings\", \"feelings\", \"feelings\", \"feelings\", \"feelings\", \"felt\", \"felt\", \"felt\", \"felt\", \"felt\", \"felt\", \"felt\", \"felt\", \"females\", \"festival\", \"fianc\\u00e3\\u00a9\", \"fianc\\u00e3\\u00a9\", \"fight\", \"fight\", \"fight\", \"fight\", \"fight\", \"fight\", \"fight\", \"figures\", \"filed\", \"fill\", \"fill\", \"fit\", \"fit\", \"fit\", \"flag\", \"flag\", \"flags\", \"flags\", \"flags\", \"flip\", \"forms\", \"foster\", \"foster\", \"foster\", \"friend\", \"friend\", \"friend\", \"friend\", \"friend\", \"friend\", \"friend\", \"friend\", \"friend\", \"friends\", \"friends\", \"friends\", \"friends\", \"friends\", \"friends\", \"friends\", \"friends\", \"friends\", \"friends\", \"funds\", \"gave\", \"gave\", \"gave\", \"gave\", \"gave\", \"gave\", \"gave\", \"girl\", \"girl\", \"girl\", \"girl\", \"girl\", \"girl\", \"girl\", \"girl\", \"go\", \"go\", \"go\", \"go\", \"go\", \"go\", \"go\", \"go\", \"go\", \"go\", \"goes\", \"goes\", \"goes\", \"goes\", \"goes\", \"goes\", \"gofundme\", \"going\", \"going\", \"going\", \"going\", \"going\", \"going\", \"going\", \"going\", \"going\", \"gon\", \"gon\", \"gon\", \"gon\", \"gon\", \"gon\", \"good\", \"good\", \"good\", \"good\", \"good\", \"good\", \"good\", \"good\", \"good\", \"got\", \"got\", \"got\", \"got\", \"got\", \"got\", \"got\", \"got\", \"got\", \"government\", \"government\", \"government\", \"grandma\", \"grandma\", \"granted\", \"granted\", \"granted\", \"gt\", \"guise\", \"gun\", \"gun\", \"gym\", \"gym\", \"hand\", \"hand\", \"hand\", \"hand\", \"hand\", \"hand\", \"hand\", \"hands\", \"hands\", \"hands\", \"hands\", \"hands\", \"havent\", \"health\", \"health\", \"health\", \"health\", \"health\", \"health\", \"health\", \"health\", \"healthcare\", \"healthier\", \"heartfelt\", \"help\", \"help\", \"help\", \"help\", \"help\", \"help\", \"help\", \"help\", \"help\", \"helpless\", \"helpless\", \"hero\", \"highly\", \"highly\", \"hit\", \"hit\", \"hit\", \"hit\", \"hit\", \"hit\", \"hit\", \"home\", \"home\", \"home\", \"home\", \"home\", \"home\", \"home\", \"home\", \"home\", \"hotel\", \"hotel\", \"house\", \"house\", \"house\", \"house\", \"house\", \"house\", \"house\", \"house\", \"house\", \"housing\", \"housing\", \"https\", \"https\", \"https\", \"husband\", \"husband\", \"husband\", \"husband\", \"husband\", \"husband\", \"husband\", \"husband\", \"hyper\", \"idea\", \"idea\", \"idea\", \"idea\", \"idea\", \"idea\", \"idea\", \"idea\", \"ie\", \"ie\", \"ie\", \"ie\", \"ie\", \"ie\", \"ie\", \"ignores\", \"im\", \"im\", \"im\", \"im\", \"im\", \"im\", \"im\", \"immediate\", \"immigrants\", \"incest\", \"increasing\", \"increasingly\", \"independence\", \"indicate\", \"indirectly\", \"insight\", \"insight\", \"insight\", \"insight\", \"insists\", \"instagram\", \"instagram\", \"instagram\", \"instinctively\", \"instructions\", \"intercourse\", \"interests\", \"interfere\", \"internship\", \"ipad\", \"ipad\", \"irl\", \"iron\", \"isnt\", \"jacket\", \"jake\", \"job\", \"job\", \"job\", \"job\", \"job\", \"job\", \"job\", \"jobs\", \"jobs\", \"joint\", \"joint\", \"joke\", \"joke\", \"joke\", \"journal\", \"judgemental\", \"kicks\", \"kids\", \"kids\", \"kids\", \"kids\", \"kids\", \"kids\", \"kids\", \"kids\", \"kill\", \"kill\", \"kill\", \"kill\", \"kill\", \"kill\", \"kill\", \"landlord\", \"last\", \"last\", \"last\", \"last\", \"last\", \"last\", \"last\", \"later\", \"later\", \"later\", \"later\", \"later\", \"later\", \"later\", \"later\", \"lawyer\", \"lawyer\", \"lazy\", \"lazy\", \"learn\", \"learn\", \"learn\", \"learn\", \"learn\", \"lease\", \"lease\", \"lease\", \"leave\", \"leave\", \"leave\", \"leave\", \"leave\", \"leave\", \"leave\", \"leave\", \"leave\", \"lesser\", \"library\", \"life\", \"life\", \"life\", \"life\", \"life\", \"life\", \"life\", \"life\", \"life\", \"lights\", \"lights\", \"lingering\", \"link\", \"little\", \"little\", \"little\", \"little\", \"little\", \"little\", \"little\", \"little\", \"little\", \"live\", \"live\", \"live\", \"live\", \"live\", \"live\", \"live\", \"live\", \"live\", \"living\", \"living\", \"living\", \"living\", \"living\", \"living\", \"living\", \"logic\", \"long\", \"long\", \"long\", \"long\", \"long\", \"long\", \"long\", \"long\", \"long\", \"long\", \"loses\", \"loses\", \"lot\", \"lot\", \"lot\", \"lot\", \"lot\", \"lot\", \"lot\", \"lot\", \"lot\", \"love\", \"love\", \"love\", \"love\", \"love\", \"love\", \"love\", \"love\", \"love\", \"loving\", \"loving\", \"loving\", \"loving\", \"loving\", \"loving\", \"lt\", \"lt\", \"made\", \"made\", \"made\", \"made\", \"made\", \"made\", \"made\", \"made\", \"made\", \"main\", \"main\", \"main\", \"main\", \"main\", \"make\", \"make\", \"make\", \"make\", \"make\", \"make\", \"make\", \"make\", \"make\", \"makes\", \"makes\", \"makes\", \"makes\", \"makes\", \"makes\", \"makes\", \"makes\", \"manipulate\", \"manipulate\", \"manipulate\", \"manipulator\", \"martial\", \"mask\", \"matters\", \"may\", \"may\", \"may\", \"may\", \"may\", \"may\", \"may\", \"may\", \"maybe\", \"maybe\", \"maybe\", \"maybe\", \"maybe\", \"maybe\", \"maybe\", \"mcdonald\", \"meal\", \"meal\", \"meal\", \"medical\", \"medical\", \"medical\", \"medical\", \"mental\", \"mental\", \"mental\", \"mental\", \"mental\", \"mental\", \"mental\", \"mentioned\", \"mentioned\", \"mentioned\", \"mentioned\", \"mentioned\", \"messy\", \"messy\", \"met\", \"met\", \"met\", \"met\", \"met\", \"met\", \"met\", \"met\", \"met\", \"migraines\", \"mindset\", \"minimum\", \"minimum\", \"miss\", \"miss\", \"miss\", \"mistreated\", \"mom\", \"mom\", \"mom\", \"mom\", \"mom\", \"mom\", \"mom\", \"mom\", \"mommy\", \"money\", \"money\", \"money\", \"money\", \"money\", \"money\", \"money\", \"money\", \"monster\", \"monster\", \"months\", \"months\", \"months\", \"months\", \"months\", \"months\", \"months\", \"moron\", \"mother\", \"mother\", \"mother\", \"mother\", \"mother\", \"mother\", \"mother\", \"mother\", \"mother\", \"move\", \"move\", \"move\", \"move\", \"move\", \"move\", \"move\", \"move\", \"moved\", \"moved\", \"moved\", \"moved\", \"moved\", \"moved\", \"moved\", \"moved\", \"much\", \"much\", \"much\", \"much\", \"much\", \"much\", \"much\", \"much\", \"much\", \"mute\", \"na\", \"na\", \"na\", \"na\", \"na\", \"na\", \"named\", \"nanny\", \"narcissists\", \"nc\", \"nc\", \"nearby\", \"neck\", \"neck\", \"neck\", \"need\", \"need\", \"need\", \"need\", \"need\", \"need\", \"need\", \"need\", \"neglect\", \"neglect\", \"neighbor\", \"neutral\", \"never\", \"never\", \"never\", \"never\", \"never\", \"never\", \"never\", \"never\", \"never\", \"next\", \"next\", \"next\", \"next\", \"next\", \"next\", \"next\", \"next\", \"night\", \"night\", \"night\", \"night\", \"night\", \"night\", \"night\", \"night\", \"notes\", \"notes\", \"noting\", \"npd\", \"nt\", \"nt\", \"nt\", \"nt\", \"nt\", \"nt\", \"nt\", \"nt\", \"nt\", \"nt\", \"nudes\", \"nudes\", \"nudes\", \"nurse\", \"nurse\", \"obsessively\", \"od\", \"offer\", \"offer\", \"offer\", \"offer\", \"offer\", \"officer\", \"officers\", \"old\", \"old\", \"old\", \"old\", \"old\", \"old\", \"old\", \"old\", \"old\", \"older\", \"older\", \"older\", \"older\", \"older\", \"older\", \"one\", \"one\", \"one\", \"one\", \"one\", \"one\", \"one\", \"one\", \"one\", \"one\", \"ood\", \"opinions\", \"opinions\", \"optimistic\", \"options\", \"options\", \"order\", \"order\", \"order\", \"order\", \"order\", \"organization\", \"others\", \"others\", \"others\", \"others\", \"outing\", \"overdramatic\", \"overprotective\", \"overreacting\", \"overreacting\", \"pandemic\", \"pandemic\", \"pandemic\", \"panic\", \"panic\", \"panic\", \"panic\", \"panic\", \"parents\", \"parents\", \"parents\", \"parents\", \"parents\", \"parents\", \"parents\", \"parents\", \"parents\", \"park\", \"participating\", \"partner\", \"partner\", \"partner\", \"partner\", \"partner\", \"partner\", \"past\", \"past\", \"past\", \"past\", \"past\", \"past\", \"past\", \"pay\", \"pay\", \"pay\", \"pay\", \"pay\", \"pay\", \"pay\", \"people\", \"people\", \"people\", \"people\", \"people\", \"people\", \"people\", \"people\", \"people\", \"perfect\", \"perfect\", \"perfect\", \"perfect\", \"person\", \"person\", \"person\", \"person\", \"person\", \"person\", \"person\", \"phase\", \"phone\", \"phone\", \"phone\", \"phone\", \"phone\", \"phone\", \"phone\", \"phone\", \"picks\", \"pill\", \"place\", \"place\", \"place\", \"place\", \"place\", \"place\", \"place\", \"place\", \"place\", \"plane\", \"plates\", \"platform\", \"pleasure\", \"poison\", \"police\", \"police\", \"police\", \"police\", \"police\", \"posted\", \"posted\", \"posted\", \"posted\", \"posted\", \"posted\", \"posted\", \"powerful\", \"powerless\", \"powerless\", \"powerless\", \"praise\", \"praise\", \"prefer\", \"prefer\", \"press\", \"press\", \"probation\", \"promises\", \"properly\", \"properly\", \"properly\", \"provides\", \"provides\", \"psych\", \"psychological\", \"psychological\", \"psychological\", \"psychological\", \"pursue\", \"pursue\", \"rages\", \"rat\", \"realise\", \"realized\", \"realized\", \"realized\", \"realized\", \"realized\", \"realized\", \"really\", \"really\", \"really\", \"really\", \"really\", \"really\", \"really\", \"really\", \"really\", \"really\", \"recommend\", \"recording\", \"reflecting\", \"regrets\", \"relationship\", \"relationship\", \"relationship\", \"relationship\", \"relationship\", \"relationship\", \"relationship\", \"relationship\", \"relationships\", \"relationships\", \"relationships\", \"relationships\", \"relationships\", \"relax\", \"relax\", \"remarks\", \"remember\", \"remember\", \"remember\", \"remember\", \"remember\", \"remember\", \"remember\", \"remember\", \"remember\", \"remember\", \"removed\", \"removed\", \"research\", \"research\", \"resorting\", \"respond\", \"respond\", \"respond\", \"restraining\", \"ridiculous\", \"ridiculous\", \"ridiculous\", \"rock\", \"rock\", \"rock\", \"romantically\", \"room\", \"room\", \"room\", \"room\", \"room\", \"room\", \"room\", \"root\", \"rushed\", \"safe\", \"safe\", \"safe\", \"safe\", \"safe\", \"safe\", \"safe\", \"safe\", \"said\", \"said\", \"said\", \"said\", \"said\", \"said\", \"said\", \"said\", \"satisfied\", \"saw\", \"saw\", \"saw\", \"saw\", \"saw\", \"saw\", \"saw\", \"saw\", \"saw\", \"say\", \"say\", \"say\", \"say\", \"say\", \"say\", \"say\", \"say\", \"say\", \"say\", \"saying\", \"saying\", \"saying\", \"saying\", \"saying\", \"saying\", \"saying\", \"saying\", \"says\", \"says\", \"says\", \"says\", \"says\", \"scared\", \"scared\", \"scared\", \"scared\", \"scared\", \"scared\", \"scared\", \"scared\", \"scared\", \"scenes\", \"school\", \"school\", \"school\", \"school\", \"school\", \"school\", \"school\", \"school\", \"scissors\", \"screw\", \"screwing\", \"section\", \"see\", \"see\", \"see\", \"see\", \"see\", \"see\", \"see\", \"see\", \"see\", \"selfesteem\", \"services\", \"services\", \"services\", \"services\", \"sex\", \"sex\", \"sex\", \"sex\", \"sex\", \"sex\", \"sex\", \"shaming\", \"sharing\", \"sharing\", \"sharing\", \"shel\", \"shel\", \"shelters\", \"shes\", \"shes\", \"shes\", \"shes\", \"shop\", \"shop\", \"sibling\", \"sibling\", \"siblings\", \"siblings\", \"siblings\", \"siblings\", \"side\", \"side\", \"side\", \"side\", \"side\", \"side\", \"side\", \"signs\", \"signs\", \"signs\", \"simply\", \"simply\", \"simply\", \"simply\", \"since\", \"since\", \"since\", \"since\", \"since\", \"since\", \"since\", \"since\", \"since\", \"since\", \"sink\", \"sink\", \"sister\", \"sister\", \"sister\", \"sister\", \"sister\", \"sister\", \"sister\", \"sister\", \"sisters\", \"sisters\", \"sisters\", \"sisters\", \"sisters\", \"situation\", \"situation\", \"situation\", \"situation\", \"situation\", \"situation\", \"situation\", \"situation\", \"skip\", \"skip\", \"slapped\", \"slapped\", \"slapped\", \"slapped\", \"slapped\", \"slaps\", \"smaller\", \"sneaky\", \"sob\", \"sob\", \"sob\", \"someone\", \"someone\", \"someone\", \"someone\", \"someone\", \"someone\", \"someone\", \"something\", \"something\", \"something\", \"something\", \"something\", \"something\", \"something\", \"something\", \"sometimes\", \"sometimes\", \"sometimes\", \"sometimes\", \"sometimes\", \"sometimes\", \"sometimes\", \"sometimes\", \"son\", \"son\", \"son\", \"son\", \"son\", \"songs\", \"songs\", \"sorts\", \"sorts\", \"spaces\", \"spank\", \"speaks\", \"specific\", \"specific\", \"spectrum\", \"spend\", \"spend\", \"spend\", \"spit\", \"spoiled\", \"spouse\", \"spouse\", \"spouse\", \"spouse\", \"ssi\", \"started\", \"started\", \"started\", \"started\", \"started\", \"started\", \"started\", \"started\", \"started\", \"state\", \"state\", \"state\", \"state\", \"state\", \"state\", \"status\", \"status\", \"stay\", \"stay\", \"stay\", \"stay\", \"stay\", \"stay\", \"stay\", \"stay\", \"stay\", \"stealing\", \"stealing\", \"stealing\", \"stepdad\", \"stepdad\", \"stepdad\", \"stepfather\", \"sticks\", \"still\", \"still\", \"still\", \"still\", \"still\", \"still\", \"still\", \"still\", \"still\", \"still\", \"stomach\", \"stomach\", \"stomach\", \"stone\", \"stop\", \"stop\", \"stop\", \"stop\", \"stop\", \"stop\", \"stop\", \"stop\", \"stop\", \"store\", \"store\", \"store\", \"store\", \"store\", \"stores\", \"story\", \"story\", \"story\", \"story\", \"story\", \"story\", \"story\", \"story\", \"story\", \"strained\", \"stuck\", \"stuck\", \"stuck\", \"stuck\", \"stuck\", \"stuck\", \"student\", \"student\", \"submissive\", \"submissive\", \"submissive\", \"subreddit\", \"subreddit\", \"subtle\", \"subtle\", \"subtle\", \"success\", \"suffers\", \"suggestion\", \"suggestions\", \"supportive\", \"supportive\", \"supportive\", \"supportive\", \"supportive\", \"supportive\", \"supports\", \"suppose\", \"suppose\", \"sure\", \"sure\", \"sure\", \"sure\", \"sure\", \"sure\", \"sure\", \"sure\", \"sure\", \"surrounding\", \"survivors\", \"suspect\", \"suspect\", \"suspect\", \"swallow\", \"sweep\", \"sympathy\", \"sympathy\", \"take\", \"take\", \"take\", \"take\", \"take\", \"take\", \"take\", \"take\", \"take\", \"talk\", \"talk\", \"talk\", \"talk\", \"talk\", \"talk\", \"talk\", \"talk\", \"talk\", \"team\", \"teenagers\", \"tell\", \"tell\", \"tell\", \"tell\", \"tell\", \"tell\", \"tell\", \"tell\", \"tell\", \"tell\", \"tells\", \"tells\", \"tells\", \"tells\", \"terribly\", \"textbook\", \"texted\", \"texted\", \"texted\", \"texted\", \"texting\", \"texting\", \"texting\", \"texting\", \"thick\", \"things\", \"things\", \"things\", \"things\", \"things\", \"things\", \"things\", \"things\", \"things\", \"things\", \"think\", \"think\", \"think\", \"think\", \"think\", \"think\", \"think\", \"think\", \"think\", \"threatened\", \"threatened\", \"threatened\", \"threatened\", \"threatened\", \"threatened\", \"threatened\", \"threatening\", \"threatening\", \"threatening\", \"threatening\", \"threatening\", \"throwaway\", \"throwaway\", \"throwaway\", \"throws\", \"throws\", \"thru\", \"thumb\", \"tight\", \"till\", \"till\", \"till\", \"till\", \"time\", \"time\", \"time\", \"time\", \"time\", \"time\", \"time\", \"time\", \"time\", \"time\", \"times\", \"times\", \"times\", \"times\", \"times\", \"times\", \"times\", \"times\", \"times\", \"together\", \"together\", \"together\", \"together\", \"together\", \"together\", \"together\", \"together\", \"told\", \"told\", \"told\", \"told\", \"told\", \"told\", \"told\", \"told\", \"told\", \"topics\", \"touchy\", \"toxicity\", \"toxicity\", \"transitional\", \"transparent\", \"tripping\", \"trouble\", \"trouble\", \"trouble\", \"trouble\", \"trouble\", \"trouble\", \"true\", \"true\", \"true\", \"true\", \"true\", \"true\", \"true\", \"trump\", \"trust\", \"trust\", \"trust\", \"trust\", \"trust\", \"trusting\", \"trying\", \"trying\", \"trying\", \"trying\", \"trying\", \"trying\", \"trying\", \"trying\", \"tuesday\", \"tv\", \"tv\", \"tv\", \"tv\", \"tv\", \"two\", \"two\", \"two\", \"two\", \"two\", \"two\", \"two\", \"two\", \"type\", \"type\", \"type\", \"type\", \"type\", \"type\", \"uck\", \"unannounced\", \"unannounced\", \"unbearable\", \"unbearable\", \"uncles\", \"understanding\", \"understanding\", \"understanding\", \"understanding\", \"understanding\", \"unfamiliar\", \"unlocked\", \"unstable\", \"unstable\", \"unsupportive\", \"upset\", \"upset\", \"upset\", \"upset\", \"upset\", \"upset\", \"upset\", \"us\", \"us\", \"us\", \"us\", \"us\", \"us\", \"us\", \"us\", \"us\", \"us\", \"used\", \"used\", \"used\", \"used\", \"used\", \"used\", \"used\", \"used\", \"used\", \"used\", \"uses\", \"uses\", \"uses\", \"uses\", \"uses\", \"utmmediumandroidapp\", \"utmmediumiosapp\", \"utmnameiossmf\", \"utmsourceshare\", \"vacation\", \"vacation\", \"vacation\", \"value\", \"value\", \"vent\", \"vent\", \"vent\", \"vent\", \"vented\", \"vet\", \"victim\", \"victim\", \"victim\", \"victim\", \"victim\", \"victim\", \"victim\", \"videos\", \"videos\", \"videos\", \"views\", \"violence\", \"violence\", \"violence\", \"violence\", \"violence\", \"violence\", \"virtually\", \"vomited\", \"want\", \"want\", \"want\", \"want\", \"want\", \"want\", \"want\", \"want\", \"want\", \"want\", \"wash\", \"washed\", \"washing\", \"wasnt\", \"wasnt\", \"wasnt\", \"way\", \"way\", \"way\", \"way\", \"way\", \"way\", \"way\", \"way\", \"way\", \"way\", \"ways\", \"ways\", \"ways\", \"ways\", \"ways\", \"ways\", \"ways\", \"weekend\", \"weekend\", \"weekend\", \"weekend\", \"weekend\", \"weirdly\", \"well\", \"well\", \"well\", \"well\", \"well\", \"well\", \"well\", \"well\", \"well\", \"went\", \"went\", \"went\", \"went\", \"went\", \"went\", \"went\", \"went\", \"went\", \"whatnot\", \"whenever\", \"whenever\", \"whenever\", \"whenever\", \"whenever\", \"whenever\", \"whenever\", \"whenever\", \"whipped\", \"wife\", \"wife\", \"wife\", \"wife\", \"wife\", \"wife\", \"wo\", \"wo\", \"wo\", \"wo\", \"wo\", \"wo\", \"wonder\", \"wonder\", \"wonder\", \"wonder\", \"wondered\", \"wondered\", \"wonderful\", \"wonderful\", \"wonderful\", \"work\", \"work\", \"work\", \"work\", \"work\", \"work\", \"work\", \"work\", \"workout\", \"would\", \"would\", \"would\", \"would\", \"would\", \"would\", \"would\", \"would\", \"would\", \"would\", \"writings\", \"wrong\", \"wrong\", \"wrong\", \"wrong\", \"wrong\", \"wrong\", \"wrong\", \"wrong\", \"x200b\", \"xmas\", \"xmas\", \"year\", \"year\", \"year\", \"year\", \"year\", \"year\", \"year\", \"year\", \"year\", \"year\", \"years\", \"years\", \"years\", \"years\", \"years\", \"years\", \"years\", \"years\", \"years\", \"yo\", \"yo\", \"youe\", \"youe\", \"youe\", \"youe\", \"youe\", \"youe\", \"youe\", \"youl\", \"youl\", \"youl\"]}, \"R\": 30, \"lambda.step\": 0.01, \"plot.opts\": {\"xlab\": \"PC1\", \"ylab\": \"PC2\"}, \"topic.order\": [8, 2, 3, 1, 4, 9, 6, 5, 10, 7]};\n",
       "\n",
       "function LDAvis_load_lib(url, callback){\n",
       "  var s = document.createElement('script');\n",
       "  s.src = url;\n",
       "  s.async = true;\n",
       "  s.onreadystatechange = s.onload = callback;\n",
       "  s.onerror = function(){console.warn(\"failed to load library \" + url);};\n",
       "  document.getElementsByTagName(\"head\")[0].appendChild(s);\n",
       "}\n",
       "\n",
       "if(typeof(LDAvis) !== \"undefined\"){\n",
       "   // already loaded: just create the visualization\n",
       "   !function(LDAvis){\n",
       "       new LDAvis(\"#\" + \"ldavis_el99321403799896259841248918203\", ldavis_el99321403799896259841248918203_data);\n",
       "   }(LDAvis);\n",
       "}else if(typeof define === \"function\" && define.amd){\n",
       "   // require.js is available: use it to load d3/LDAvis\n",
       "   require.config({paths: {d3: \"https://cdnjs.cloudflare.com/ajax/libs/d3/3.5.5/d3.min\"}});\n",
       "   require([\"d3\"], function(d3){\n",
       "      window.d3 = d3;\n",
       "      LDAvis_load_lib(\"https://cdn.rawgit.com/bmabey/pyLDAvis/files/ldavis.v1.0.0.js\", function(){\n",
       "        new LDAvis(\"#\" + \"ldavis_el99321403799896259841248918203\", ldavis_el99321403799896259841248918203_data);\n",
       "      });\n",
       "    });\n",
       "}else{\n",
       "    // require.js not available: dynamically load d3 & LDAvis\n",
       "    LDAvis_load_lib(\"https://cdnjs.cloudflare.com/ajax/libs/d3/3.5.5/d3.min.js\", function(){\n",
       "         LDAvis_load_lib(\"https://cdn.rawgit.com/bmabey/pyLDAvis/files/ldavis.v1.0.0.js\", function(){\n",
       "                 new LDAvis(\"#\" + \"ldavis_el99321403799896259841248918203\", ldavis_el99321403799896259841248918203_data);\n",
       "            })\n",
       "         });\n",
       "}\n",
       "</script>"
      ],
      "text/plain": [
       "<IPython.core.display.HTML object>"
      ]
     },
     "execution_count": 11,
     "metadata": {},
     "output_type": "execute_result"
    }
   ],
   "source": [
    "\n",
    "## It can be hard to get a good understanding of what's actually in these topics\n",
    "## Visualizations are very helpful for this, let's use a package that does this:\n",
    "\n",
    "vis_data = gensimvis.prepare(lda, corpus, dictionary)\n",
    "pyLDAvis.display(vis_data)"
   ]
  },
  {
   "cell_type": "markdown",
   "metadata": {},
   "source": [
    "Take a look at the results. What observations do you have? What happens if you change the number of topics?"
   ]
  },
  {
   "cell_type": "markdown",
   "metadata": {},
   "source": [
    "# 3 Using sklearn and comparing with 'existing' categories\n",
    "\n",
    "Now you have seen how you can build a topic models with gensim and look at the contents visually with pyLDAVis.\n",
    "\n",
    "You can also use sklearn for topic modeling, both lda and nmf, and analyse results visually by comparing with existing categories, if you have them.\n",
    "\n",
    "NMF approaches can be very efficient, particularly with smaller datasets. Let's see what you think.\n",
    "\n"
   ]
  },
  {
   "cell_type": "code",
   "execution_count": 12,
   "metadata": {},
   "outputs": [],
   "source": [
    "# We need a couple of functions to visualise the data\n",
    "# Preparation for visualisation \n",
    "# Written by Sonia Priou, adaptations by Sumithra Velupillai\n",
    "\n",
    "def display_topics(model, feature_names, no_top_words):\n",
    "    for topic_idx, topic in enumerate(model.components_):\n",
    "        print(\"Topic %d:\" % (topic_idx))\n",
    "        print(\", \".join([feature_names[i] for i in topic.argsort()[:-no_top_words - 1:-1]]))\n",
    "\n",
    "def get_topic_list(model, feature_names, no_top_words):\n",
    "    tlist = {}\n",
    "    for topic_idx, topic in enumerate(model.components_):\n",
    "        tlist[topic_idx]= str(\"%d: \" % (topic_idx)+\", \".join([feature_names[i] for i in topic.argsort()[:-no_top_words - 1:-1]]))\n",
    "    return tlist\n",
    "\n",
    "    \n",
    "def display_topic_representation (model,dataframe,tlist):\n",
    "    doc_topic = model    #example : model = lda_Tfidf.transform(tfidf)\n",
    "    doc = np.arange(doc_topic.shape[0])\n",
    "    num_topics = doc_topic.shape[1]\n",
    "    dico = {'index': doc}\n",
    "    for n in range(num_topics):\n",
    "        dico[\"topic\" + str(n)] = doc_topic[:,n]\n",
    "    \n",
    "    #Max topic \n",
    "    Topic_max = []\n",
    "    for i in range(doc_topic.shape[0]):\n",
    "        if len(set(doc_topic[i])) == 1:\n",
    "            Topic_max.append(num_topics+1)\n",
    "        else:\n",
    "            Topic_max.append(doc_topic[i].argmax())\n",
    "    dico[\"Topic most represented\"] = Topic_max\n",
    "    #print(Topic_max)\n",
    "    tlist[num_topics+1] = 'NONE'\n",
    "    dico[\"Topic and its most representative words\"] = [tlist[x] for x in Topic_max]\n",
    "    df_topic = pd.DataFrame(dico)\n",
    "\n",
    "    \n",
    "    #Link both DataFrame\n",
    "    df_result = pd.merge(dataframe,df_topic, on='index')\n",
    "    df_result = df_result.sort_values('Topic most represented')\n",
    "    \n",
    "    #Finding within the cluster found by LDA the original file\n",
    "    fig, ax = plt.subplots()\n",
    "    fig.set_size_inches(11.7, 8.27)\n",
    "    sns.set_style('whitegrid')\n",
    "    sns.countplot(y='Topic and its most representative words', data = df_result)\n",
    "    return df_result\n",
    "\n",
    "def display_file_representation (model,dataframe):\n",
    "    #Within a file, what is the slipt between topics found\n",
    "    doc_topic = model    #example : model = lda_Tfidf.transform(tfidf)\n",
    "    doc = np.arange(doc_topic.shape[0])\n",
    "    no_topics = doc_topic.shape[1]\n",
    "    topic = np.arange(no_topics)\n",
    "    dico = {'index': doc}\n",
    "    for n in range(no_topics):\n",
    "        dico[\"topic\" + str(n)] = doc_topic[:,n]\n",
    "    #Max topic \n",
    "    Topic_max = []\n",
    "    for i in range(doc_topic.shape[0]):\n",
    "        Topic_max.append(doc_topic[i].argmax())\n",
    "    dico[\"Topic most represented\"] = Topic_max\n",
    "    df_topic = pd.DataFrame(dico)\n",
    "    #print(df_topic)\n",
    "    \n",
    "    \n",
    "    #Link both DataFrame\n",
    "    df_result = pd.merge(dataframe,df_topic, on='index')\n",
    "    \n",
    "    dico2 = {'Topic': topic}\n",
    "    for i in df_result['label'].value_counts().index:\n",
    "        ser = df_result.loc[df_result['label']==i].mean()\n",
    "        score = ser[2:no_topics+2]\n",
    "        dico2[i]=score\n",
    "\n",
    "    df_score = pd.DataFrame(dico2)\n",
    "    print('For each given file, we calculate the mean percentage of the documents depence to each topic')\n",
    "    print('')\n",
    "    print(df_score)\n",
    "    print(df_result['label'].value_counts().index)\n",
    "\n",
    "    fig, axs = plt.subplots(ncols=len(dataframe['label'].value_counts()))\n",
    "    count = 0\n",
    "    for i in df_result['label'].value_counts().index:\n",
    "        sns.barplot(x='Topic', y =i ,data = df_score, ax=axs[count])\n",
    "        count = count + 1\n",
    "        \n",
    "    plt.tight_layout()"
   ]
  },
  {
   "cell_type": "markdown",
   "metadata": {},
   "source": [
    "Let's look at a smaller sample, to make the analysis a bit easier. You can choose other categories of course!"
   ]
  },
  {
   "cell_type": "code",
   "execution_count": 13,
   "metadata": {},
   "outputs": [
    {
     "data": {
      "text/html": [
       "<div>\n",
       "<style scoped>\n",
       "    .dataframe tbody tr th:only-of-type {\n",
       "        vertical-align: middle;\n",
       "    }\n",
       "\n",
       "    .dataframe tbody tr th {\n",
       "        vertical-align: top;\n",
       "    }\n",
       "\n",
       "    .dataframe thead th {\n",
       "        text-align: right;\n",
       "    }\n",
       "</style>\n",
       "<table border=\"1\" class=\"dataframe\">\n",
       "  <thead>\n",
       "    <tr style=\"text-align: right;\">\n",
       "      <th></th>\n",
       "      <th>new_date</th>\n",
       "      <th>created</th>\n",
       "      <th>link_flair_text</th>\n",
       "      <th>title</th>\n",
       "      <th>selftext</th>\n",
       "      <th>label</th>\n",
       "      <th>index</th>\n",
       "    </tr>\n",
       "  </thead>\n",
       "  <tbody>\n",
       "    <tr>\n",
       "      <th>0</th>\n",
       "      <td>2020-03-03 04:00:00</td>\n",
       "      <td>1.583209e+09</td>\n",
       "      <td>Trigger Warning: Multiple Triggers</td>\n",
       "      <td>I didn't realize it was abuse until it was too...</td>\n",
       "      <td>[my, husband, has, always, controlled, the, fi...</td>\n",
       "      <td>physical</td>\n",
       "      <td>0</td>\n",
       "    </tr>\n",
       "    <tr>\n",
       "      <th>1</th>\n",
       "      <td>2020-03-06 20:00:00</td>\n",
       "      <td>1.583527e+09</td>\n",
       "      <td>Family Abuse</td>\n",
       "      <td>Can a non-biological parent file for custody w...</td>\n",
       "      <td>[here, is, the, situation, i, was, posed, , , ...</td>\n",
       "      <td>physical</td>\n",
       "      <td>1</td>\n",
       "    </tr>\n",
       "    <tr>\n",
       "      <th>2</th>\n",
       "      <td>2020-03-07 23:00:00</td>\n",
       "      <td>1.583624e+09</td>\n",
       "      <td>Trigger Warning: Sexual Assault</td>\n",
       "      <td>Do any of you feel it in your gut? That this p...</td>\n",
       "      <td>[i, don, know, where, to, begin, , sexual, ass...</td>\n",
       "      <td>physical</td>\n",
       "      <td>2</td>\n",
       "    </tr>\n",
       "    <tr>\n",
       "      <th>3</th>\n",
       "      <td>2020-03-08 01:00:00</td>\n",
       "      <td>1.583633e+09</td>\n",
       "      <td>Trigger Warning: Sexual Assault</td>\n",
       "      <td>What do I want from the court?</td>\n",
       "      <td>[a, couple, days, ago, my, court, services, re...</td>\n",
       "      <td>physical</td>\n",
       "      <td>3</td>\n",
       "    </tr>\n",
       "    <tr>\n",
       "      <th>4</th>\n",
       "      <td>2020-03-08 02:00:00</td>\n",
       "      <td>1.583634e+09</td>\n",
       "      <td>Family Abuse</td>\n",
       "      <td>I called about physical abuse from my mom, but...</td>\n",
       "      <td>[to, preface, , my, mom, s, been, emotionally,...</td>\n",
       "      <td>physical</td>\n",
       "      <td>4</td>\n",
       "    </tr>\n",
       "  </tbody>\n",
       "</table>\n",
       "</div>"
      ],
      "text/plain": [
       "              new_date       created                     link_flair_text  \\\n",
       "0  2020-03-03 04:00:00  1.583209e+09  Trigger Warning: Multiple Triggers   \n",
       "1  2020-03-06 20:00:00  1.583527e+09                        Family Abuse   \n",
       "2  2020-03-07 23:00:00  1.583624e+09     Trigger Warning: Sexual Assault   \n",
       "3  2020-03-08 01:00:00  1.583633e+09     Trigger Warning: Sexual Assault   \n",
       "4  2020-03-08 02:00:00  1.583634e+09                        Family Abuse   \n",
       "\n",
       "                                               title  \\\n",
       "0  I didn't realize it was abuse until it was too...   \n",
       "1  Can a non-biological parent file for custody w...   \n",
       "2  Do any of you feel it in your gut? That this p...   \n",
       "3                     What do I want from the court?   \n",
       "4  I called about physical abuse from my mom, but...   \n",
       "\n",
       "                                            selftext     label  index  \n",
       "0  [my, husband, has, always, controlled, the, fi...  physical      0  \n",
       "1  [here, is, the, situation, i, was, posed, , , ...  physical      1  \n",
       "2  [i, don, know, where, to, begin, , sexual, ass...  physical      2  \n",
       "3  [a, couple, days, ago, my, court, services, re...  physical      3  \n",
       "4  [to, preface, , my, mom, s, been, emotionally,...  physical      4  "
      ]
     },
     "execution_count": 13,
     "metadata": {},
     "output_type": "execute_result"
    }
   ],
   "source": [
    "categories_to_keep = ['physical','emotional']\n",
    "df_smaller = df.loc[df['label'].isin(categories_to_keep)]\n",
    "#new_df = df.drop(df_smaller)\n",
    "new_df = df[~df.isin(df_smaller)]\n",
    "df_smaller['index'] = range(0,len (df_smaller))\n",
    "df_smaller.head()"
   ]
  },
  {
   "cell_type": "markdown",
   "metadata": {},
   "source": [
    "Now let's use sklearn's function for converting corpora to document-term-matrices. We'll define a function for this, which takes as parameters a dataframe, the name of the text column that should be transformed to tf-idf, and some optional parameters for thresholds in creating the model. These thresholds can of course be changed!"
   ]
  },
  {
   "cell_type": "code",
   "execution_count": 14,
   "metadata": {},
   "outputs": [],
   "source": [
    "def get_tfidf_model(dataframe, text_column, min_df = 5, max_df=100000, lowercase = True):\n",
    "    stopwords = nltk.corpus.stopwords.words('english')\n",
    "    min_df = 5\n",
    "    max_df = 100000\n",
    "    lowercase = True\n",
    "    \n",
    "\n",
    "    bow_transformer = CountVectorizer(stop_words=stopwords, \n",
    "                                  min_df=min_df, \n",
    "                                  max_df=max_df,\n",
    "                                  lowercase = lowercase).fit(dataframe[text_column])\n",
    "    document_bow = bow_transformer.transform(dataframe[text_column])\n",
    "    feature_names = bow_transformer.get_feature_names()\n",
    "\n",
    "    tfidf_transformer = TfidfTransformer().fit(document_bow)\n",
    "    document_tfidf= tfidf_transformer.transform(document_bow)\n",
    "    return feature_names, document_tfidf"
   ]
  },
  {
   "cell_type": "markdown",
   "metadata": {},
   "source": [
    "Let's also define some functions to train the different topic models - we're using NMF and LDA with some preset parameters, these can of course be changed. Note that the two functions return different variables."
   ]
  },
  {
   "cell_type": "code",
   "execution_count": 15,
   "metadata": {},
   "outputs": [],
   "source": [
    "def getNMFModel(no_topics, document_tfidf):\n",
    "    nmf = NMF(n_components=no_topics, \n",
    "          random_state=1, \n",
    "          alpha=.1, \n",
    "          l1_ratio=.5, \n",
    "          init='nndsvd').fit(document_tfidf)\n",
    "\n",
    "    W = nmf.transform(document_tfidf)\n",
    "    H = nmf.components_\n",
    "    return nmf, W, H\n",
    "\n",
    "def getLDAModel(no_topics, document_tfidf):\n",
    "    lda = LatentDirichletAllocation(n_components=no_topics).fit(document_tfidf)\n",
    "    return lda"
   ]
  },
  {
   "cell_type": "markdown",
   "metadata": {},
   "source": [
    "Now let's convert our data to a tfidf model and get the feature names from that model (i.e. the vocabulary)"
   ]
  },
  {
   "cell_type": "code",
   "execution_count": 16,
   "metadata": {
    "scrolled": true
   },
   "outputs": [],
   "source": [
    "feature_names, document_tfidf = get_tfidf_model(df_smaller, 'title')"
   ]
  },
  {
   "cell_type": "markdown",
   "metadata": {},
   "source": [
    "How many features does the model contain? What parameters can you change?"
   ]
  },
  {
   "cell_type": "code",
   "execution_count": 17,
   "metadata": {},
   "outputs": [
    {
     "name": "stdout",
     "output_type": "stream",
     "text": [
      "726\n"
     ]
    }
   ],
   "source": [
    "print(len(feature_names))"
   ]
  },
  {
   "cell_type": "markdown",
   "metadata": {},
   "source": [
    "### Optional\n",
    "What's in the variable feature_names? How can you take a look?"
   ]
  },
  {
   "cell_type": "code",
   "execution_count": 18,
   "metadata": {},
   "outputs": [],
   "source": [
    "## Do something with the variable feature_names"
   ]
  },
  {
   "cell_type": "markdown",
   "metadata": {},
   "source": [
    "### Number of topics and top words for each topic\n",
    "* How many topics do you want the model to generate?\n",
    "* How many discriminative words from each topic do you want to look at? "
   ]
  },
  {
   "cell_type": "code",
   "execution_count": 19,
   "metadata": {},
   "outputs": [],
   "source": [
    "## In this case, we know that there are four categories in the dataset, \n",
    "## let's see if the models produce something coherent with that number\n",
    "no_topics = 4\n",
    "\n",
    "## Each topic is represented with a list of words, ranked according to how discriminative they are for that topic. \n",
    "## We can use the top ranked words to try to understand what the topic represents.\n",
    "no_top_words = 10"
   ]
  },
  {
   "cell_type": "markdown",
   "metadata": {},
   "source": [
    "Now let's build an lda model"
   ]
  },
  {
   "cell_type": "code",
   "execution_count": 20,
   "metadata": {},
   "outputs": [
    {
     "name": "stderr",
     "output_type": "stream",
     "text": [
      "/opt/anaconda3/lib/python3.8/site-packages/past/builtins/misc.py:45: DeprecationWarning: the imp module is deprecated in favour of importlib; see the module's documentation for alternative uses\n",
      "  from imp import reload\n",
      "/opt/anaconda3/lib/python3.8/site-packages/past/builtins/misc.py:45: DeprecationWarning: the imp module is deprecated in favour of importlib; see the module's documentation for alternative uses\n",
      "  from imp import reload\n",
      "/opt/anaconda3/lib/python3.8/site-packages/past/builtins/misc.py:45: DeprecationWarning: the imp module is deprecated in favour of importlib; see the module's documentation for alternative uses\n",
      "  from imp import reload\n",
      "/opt/anaconda3/lib/python3.8/site-packages/past/builtins/misc.py:45: DeprecationWarning: the imp module is deprecated in favour of importlib; see the module's documentation for alternative uses\n",
      "  from imp import reload\n",
      "/opt/anaconda3/lib/python3.8/site-packages/past/builtins/misc.py:45: DeprecationWarning: the imp module is deprecated in favour of importlib; see the module's documentation for alternative uses\n",
      "  from imp import reload\n",
      "/opt/anaconda3/lib/python3.8/site-packages/past/builtins/misc.py:45: DeprecationWarning: the imp module is deprecated in favour of importlib; see the module's documentation for alternative uses\n",
      "  from imp import reload\n",
      "/opt/anaconda3/lib/python3.8/site-packages/past/builtins/misc.py:45: DeprecationWarning: the imp module is deprecated in favour of importlib; see the module's documentation for alternative uses\n",
      "  from imp import reload\n",
      "/opt/anaconda3/lib/python3.8/site-packages/past/builtins/misc.py:45: DeprecationWarning: the imp module is deprecated in favour of importlib; see the module's documentation for alternative uses\n",
      "  from imp import reload\n"
     ]
    }
   ],
   "source": [
    "lda = getLDAModel(no_topics, document_tfidf)"
   ]
  },
  {
   "cell_type": "markdown",
   "metadata": {},
   "source": [
    "### Most discriminative words - LDA\n",
    "Let's look at the most discriminative words for each topic generated from our LDA model. Do you see a pattern? Do they make sense? Do you think more work needs to be done, e.g. with parameters, with the underlying representation, or other things?"
   ]
  },
  {
   "cell_type": "code",
   "execution_count": 21,
   "metadata": {},
   "outputs": [
    {
     "name": "stdout",
     "output_type": "stream",
     "text": [
      "Topic 0:\n",
      "advice, need, help, dv, support, mom, story, really, trying, sure\n",
      "Topic 1:\n",
      "abuse, emotional, domestic, violence, abuser, wrong, ex, still, right, hard\n",
      "Topic 2:\n",
      "feel, know, like, leave, abusive, don__, mother, get, abused, relationship\n",
      "Topic 3:\n",
      "abusive, help, emotionally, anyone, parents, family, friend, please, ex, husband\n"
     ]
    }
   ],
   "source": [
    "display_topics(lda,feature_names, no_top_words)"
   ]
  },
  {
   "cell_type": "markdown",
   "metadata": {},
   "source": [
    "We can now look at the distribution of the main topic (i.e. the topic with highest probability) for each document. "
   ]
  },
  {
   "cell_type": "code",
   "execution_count": 22,
   "metadata": {},
   "outputs": [
    {
     "name": "stdout",
     "output_type": "stream",
     "text": [
      "Representation of the main topic for each document in the document collection\n"
     ]
    },
    {
     "data": {
      "image/png": "[encoded data removed]",
      "text/plain": [
       "<Figure size 842.4x595.44 with 1 Axes>"
      ]
     },
     "metadata": {
      "needs_background": "light"
     },
     "output_type": "display_data"
    }
   ],
   "source": [
    "print('Representation of the main topic for each document in the document collection')\n",
    "tlist = get_topic_list(lda,feature_names, 10)\n",
    "df_result = display_topic_representation(lda.transform(document_tfidf),df_smaller,tlist)"
   ]
  },
  {
   "cell_type": "markdown",
   "metadata": {},
   "source": [
    "Does this look reasonable to you? Are all the topics represented? How do you interpret these results?"
   ]
  },
  {
   "cell_type": "markdown",
   "metadata": {},
   "source": [
    "There's a new column saved in the dataframe that contains the topic number that had the highest probability, we can look at the distribution of those. "
   ]
  },
  {
   "cell_type": "code",
   "execution_count": 23,
   "metadata": {},
   "outputs": [
    {
     "data": {
      "text/plain": [
       "2    1119\n",
       "3    1039\n",
       "1     960\n",
       "0     880\n",
       "5     155\n",
       "Name: Topic most represented, dtype: int64"
      ]
     },
     "execution_count": 23,
     "metadata": {},
     "output_type": "execute_result"
    }
   ],
   "source": [
    "df_result['Topic most represented'].value_counts()"
   ]
  },
  {
   "cell_type": "markdown",
   "metadata": {},
   "source": [
    "We can also look at the probability scores each topic resulted in in the whole document collection and get some descriptive statistics. Look at some of the other topics!"
   ]
  },
  {
   "cell_type": "code",
   "execution_count": 24,
   "metadata": {},
   "outputs": [
    {
     "data": {
      "text/plain": [
       "count    4153.000000\n",
       "mean        0.244552\n",
       "std         0.209617\n",
       "min         0.055453\n",
       "25%         0.092815\n",
       "50%         0.125011\n",
       "75%         0.355037\n",
       "max         0.796922\n",
       "Name: topic1, dtype: float64"
      ]
     },
     "execution_count": 24,
     "metadata": {},
     "output_type": "execute_result"
    }
   ],
   "source": [
    "df_result['topic1'].describe()"
   ]
  },
  {
   "cell_type": "markdown",
   "metadata": {},
   "source": [
    "Now let's look at the distribution of topics in the files in relation to the 'existing' categories in the dataset. We'll use the function we defined earlier."
   ]
  },
  {
   "cell_type": "code",
   "execution_count": 25,
   "metadata": {},
   "outputs": [
    {
     "name": "stdout",
     "output_type": "stream",
     "text": [
      "For each given file, we calculate the mean percentage of the documents depence to each topic\n",
      "\n",
      "        Topic  physical  emotional\n",
      "topic0      0  0.255353   0.215598\n",
      "topic1      1  0.243860   0.245310\n",
      "topic2      2  0.258121   0.274702\n",
      "topic3      3  0.242666   0.264390\n",
      "Index(['physical', 'emotional'], dtype='object')\n"
     ]
    },
    {
     "data": {
      "image/png": "[encoded data removed]",
      "text/plain": [
       "<Figure size 432x288 with 2 Axes>"
      ]
     },
     "metadata": {},
     "output_type": "display_data"
    }
   ],
   "source": [
    "display_file_representation(lda.transform(document_tfidf),df_smaller)"
   ]
  },
  {
   "cell_type": "markdown",
   "metadata": {},
   "source": [
    "### NMF\n",
    "Now let's compare with NMF.  "
   ]
  },
  {
   "cell_type": "code",
   "execution_count": 26,
   "metadata": {},
   "outputs": [],
   "source": [
    "nmf, W, H = getNMFModel(no_topics, document_tfidf)"
   ]
  },
  {
   "cell_type": "code",
   "execution_count": 27,
   "metadata": {},
   "outputs": [
    {
     "name": "stdout",
     "output_type": "stream",
     "text": [
      "Topic 0:\n",
      "abuse, emotional, domestic, physical, tw, considered, financial, relationship, verbal, child\n",
      "Topic 1:\n",
      "help, need, advice, please, friend, support, get, needed, domestic, violence\n",
      "Topic 2:\n",
      "abusive, emotionally, relationship, abused, ex, parents, mother, mom, think, father\n",
      "Topic 3:\n",
      "know, feel, don__, like, anymore, want, abuser, i__, abused, anyone\n"
     ]
    }
   ],
   "source": [
    "display_topics(nmf, feature_names, no_top_words)"
   ]
  },
  {
   "cell_type": "code",
   "execution_count": 28,
   "metadata": {},
   "outputs": [
    {
     "name": "stdout",
     "output_type": "stream",
     "text": [
      "Representation of the main topic for each document\n"
     ]
    },
    {
     "data": {
      "image/png": "[encoded data removed]",
      "text/plain": [
       "<Figure size 842.4x595.44 with 1 Axes>"
      ]
     },
     "metadata": {},
     "output_type": "display_data"
    }
   ],
   "source": [
    "print('Representation of the main topic for each document')\n",
    "\n",
    "tlist = get_topic_list(nmf,feature_names, 10)\n",
    "df_result = display_topic_representation(W,df_smaller,tlist)\n"
   ]
  },
  {
   "cell_type": "code",
   "execution_count": 29,
   "metadata": {},
   "outputs": [
    {
     "name": "stdout",
     "output_type": "stream",
     "text": [
      "For each given file, we calculate the mean percentage of the documents depence to each topic\n",
      "\n",
      "          Topic  physical  emotional\n",
      "topic0_x      0  0.005931   0.012252\n",
      "topic1_x      1  0.010458   0.006452\n",
      "topic2_x      2  0.006393   0.012989\n",
      "topic3_x      3  0.007489   0.008226\n",
      "Index(['physical', 'emotional'], dtype='object')\n"
     ]
    },
    {
     "data": {
      "image/png": "[encoded data removed]",
      "text/plain": [
       "<Figure size 432x288 with 2 Axes>"
      ]
     },
     "metadata": {},
     "output_type": "display_data"
    }
   ],
   "source": [
    "display_file_representation(W,df_result)"
   ]
  },
  {
   "cell_type": "markdown",
   "metadata": {},
   "source": [
    "## LDA vs NMF?\n",
    "What do you think about these results and models? What main differences do you notice when comparing NMF and LDA results? Do you think one is better than the other? What parameters might be worth changing?"
   ]
  },
  {
   "cell_type": "markdown",
   "metadata": {},
   "source": [
    "# Choosing number of topics ('k') - coherence score\n",
    "\n",
    "There are several metrics proposed for automatically calculating what the 'optimal' number of topics in a document collection is, by trying to measure how coherent generated topics are.\n",
    "\n",
    "Here, we will use the TC-W2W score proposed by O'Callaghan et al. \n",
    "\n",
    "O’Callaghan, D., Greene, D., Carthy, J., & Cunningham, P. (2015). \n",
    "An analysis of the coherence of descriptors in topic modeling. \n",
    "Expert Systems with Applications, 42(13), 5645-5657\n",
    "\n",
    "The code is from: https://github.com/derekgreene/topic-model-tutorial/blob/master/3%20-%20Parameter%20Selection%20for%20NMF.ipynb\n",
    "With slight adaptations for our example."
   ]
  },
  {
   "cell_type": "markdown",
   "metadata": {},
   "source": [
    "The main idea with this score is to calculate the pairwise embedding vector similarity for each term pair in the top ranked words in each generated topic."
   ]
  },
  {
   "cell_type": "markdown",
   "metadata": {},
   "source": [
    "We need to have a word2vec model first. We'll start by building one on the entire document collection we have. NOTE: this means that we have an 'in-domain' model."
   ]
  },
  {
   "cell_type": "code",
   "execution_count": 30,
   "metadata": {},
   "outputs": [],
   "source": [
    "import gensim\n",
    "\n",
    "w2v_model = gensim.models.Word2Vec(df['selftext'], min_count=2, batch_words=1000)\n"
   ]
  },
  {
   "cell_type": "markdown",
   "metadata": {},
   "source": [
    "How big is the vocabulary in this embedding model? "
   ]
  },
  {
   "cell_type": "code",
   "execution_count": 31,
   "metadata": {},
   "outputs": [
    {
     "name": "stdout",
     "output_type": "stream",
     "text": [
      "Model has 13400 terms\n"
     ]
    }
   ],
   "source": [
    "print( \"Model has %d terms\" % len(w2v_model.wv.index_to_key) )"
   ]
  },
  {
   "cell_type": "markdown",
   "metadata": {},
   "source": [
    "'''\n",
    "AttributeError: The vocab attribute was removed from KeyedVector in Gensim 4.0.0.\n",
    "Use KeyedVector's .key_to_index dict, .index_to_key list, and methods .get_vecattr(key, attr) and .set_vecattr(key, attr, new_val) instead.\n",
    "See https://github.com/RaRe-Technologies/gensim/wiki/Migrating-from-Gensim-3.x-to-4\n",
    "'''"
   ]
  },
  {
   "cell_type": "markdown",
   "metadata": {},
   "source": [
    "Recap: we can get similarity scores for different word in these types of models. "
   ]
  },
  {
   "cell_type": "code",
   "execution_count": 32,
   "metadata": {},
   "outputs": [
    {
     "data": {
      "text/plain": [
       "[('violence', 0.8230111002922058),\n",
       " ('volatility', 0.7131473422050476),\n",
       " ('emotional', 0.6976082921028137),\n",
       " ('abuseneglect', 0.6788153052330017),\n",
       " ('assault', 0.6744834780693054),\n",
       " ('physical', 0.6541240811347961),\n",
       " ('trauma', 0.6533944010734558),\n",
       " ('dysregulation', 0.6184753775596619),\n",
       " ('manipulation', 0.6126822829246521),\n",
       " ('verbal', 0.6095532774925232)]"
      ]
     },
     "execution_count": 32,
     "metadata": {},
     "output_type": "execute_result"
    }
   ],
   "source": [
    "w2v_model.wv.most_similar('abuse')\n",
    "# model.wv.most_similar(\"glass\") "
   ]
  },
  {
   "cell_type": "markdown",
   "metadata": {},
   "source": [
    "Next, we need to build topic models with different number of topics assigned. Let's define a range of k to try."
   ]
  },
  {
   "cell_type": "code",
   "execution_count": 33,
   "metadata": {},
   "outputs": [],
   "source": [
    "kmin, kmax = 3, 15"
   ]
  },
  {
   "cell_type": "markdown",
   "metadata": {},
   "source": [
    "Let's try our smaller dataset again, and generate a tfidf-representation to use in the topic models."
   ]
  },
  {
   "cell_type": "code",
   "execution_count": 34,
   "metadata": {},
   "outputs": [],
   "source": [
    "feature_names, document_tfidf = get_tfidf_model(df_smaller, 'title')"
   ]
  },
  {
   "cell_type": "markdown",
   "metadata": {},
   "source": [
    "Now, let's generate NMF topic models for each value of k in our range"
   ]
  },
  {
   "cell_type": "code",
   "execution_count": 35,
   "metadata": {},
   "outputs": [
    {
     "name": "stdout",
     "output_type": "stream",
     "text": [
      "Applying NMF for k=3 ...\n",
      "Applying NMF for k=4 ...\n",
      "Applying NMF for k=5 ...\n",
      "Applying NMF for k=6 ...\n",
      "Applying NMF for k=7 ...\n",
      "Applying NMF for k=8 ...\n",
      "Applying NMF for k=9 ...\n",
      "Applying NMF for k=10 ...\n",
      "Applying NMF for k=11 ...\n",
      "Applying NMF for k=12 ...\n",
      "Applying NMF for k=13 ...\n",
      "Applying NMF for k=14 ...\n",
      "Applying NMF for k=15 ...\n"
     ]
    }
   ],
   "source": [
    "from sklearn import decomposition\n",
    "topic_models = []\n",
    "# try each value of k\n",
    "for k in range(kmin,kmax+1):\n",
    "    print(\"Applying NMF for k=%d ...\" % k )\n",
    "    # run NMF\n",
    "    #model = decomposition.NMF( init=\"nndsvd\", n_components=k ) \n",
    "    model = decomposition.NMF( n_components=k, \n",
    "          random_state=1, \n",
    "          alpha=.1, \n",
    "          l1_ratio=.5, \n",
    "          init='nndsvd') \n",
    "    W = model.fit_transform( document_tfidf )\n",
    "    H = model.components_    \n",
    "    # store for later\n",
    "    topic_models.append( (k,W,H) )"
   ]
  },
  {
   "cell_type": "markdown",
   "metadata": {},
   "source": [
    "We need a couple of functions to calculate the coherence score"
   ]
  },
  {
   "cell_type": "code",
   "execution_count": 45,
   "metadata": {},
   "outputs": [],
   "source": [
    "from itertools import combinations\n",
    "def calculate_coherence( w2v_model, term_rankings , print_pairs=False):\n",
    "    overall_coherence = 0.0\n",
    "    for topic_index in range(len(term_rankings)):\n",
    "        # check each pair of terms\n",
    "        pair_scores = []\n",
    "        for pair in combinations( term_rankings[topic_index], 2 ):\n",
    "            ## check if word in vocabulary first!! Added by Sumithra\n",
    "            if pair[0] in w2v_model.wv.index_to_key and pair[1] in w2v_model.wv.index_to_key:\n",
    "                pair_scores.append( w2v_model.wv.similarity(pair[0], pair[1]) )\n",
    "                if print_pairs:\n",
    "                    print(pair[0], pair[1], w2v_model.wv.similarity(pair[0], pair[1]))\n",
    "            else:\n",
    "                if print_pairs:\n",
    "                    print('word pair not in vocabulary', pair[0], pair[1])\n",
    "                pair_scores.append( 0.0 )\n",
    "        # get the mean for all pairs in this topic\n",
    "        topic_score = sum(pair_scores) / len(pair_scores)\n",
    "        overall_coherence += topic_score\n",
    "    # get the mean score across all topics\n",
    "    return overall_coherence / len(term_rankings)"
   ]
  },
  {
   "cell_type": "code",
   "execution_count": 46,
   "metadata": {},
   "outputs": [],
   "source": [
    "def get_descriptor( all_terms, H, topic_index, top ):\n",
    "    # reverse sort the values to sort the indices\n",
    "    top_indices = np.argsort( H[topic_index,:] )[::-1]\n",
    "    # now get the terms corresponding to the top-ranked indices\n",
    "    top_terms = []\n",
    "    for term_index in top_indices[0:top]:\n",
    "        top_terms.append( all_terms[term_index] )\n",
    "    return top_terms"
   ]
  },
  {
   "cell_type": "markdown",
   "metadata": {},
   "source": [
    "Let's calculate the coherence score for each model with k topics."
   ]
  },
  {
   "cell_type": "code",
   "execution_count": 47,
   "metadata": {},
   "outputs": [
    {
     "name": "stdout",
     "output_type": "stream",
     "text": [
      "K=03: Coherence=0.3285\n",
      "K=04: Coherence=0.3178\n",
      "K=05: Coherence=0.2824\n",
      "K=06: Coherence=0.2965\n",
      "K=07: Coherence=0.2804\n",
      "K=08: Coherence=0.2562\n",
      "K=09: Coherence=0.2608\n",
      "K=10: Coherence=0.2569\n",
      "K=11: Coherence=0.2539\n",
      "K=12: Coherence=0.2672\n",
      "K=13: Coherence=0.2667\n",
      "K=14: Coherence=0.2515\n",
      "K=15: Coherence=0.2613\n"
     ]
    }
   ],
   "source": [
    "    \n",
    "k_values = []\n",
    "coherences = []\n",
    "for (k,W,H) in topic_models:\n",
    "    # Get all of the topic descriptors - the term_rankings, based on top 10 terms\n",
    "    term_rankings = []\n",
    "    for topic_index in range(k):\n",
    "        term_rankings.append( get_descriptor(feature_names, H, topic_index, 10 ) )\n",
    "    # Now calculate the coherence based on our Word2vec model\n",
    "    k_values.append( k )\n",
    "    coherences.append( calculate_coherence( w2v_model, term_rankings ) )\n",
    "    print(\"K=%02d: Coherence=%.4f\" % ( k, coherences[-1] ) )"
   ]
  },
  {
   "cell_type": "markdown",
   "metadata": {},
   "source": [
    "We can plot this to visualise"
   ]
  },
  {
   "cell_type": "code",
   "execution_count": 48,
   "metadata": {},
   "outputs": [],
   "source": [
    "%matplotlib inline\n",
    "import matplotlib\n",
    "import matplotlib.pyplot as plt\n",
    "plt.style.use(\"ggplot\")\n",
    "matplotlib.rcParams.update({\"font.size\": 14})"
   ]
  },
  {
   "cell_type": "code",
   "execution_count": 49,
   "metadata": {},
   "outputs": [
    {
     "data": {
      "image/png": "[encoded data removed]",
      "text/plain": [
       "<Figure size 936x504 with 1 Axes>"
      ]
     },
     "metadata": {},
     "output_type": "display_data"
    }
   ],
   "source": [
    "fig = plt.figure(figsize=(13,7))\n",
    "# create the line plot\n",
    "ax = plt.plot( k_values, coherences )\n",
    "plt.xticks(k_values)\n",
    "plt.xlabel(\"Number of Topics\")\n",
    "plt.ylabel(\"Mean Coherence\")\n",
    "# add the points\n",
    "plt.scatter( k_values, coherences, s=120)\n",
    "# find and annotate the maximum point on the plot\n",
    "ymax = max(coherences)\n",
    "xpos = coherences.index(ymax)\n",
    "best_k = k_values[xpos]\n",
    "plt.annotate( \"k=%d\" % best_k, xy=(best_k, ymax), xytext=(best_k, ymax), textcoords=\"offset points\", fontsize=16)\n",
    "# show the plot\n",
    "plt.show()"
   ]
  },
  {
   "cell_type": "markdown",
   "metadata": {},
   "source": [
    "What seems to be the 'optimal' number of topics? Does this make sense do you think?"
   ]
  },
  {
   "cell_type": "markdown",
   "metadata": {},
   "source": [
    "Now let's build a model with this 'k' and look at what the model produces"
   ]
  },
  {
   "cell_type": "code",
   "execution_count": 51,
   "metadata": {},
   "outputs": [],
   "source": [
    "\n",
    "## Assign a value to no_topics from the results above\n",
    "no_topics = 7# fill in here\n",
    "\n",
    "## How many words do you want as topic descriptors?\n",
    "no_top_words = 15 # fill in here"
   ]
  },
  {
   "cell_type": "code",
   "execution_count": 52,
   "metadata": {},
   "outputs": [],
   "source": [
    "nmf, W, H = getNMFModel(no_topics, document_tfidf)"
   ]
  },
  {
   "cell_type": "code",
   "execution_count": 53,
   "metadata": {},
   "outputs": [
    {
     "name": "stdout",
     "output_type": "stream",
     "text": [
      "Representation of the main topic for each document\n"
     ]
    },
    {
     "data": {
      "image/png": "[encoded data removed]",
      "text/plain": [
       "<Figure size 842.4x595.44 with 1 Axes>"
      ]
     },
     "metadata": {},
     "output_type": "display_data"
    }
   ],
   "source": [
    "print('Representation of the main topic for each document')\n",
    "\n",
    "tlist = get_topic_list(nmf,feature_names, 10)\n",
    "df_result = display_topic_representation(W,df_smaller,tlist)"
   ]
  },
  {
   "cell_type": "code",
   "execution_count": 54,
   "metadata": {},
   "outputs": [
    {
     "data": {
      "text/html": [
       "<div>\n",
       "<style scoped>\n",
       "    .dataframe tbody tr th:only-of-type {\n",
       "        vertical-align: middle;\n",
       "    }\n",
       "\n",
       "    .dataframe tbody tr th {\n",
       "        vertical-align: top;\n",
       "    }\n",
       "\n",
       "    .dataframe thead th {\n",
       "        text-align: right;\n",
       "    }\n",
       "</style>\n",
       "<table border=\"1\" class=\"dataframe\">\n",
       "  <thead>\n",
       "    <tr style=\"text-align: right;\">\n",
       "      <th></th>\n",
       "      <th>new_date</th>\n",
       "      <th>created</th>\n",
       "      <th>link_flair_text</th>\n",
       "      <th>title</th>\n",
       "      <th>selftext</th>\n",
       "      <th>label</th>\n",
       "      <th>index</th>\n",
       "      <th>topic0</th>\n",
       "      <th>topic1</th>\n",
       "      <th>topic2</th>\n",
       "      <th>topic3</th>\n",
       "      <th>topic4</th>\n",
       "      <th>topic5</th>\n",
       "      <th>topic6</th>\n",
       "      <th>Topic most represented</th>\n",
       "      <th>Topic and its most representative words</th>\n",
       "    </tr>\n",
       "  </thead>\n",
       "  <tbody>\n",
       "    <tr>\n",
       "      <th>0</th>\n",
       "      <td>2020-03-03 04:00:00</td>\n",
       "      <td>1.583209e+09</td>\n",
       "      <td>Trigger Warning: Multiple Triggers</td>\n",
       "      <td>I didn't realize it was abuse until it was too...</td>\n",
       "      <td>[my, husband, has, always, controlled, the, fi...</td>\n",
       "      <td>physical</td>\n",
       "      <td>0</td>\n",
       "      <td>0.048854</td>\n",
       "      <td>0.000000</td>\n",
       "      <td>0.0</td>\n",
       "      <td>0.0</td>\n",
       "      <td>0.0</td>\n",
       "      <td>0.0</td>\n",
       "      <td>0.0</td>\n",
       "      <td>0</td>\n",
       "      <td>0: abuse, emotional, domestic, physical, tw, c...</td>\n",
       "    </tr>\n",
       "    <tr>\n",
       "      <th>1839</th>\n",
       "      <td>2021-11-05 17:00:00</td>\n",
       "      <td>1.636132e+09</td>\n",
       "      <td>Is this abuse?</td>\n",
       "      <td>Is this domestic abuse?</td>\n",
       "      <td>[firstly, , i, do, nt, have, all, the, details...</td>\n",
       "      <td>physical</td>\n",
       "      <td>1839</td>\n",
       "      <td>0.101118</td>\n",
       "      <td>0.006354</td>\n",
       "      <td>0.0</td>\n",
       "      <td>0.0</td>\n",
       "      <td>0.0</td>\n",
       "      <td>0.0</td>\n",
       "      <td>0.0</td>\n",
       "      <td>0</td>\n",
       "      <td>0: abuse, emotional, domestic, physical, tw, c...</td>\n",
       "    </tr>\n",
       "    <tr>\n",
       "      <th>1845</th>\n",
       "      <td>2021-11-06 04:00:00</td>\n",
       "      <td>1.636175e+09</td>\n",
       "      <td>TW Multiple Trigger Warning</td>\n",
       "      <td>Financial abuse</td>\n",
       "      <td>[my, husband, makes, 250k, a, year, and, insis...</td>\n",
       "      <td>physical</td>\n",
       "      <td>1845</td>\n",
       "      <td>0.074780</td>\n",
       "      <td>0.000000</td>\n",
       "      <td>0.0</td>\n",
       "      <td>0.0</td>\n",
       "      <td>0.0</td>\n",
       "      <td>0.0</td>\n",
       "      <td>0.0</td>\n",
       "      <td>0</td>\n",
       "      <td>0: abuse, emotional, domestic, physical, tw, c...</td>\n",
       "    </tr>\n",
       "    <tr>\n",
       "      <th>1857</th>\n",
       "      <td>2021-11-08 10:00:00</td>\n",
       "      <td>1.636366e+09</td>\n",
       "      <td>Romantic Partner Abuse</td>\n",
       "      <td>best books (poetry specifically but creative/m...</td>\n",
       "      <td>[hi, , searching, the, internet, high, and, lo...</td>\n",
       "      <td>physical</td>\n",
       "      <td>1857</td>\n",
       "      <td>0.041729</td>\n",
       "      <td>0.000000</td>\n",
       "      <td>0.0</td>\n",
       "      <td>0.0</td>\n",
       "      <td>0.0</td>\n",
       "      <td>0.0</td>\n",
       "      <td>0.0</td>\n",
       "      <td>0</td>\n",
       "      <td>0: abuse, emotional, domestic, physical, tw, c...</td>\n",
       "    </tr>\n",
       "    <tr>\n",
       "      <th>1867</th>\n",
       "      <td>2021-11-09 15:00:00</td>\n",
       "      <td>1.636472e+09</td>\n",
       "      <td>How To Heal</td>\n",
       "      <td>Escaped Abuse A Decade Ago. Just Re-triggered ...</td>\n",
       "      <td>[my, father, abused, my, mother, , younger, br...</td>\n",
       "      <td>physical</td>\n",
       "      <td>1867</td>\n",
       "      <td>0.040410</td>\n",
       "      <td>0.000000</td>\n",
       "      <td>0.0</td>\n",
       "      <td>0.0</td>\n",
       "      <td>0.0</td>\n",
       "      <td>0.0</td>\n",
       "      <td>0.0</td>\n",
       "      <td>0</td>\n",
       "      <td>0: abuse, emotional, domestic, physical, tw, c...</td>\n",
       "    </tr>\n",
       "  </tbody>\n",
       "</table>\n",
       "</div>"
      ],
      "text/plain": [
       "                 new_date       created                     link_flair_text  \\\n",
       "0     2020-03-03 04:00:00  1.583209e+09  Trigger Warning: Multiple Triggers   \n",
       "1839  2021-11-05 17:00:00  1.636132e+09                      Is this abuse?   \n",
       "1845  2021-11-06 04:00:00  1.636175e+09         TW Multiple Trigger Warning   \n",
       "1857  2021-11-08 10:00:00  1.636366e+09              Romantic Partner Abuse   \n",
       "1867  2021-11-09 15:00:00  1.636472e+09                         How To Heal   \n",
       "\n",
       "                                                  title  \\\n",
       "0     I didn't realize it was abuse until it was too...   \n",
       "1839                            Is this domestic abuse?   \n",
       "1845                                    Financial abuse   \n",
       "1857  best books (poetry specifically but creative/m...   \n",
       "1867  Escaped Abuse A Decade Ago. Just Re-triggered ...   \n",
       "\n",
       "                                               selftext     label  index  \\\n",
       "0     [my, husband, has, always, controlled, the, fi...  physical      0   \n",
       "1839  [firstly, , i, do, nt, have, all, the, details...  physical   1839   \n",
       "1845  [my, husband, makes, 250k, a, year, and, insis...  physical   1845   \n",
       "1857  [hi, , searching, the, internet, high, and, lo...  physical   1857   \n",
       "1867  [my, father, abused, my, mother, , younger, br...  physical   1867   \n",
       "\n",
       "        topic0    topic1  topic2  topic3  topic4  topic5  topic6  \\\n",
       "0     0.048854  0.000000     0.0     0.0     0.0     0.0     0.0   \n",
       "1839  0.101118  0.006354     0.0     0.0     0.0     0.0     0.0   \n",
       "1845  0.074780  0.000000     0.0     0.0     0.0     0.0     0.0   \n",
       "1857  0.041729  0.000000     0.0     0.0     0.0     0.0     0.0   \n",
       "1867  0.040410  0.000000     0.0     0.0     0.0     0.0     0.0   \n",
       "\n",
       "      Topic most represented  \\\n",
       "0                          0   \n",
       "1839                       0   \n",
       "1845                       0   \n",
       "1857                       0   \n",
       "1867                       0   \n",
       "\n",
       "                Topic and its most representative words  \n",
       "0     0: abuse, emotional, domestic, physical, tw, c...  \n",
       "1839  0: abuse, emotional, domestic, physical, tw, c...  \n",
       "1845  0: abuse, emotional, domestic, physical, tw, c...  \n",
       "1857  0: abuse, emotional, domestic, physical, tw, c...  \n",
       "1867  0: abuse, emotional, domestic, physical, tw, c...  "
      ]
     },
     "execution_count": 54,
     "metadata": {},
     "output_type": "execute_result"
    }
   ],
   "source": [
    "df_result.head()"
   ]
  },
  {
   "cell_type": "code",
   "execution_count": 56,
   "metadata": {},
   "outputs": [],
   "source": [
    "# We can also look at the distribution of topics per document.\n",
    "# We can extract the columns with topic probabilities\n",
    "\n",
    "tmp = df_result[['index', 'topic0', 'topic1', 'topic2', 'topic3', 'topic4']]\n",
    "\n",
    "## Let's sample a few documents\n",
    "tmp = tmp.sample(5)"
   ]
  },
  {
   "cell_type": "markdown",
   "metadata": {},
   "source": [
    "Let's plot these"
   ]
  },
  {
   "cell_type": "code",
   "execution_count": 57,
   "metadata": {},
   "outputs": [
    {
     "data": {
      "image/png": "[encoded data removed]",
      "text/plain": [
       "<Figure size 720x720 with 1 Axes>"
      ]
     },
     "metadata": {},
     "output_type": "display_data"
    }
   ],
   "source": [
    "ax = tmp.plot.bar(figsize=(10,10), x='index')\n",
    "ax.legend(tlist.items(), bbox_to_anchor=(1, 0.5));"
   ]
  },
  {
   "cell_type": "markdown",
   "metadata": {},
   "source": [
    "Let's look at one of these documents"
   ]
  },
  {
   "cell_type": "code",
   "execution_count": 59,
   "metadata": {},
   "outputs": [
    {
     "data": {
      "text/html": [
       "<div>\n",
       "<style scoped>\n",
       "    .dataframe tbody tr th:only-of-type {\n",
       "        vertical-align: middle;\n",
       "    }\n",
       "\n",
       "    .dataframe tbody tr th {\n",
       "        vertical-align: top;\n",
       "    }\n",
       "\n",
       "    .dataframe thead th {\n",
       "        text-align: right;\n",
       "    }\n",
       "</style>\n",
       "<table border=\"1\" class=\"dataframe\">\n",
       "  <thead>\n",
       "    <tr style=\"text-align: right;\">\n",
       "      <th></th>\n",
       "      <th>index</th>\n",
       "      <th>topic0</th>\n",
       "      <th>topic1</th>\n",
       "      <th>topic2</th>\n",
       "      <th>topic3</th>\n",
       "      <th>topic4</th>\n",
       "    </tr>\n",
       "  </thead>\n",
       "  <tbody>\n",
       "  </tbody>\n",
       "</table>\n",
       "</div>"
      ],
      "text/plain": [
       "Empty DataFrame\n",
       "Columns: [index, topic0, topic1, topic2, topic3, topic4]\n",
       "Index: []"
      ]
     },
     "execution_count": 59,
     "metadata": {},
     "output_type": "execute_result"
    }
   ],
   "source": [
    "## choose a document index and assign value to i\n",
    "i = 5# fill in value here\n",
    "tmp[tmp['index']==i]"
   ]
  },
  {
   "cell_type": "code",
   "execution_count": 60,
   "metadata": {},
   "outputs": [
    {
     "data": {
      "text/html": [
       "<div>\n",
       "<style scoped>\n",
       "    .dataframe tbody tr th:only-of-type {\n",
       "        vertical-align: middle;\n",
       "    }\n",
       "\n",
       "    .dataframe tbody tr th {\n",
       "        vertical-align: top;\n",
       "    }\n",
       "\n",
       "    .dataframe thead th {\n",
       "        text-align: right;\n",
       "    }\n",
       "</style>\n",
       "<table border=\"1\" class=\"dataframe\">\n",
       "  <thead>\n",
       "    <tr style=\"text-align: right;\">\n",
       "      <th></th>\n",
       "      <th>new_date</th>\n",
       "      <th>created</th>\n",
       "      <th>link_flair_text</th>\n",
       "      <th>title</th>\n",
       "      <th>selftext</th>\n",
       "      <th>label</th>\n",
       "      <th>index</th>\n",
       "    </tr>\n",
       "  </thead>\n",
       "  <tbody>\n",
       "    <tr>\n",
       "      <th>5</th>\n",
       "      <td>2020-03-09 09:00:00</td>\n",
       "      <td>1.583745e+09</td>\n",
       "      <td>Trigger Warning: Multiple Triggers</td>\n",
       "      <td>Why am I having nightmares years later?</td>\n",
       "      <td>[i, was, with, my, abusive, ex, for, 3, years,...</td>\n",
       "      <td>physical</td>\n",
       "      <td>5</td>\n",
       "    </tr>\n",
       "  </tbody>\n",
       "</table>\n",
       "</div>"
      ],
      "text/plain": [
       "              new_date       created                     link_flair_text  \\\n",
       "5  2020-03-09 09:00:00  1.583745e+09  Trigger Warning: Multiple Triggers   \n",
       "\n",
       "                                     title  \\\n",
       "5  Why am I having nightmares years later?   \n",
       "\n",
       "                                            selftext     label  index  \n",
       "5  [i, was, with, my, abusive, ex, for, 3, years,...  physical      5  "
      ]
     },
     "execution_count": 60,
     "metadata": {},
     "output_type": "execute_result"
    }
   ],
   "source": [
    "## which category did it belong to?\n",
    "df_smaller[df_smaller['index']==i]"
   ]
  },
  {
   "cell_type": "code",
   "execution_count": 61,
   "metadata": {},
   "outputs": [
    {
     "data": {
      "text/plain": [
       "[['i',\n",
       "  'was',\n",
       "  'with',\n",
       "  'my',\n",
       "  'abusive',\n",
       "  'ex',\n",
       "  'for',\n",
       "  '3',\n",
       "  'years',\n",
       "  '',\n",
       "  'he',\n",
       "  'was',\n",
       "  'abusive',\n",
       "  'in',\n",
       "  'every',\n",
       "  'way',\n",
       "  'possible',\n",
       "  '',\n",
       "  'mentally',\n",
       "  '',\n",
       "  'sexually',\n",
       "  '',\n",
       "  'verbally',\n",
       "  '',\n",
       "  'emotionally',\n",
       "  '',\n",
       "  'and',\n",
       "  'sometimes',\n",
       "  'physically',\n",
       "  '',\n",
       "  'i',\n",
       "  'tried',\n",
       "  'tow',\n",
       "  'leave',\n",
       "  'multiple',\n",
       "  'times',\n",
       "  'but',\n",
       "  'of',\n",
       "  'course',\n",
       "  'he',\n",
       "  'didn',\n",
       "  'make',\n",
       "  'it',\n",
       "  'easy',\n",
       "  '',\n",
       "  'he',\n",
       "  'threaten',\n",
       "  'to',\n",
       "  'kill',\n",
       "  'himself',\n",
       "  '',\n",
       "  'he',\n",
       "  'stalked',\n",
       "  'me',\n",
       "  '',\n",
       "  'harassed',\n",
       "  'me',\n",
       "  '',\n",
       "  'i',\n",
       "  'blocked',\n",
       "  'his',\n",
       "  'number',\n",
       "  '',\n",
       "  'he',\n",
       "  'call',\n",
       "  'with',\n",
       "  'a',\n",
       "  'block',\n",
       "  'number',\n",
       "  '',\n",
       "  'over',\n",
       "  'and',\n",
       "  'over',\n",
       "  'and',\n",
       "  'over',\n",
       "  'again',\n",
       "  '',\n",
       "  '',\n",
       "  'i',\n",
       "  'have',\n",
       "  'up',\n",
       "  'to',\n",
       "  '500',\n",
       "  'missed',\n",
       "  'calls',\n",
       "  'a',\n",
       "  'night',\n",
       "  '',\n",
       "  '',\n",
       "  'i',\n",
       "  'block',\n",
       "  'his',\n",
       "  'email',\n",
       "  '',\n",
       "  'he',\n",
       "  'make',\n",
       "  'a',\n",
       "  'new',\n",
       "  'one',\n",
       "  'and',\n",
       "  'blast',\n",
       "  'me',\n",
       "  'with',\n",
       "  'crude',\n",
       "  '',\n",
       "  'heart',\n",
       "  'breaking',\n",
       "  'emails',\n",
       "  'containing',\n",
       "  'insults',\n",
       "  '',\n",
       "  'was',\n",
       "  'called',\n",
       "  'every',\n",
       "  'name',\n",
       "  'in',\n",
       "  'the',\n",
       "  'book',\n",
       "  '',\n",
       "  'amp',\n",
       "  '',\n",
       "  'then',\n",
       "  'some',\n",
       "  '',\n",
       "  '',\n",
       "  'stick',\n",
       "  'and',\n",
       "  'stones',\n",
       "  '',\n",
       "  '',\n",
       "  'after',\n",
       "  'many',\n",
       "  'attempts',\n",
       "  'to',\n",
       "  'leave',\n",
       "  'on',\n",
       "  'my',\n",
       "  'own',\n",
       "  '',\n",
       "  'it',\n",
       "  'always',\n",
       "  'end',\n",
       "  'the',\n",
       "  'same',\n",
       "  '',\n",
       "  'at',\n",
       "  'one',\n",
       "  'point',\n",
       "  'i',\n",
       "  'gave',\n",
       "  'up',\n",
       "  'as',\n",
       "  'i',\n",
       "  'remembered',\n",
       "  'feeling',\n",
       "  'like',\n",
       "  'my',\n",
       "  'life',\n",
       "  'was',\n",
       "  'harder',\n",
       "  'without',\n",
       "  'him',\n",
       "  'than',\n",
       "  'with',\n",
       "  'him',\n",
       "  '',\n",
       "  'he',\n",
       "  'made',\n",
       "  'sure',\n",
       "  'of',\n",
       "  'that',\n",
       "  '',\n",
       "  'it',\n",
       "  'took',\n",
       "  'the',\n",
       "  'help',\n",
       "  'of',\n",
       "  'a',\n",
       "  'friend',\n",
       "  'and',\n",
       "  'the',\n",
       "  'cops',\n",
       "  'for',\n",
       "  'me',\n",
       "  'to',\n",
       "  'get',\n",
       "  'out',\n",
       "  '',\n",
       "  'i',\n",
       "  'still',\n",
       "  'can',\n",
       "  'believe',\n",
       "  'i',\n",
       "  'out',\n",
       "  'and',\n",
       "  'i',\n",
       "  'forever',\n",
       "  'grateful',\n",
       "  '',\n",
       "  'weeks',\n",
       "  'and',\n",
       "  'months',\n",
       "  'following',\n",
       "  'the',\n",
       "  'breakup',\n",
       "  '',\n",
       "  'i',\n",
       "  'felt',\n",
       "  'fine',\n",
       "  '',\n",
       "  'i',\n",
       "  'looked',\n",
       "  'at',\n",
       "  'it',\n",
       "  'as',\n",
       "  'a',\n",
       "  'new',\n",
       "  'start',\n",
       "  'and',\n",
       "  'had',\n",
       "  'a',\n",
       "  'positive',\n",
       "  'outlook',\n",
       "  'on',\n",
       "  'life',\n",
       "  '',\n",
       "  'but',\n",
       "  'a',\n",
       "  'year',\n",
       "  'to',\n",
       "  '2',\n",
       "  'years',\n",
       "  'later',\n",
       "  'i',\n",
       "  'started',\n",
       "  'to',\n",
       "  'get',\n",
       "  'paranoid',\n",
       "  '',\n",
       "  'i',\n",
       "  'feel',\n",
       "  'like',\n",
       "  'he',\n",
       "  'was',\n",
       "  'around',\n",
       "  'watching',\n",
       "  'me',\n",
       "  '',\n",
       "  'as',\n",
       "  'he',\n",
       "  'often',\n",
       "  'did',\n",
       "  '',\n",
       "  'one',\n",
       "  'time',\n",
       "  'in',\n",
       "  'walmart',\n",
       "  'i',\n",
       "  'saw',\n",
       "  'his',\n",
       "  'doppelgã¤nger',\n",
       "  'and',\n",
       "  'i',\n",
       "  'couldn',\n",
       "  'breathe',\n",
       "  '',\n",
       "  'my',\n",
       "  'heart',\n",
       "  'dropped',\n",
       "  'and',\n",
       "  'i',\n",
       "  'just',\n",
       "  'wanted',\n",
       "  'to',\n",
       "  'die',\n",
       "  '',\n",
       "  'i',\n",
       "  'managed',\n",
       "  'to',\n",
       "  'leave',\n",
       "  'without',\n",
       "  'attracting',\n",
       "  'attention',\n",
       "  'to',\n",
       "  'myself',\n",
       "  '',\n",
       "  'more',\n",
       "  'recently',\n",
       "  '',\n",
       "  'ie',\n",
       "  'been',\n",
       "  'having',\n",
       "  'vivid',\n",
       "  'nightmares',\n",
       "  'of',\n",
       "  'him',\n",
       "  '',\n",
       "  'tonight',\n",
       "  'is',\n",
       "  'the',\n",
       "  '2nd',\n",
       "  'or',\n",
       "  '3rd',\n",
       "  'time',\n",
       "  'it',\n",
       "  'happened',\n",
       "  '',\n",
       "  '',\n",
       "  'i',\n",
       "  'can',\n",
       "  'recall',\n",
       "  '',\n",
       "  'the',\n",
       "  'nightmares',\n",
       "  'are',\n",
       "  'months',\n",
       "  'apart',\n",
       "  '',\n",
       "  'they',\n",
       "  'wake',\n",
       "  'me',\n",
       "  'in',\n",
       "  'the',\n",
       "  'middle',\n",
       "  'of',\n",
       "  'the',\n",
       "  'night',\n",
       "  '',\n",
       "  'leave',\n",
       "  'me',\n",
       "  'in',\n",
       "  'uncontrollable',\n",
       "  'tears',\n",
       "  '',\n",
       "  'hot',\n",
       "  '',\n",
       "  'with',\n",
       "  'shortness',\n",
       "  'of',\n",
       "  'breath',\n",
       "  '',\n",
       "  'i',\n",
       "  'unable',\n",
       "  'to',\n",
       "  'return',\n",
       "  'to',\n",
       "  'sleep',\n",
       "  '',\n",
       "  'i',\n",
       "  'can',\n",
       "  'move',\n",
       "  '',\n",
       "  'i',\n",
       "  'feel',\n",
       "  'like',\n",
       "  'i',\n",
       "  'being',\n",
       "  'watched',\n",
       "  'and',\n",
       "  'i',\n",
       "  'fear',\n",
       "  'for',\n",
       "  'my',\n",
       "  'life',\n",
       "  '',\n",
       "  'i',\n",
       "  'know',\n",
       "  'i',\n",
       "  'paranoid',\n",
       "  '',\n",
       "  'but',\n",
       "  'why',\n",
       "  'now',\n",
       "  '',\n",
       "  'i',\n",
       "  'thought',\n",
       "  'i',\n",
       "  'was',\n",
       "  'healing',\n",
       "  'nicely',\n",
       "  '',\n",
       "  'why',\n",
       "  'is',\n",
       "  'my',\n",
       "  'brain',\n",
       "  'doing',\n",
       "  'this',\n",
       "  'to',\n",
       "  'me',\n",
       "  '3',\n",
       "  'years',\n",
       "  'later',\n",
       "  '']]"
      ]
     },
     "execution_count": 61,
     "metadata": {},
     "output_type": "execute_result"
    }
   ],
   "source": [
    "## what's in the document? does the generated topic distribution make sense?\n",
    "df_smaller[df_smaller['index']==i]['selftext'].tolist()"
   ]
  },
  {
   "cell_type": "code",
   "execution_count": 62,
   "metadata": {},
   "outputs": [
    {
     "data": {
      "text/html": [
       "<div>\n",
       "<style scoped>\n",
       "    .dataframe tbody tr th:only-of-type {\n",
       "        vertical-align: middle;\n",
       "    }\n",
       "\n",
       "    .dataframe tbody tr th {\n",
       "        vertical-align: top;\n",
       "    }\n",
       "\n",
       "    .dataframe thead th {\n",
       "        text-align: right;\n",
       "    }\n",
       "</style>\n",
       "<table border=\"1\" class=\"dataframe\">\n",
       "  <thead>\n",
       "    <tr style=\"text-align: right;\">\n",
       "      <th></th>\n",
       "      <th>index</th>\n",
       "      <th>topic0</th>\n",
       "      <th>topic1</th>\n",
       "      <th>topic2</th>\n",
       "      <th>topic3</th>\n",
       "      <th>topic4</th>\n",
       "    </tr>\n",
       "  </thead>\n",
       "  <tbody>\n",
       "  </tbody>\n",
       "</table>\n",
       "</div>"
      ],
      "text/plain": [
       "Empty DataFrame\n",
       "Columns: [index, topic0, topic1, topic2, topic3, topic4]\n",
       "Index: []"
      ]
     },
     "execution_count": 62,
     "metadata": {},
     "output_type": "execute_result"
    }
   ],
   "source": [
    "## this is another example\n",
    "i = 72\n",
    "tmp[tmp['index']==i]"
   ]
  },
  {
   "cell_type": "code",
   "execution_count": 63,
   "metadata": {},
   "outputs": [
    {
     "data": {
      "text/html": [
       "<div>\n",
       "<style scoped>\n",
       "    .dataframe tbody tr th:only-of-type {\n",
       "        vertical-align: middle;\n",
       "    }\n",
       "\n",
       "    .dataframe tbody tr th {\n",
       "        vertical-align: top;\n",
       "    }\n",
       "\n",
       "    .dataframe thead th {\n",
       "        text-align: right;\n",
       "    }\n",
       "</style>\n",
       "<table border=\"1\" class=\"dataframe\">\n",
       "  <thead>\n",
       "    <tr style=\"text-align: right;\">\n",
       "      <th></th>\n",
       "      <th>new_date</th>\n",
       "      <th>created</th>\n",
       "      <th>link_flair_text</th>\n",
       "      <th>title</th>\n",
       "      <th>selftext</th>\n",
       "      <th>label</th>\n",
       "      <th>index</th>\n",
       "    </tr>\n",
       "  </thead>\n",
       "  <tbody>\n",
       "    <tr>\n",
       "      <th>72</th>\n",
       "      <td>2020-05-09 04:00:00</td>\n",
       "      <td>1.588995e+09</td>\n",
       "      <td>Family Abuse</td>\n",
       "      <td>Can my dad turn this on me?</td>\n",
       "      <td>[my, dad, has, been, abusive, for, years, now,...</td>\n",
       "      <td>physical</td>\n",
       "      <td>72</td>\n",
       "    </tr>\n",
       "  </tbody>\n",
       "</table>\n",
       "</div>"
      ],
      "text/plain": [
       "               new_date       created link_flair_text  \\\n",
       "72  2020-05-09 04:00:00  1.588995e+09    Family Abuse   \n",
       "\n",
       "                          title  \\\n",
       "72  Can my dad turn this on me?   \n",
       "\n",
       "                                             selftext     label  index  \n",
       "72  [my, dad, has, been, abusive, for, years, now,...  physical     72  "
      ]
     },
     "execution_count": 63,
     "metadata": {},
     "output_type": "execute_result"
    }
   ],
   "source": [
    "df_smaller[df_smaller['index']==i]"
   ]
  },
  {
   "cell_type": "code",
   "execution_count": 64,
   "metadata": {},
   "outputs": [
    {
     "data": {
      "text/plain": [
       "[['my',\n",
       "  'dad',\n",
       "  'has',\n",
       "  'been',\n",
       "  'abusive',\n",
       "  'for',\n",
       "  'years',\n",
       "  'now',\n",
       "  '',\n",
       "  'he',\n",
       "  'has',\n",
       "  'choked',\n",
       "  'me',\n",
       "  'and',\n",
       "  'hit',\n",
       "  'me',\n",
       "  'before',\n",
       "  'also',\n",
       "  'he',\n",
       "  'manipulative',\n",
       "  'and',\n",
       "  'controlling',\n",
       "  '',\n",
       "  'he',\n",
       "  'also',\n",
       "  'threatened',\n",
       "  'to',\n",
       "  'kill',\n",
       "  'himself',\n",
       "  'when',\n",
       "  'i',\n",
       "  'was',\n",
       "  '11',\n",
       "  '',\n",
       "  'when',\n",
       "  'we',\n",
       "  'fight',\n",
       "  'he',\n",
       "  'got',\n",
       "  'me',\n",
       "  'to',\n",
       "  'the',\n",
       "  'point',\n",
       "  'where',\n",
       "  'i',\n",
       "  'either',\n",
       "  'wanted',\n",
       "  'to',\n",
       "  'kill',\n",
       "  'myself',\n",
       "  'or',\n",
       "  'him',\n",
       "  '',\n",
       "  'they',\n",
       "  'say',\n",
       "  'it',\n",
       "  's',\n",
       "  'me',\n",
       "  'that',\n",
       "  'abuses',\n",
       "  'them',\n",
       "  'and',\n",
       "  'yes',\n",
       "  'i',\n",
       "  'agree',\n",
       "  'that',\n",
       "  'happened',\n",
       "  'but',\n",
       "  'only',\n",
       "  'after',\n",
       "  'i',\n",
       "  'have',\n",
       "  'been',\n",
       "  'exposed',\n",
       "  'to',\n",
       "  'abuse',\n",
       "  'myself',\n",
       "  '',\n",
       "  'i',\n",
       "  'want',\n",
       "  'to',\n",
       "  'take',\n",
       "  'some',\n",
       "  'action',\n",
       "  'against',\n",
       "  'him',\n",
       "  'but',\n",
       "  'my',\n",
       "  'mum',\n",
       "  'is',\n",
       "  'playing',\n",
       "  'dumb',\n",
       "  'when',\n",
       "  'i',\n",
       "  'tried',\n",
       "  'to',\n",
       "  'talk',\n",
       "  'to',\n",
       "  'her',\n",
       "  'about',\n",
       "  'it',\n",
       "  'and',\n",
       "  'saying',\n",
       "  'it',\n",
       "  'was',\n",
       "  'me',\n",
       "  'abusing',\n",
       "  'them',\n",
       "  'and',\n",
       "  'that',\n",
       "  'i',\n",
       "  'got',\n",
       "  'dad',\n",
       "  'to',\n",
       "  'be',\n",
       "  'abusive',\n",
       "  '',\n",
       "  'i',\n",
       "  'have',\n",
       "  'never',\n",
       "  'been',\n",
       "  'violent',\n",
       "  'or',\n",
       "  'manipulative',\n",
       "  'during',\n",
       "  'fights',\n",
       "  'with',\n",
       "  'anyone',\n",
       "  'else',\n",
       "  'and',\n",
       "  'my',\n",
       "  'bf',\n",
       "  'helped',\n",
       "  'me',\n",
       "  'manage',\n",
       "  'my',\n",
       "  'hurting',\n",
       "  'so',\n",
       "  'that',\n",
       "  'when',\n",
       "  'my',\n",
       "  'dad',\n",
       "  'pushes',\n",
       "  'my',\n",
       "  'buttons',\n",
       "  'i',\n",
       "  'do',\n",
       "  'nt',\n",
       "  'break',\n",
       "  'and',\n",
       "  'start',\n",
       "  'fighting',\n",
       "  'back',\n",
       "  '',\n",
       "  'whenever',\n",
       "  'my',\n",
       "  'dad',\n",
       "  'gets',\n",
       "  'me',\n",
       "  'to',\n",
       "  'that',\n",
       "  'point',\n",
       "  'he',\n",
       "  'starts',\n",
       "  'filming',\n",
       "  'it',\n",
       "  'and',\n",
       "  'pretending',\n",
       "  'he',\n",
       "  's',\n",
       "  'innocent',\n",
       "  '',\n",
       "  'what',\n",
       "  'do',\n",
       "  'i',\n",
       "  'do',\n",
       "  '']]"
      ]
     },
     "execution_count": 64,
     "metadata": {},
     "output_type": "execute_result"
    }
   ],
   "source": [
    "df_smaller[df_smaller['index']==i]['selftext'].tolist()"
   ]
  },
  {
   "cell_type": "code",
   "execution_count": null,
   "metadata": {},
   "outputs": [],
   "source": []
  },
  {
   "cell_type": "code",
   "execution_count": null,
   "metadata": {},
   "outputs": [],
   "source": []
  },
  {
   "cell_type": "code",
   "execution_count": null,
   "metadata": {},
   "outputs": [],
   "source": []
  }
 ],
 "metadata": {
  "kernelspec": {
   "display_name": "Python 3 (ipykernel)",
   "language": "python",
   "name": "python3"
  },
  "language_info": {
   "codemirror_mode": {
    "name": "ipython",
    "version": 3
   },
   "file_extension": ".py",
   "mimetype": "text/x-python",
   "name": "python",
   "nbconvert_exporter": "python",
   "pygments_lexer": "ipython3",
   "version": "3.8.8"
  }
 },
 "nbformat": 4,
 "nbformat_minor": 2
}
